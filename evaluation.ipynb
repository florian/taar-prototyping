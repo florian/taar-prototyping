{
 "cells": [
  {
   "cell_type": "markdown",
   "metadata": {},
   "source": [
    "# TAAR – Evaluating existing recommenders\n",
    "\n",
    "Not every recommender can always make a recommendation. To evaluate the individual recommenders for the ensemble, we want to find out how often this is the case and how well the recommenders complement each other.\n",
    "\n",
    "This notebook either needs to be executed in the [TAAR](http://github.com/mozilla/taar) repository or somewhere where TAAR is in the Python path, because some TAAR recommenders are loaded in."
   ]
  },
  {
   "cell_type": "markdown",
   "metadata": {},
   "source": [
    "## Retrieving the relevant variables from the longitudinal dataset"
   ]
  },
  {
   "cell_type": "code",
   "execution_count": 54,
   "metadata": {
    "collapsed": false
   },
   "outputs": [
    {
     "name": "stdout",
     "output_type": "stream",
     "text": [
      "CPU times: user 128 ms, sys: 28 ms, total: 156 ms\n",
      "Wall time: 18min 16s\n"
     ]
    }
   ],
   "source": [
    "%%time\n",
    "frame = sqlContext.sql(\"\"\"\n",
    "WITH addons AS (\n",
    "    SELECT client_id, feature_row.*\n",
    "    FROM longitudinal\n",
    "    LATERAL VIEW explode(active_addons[1]) feature_row\n",
    "),\n",
    "    \n",
    "non_system_addons AS(\n",
    "    SELECT client_id, collect_set(key) AS installed_addons\n",
    "    FROM addons\n",
    "    WHERE NOT value.is_system\n",
    "    GROUP BY client_id\n",
    ")\n",
    "\n",
    "SELECT\n",
    "    l.client_id,\n",
    "    non_system_addons.installed_addons,\n",
    "    l.settings[1].locale AS locale,\n",
    "    l.geo_city[1] AS geoCity,\n",
    "    subsession_length[1] AS subsessionLength,\n",
    "    system_os[1].name AS os,\n",
    "    scalar_parent_browser_engagement_total_uri_count[1].value AS total_uri,\n",
    "    scalar_parent_browser_engagement_tab_open_event_count[1].value as tab_open_count,\n",
    "    places_bookmarks_count[1].sum as bookmark_count,\n",
    "    scalar_parent_browser_engagement_unique_domains_count[1].value as unique_tlds\n",
    "FROM longitudinal l LEFT OUTER JOIN non_system_addons\n",
    "ON l.client_id = non_system_addons.client_id\n",
    "\"\"\")\n",
    "\n",
    "rdd = frame.rdd"
   ]
  },
  {
   "cell_type": "markdown",
   "metadata": {},
   "source": [
    "## Loading addon data (AMO)\n",
    "\n",
    "We need to load the addon database to find out which addons are legacy addons."
   ]
  },
  {
   "cell_type": "code",
   "execution_count": 3,
   "metadata": {
    "collapsed": false
   },
   "outputs": [],
   "source": [
    "from taar.recommenders.utils import get_s3_json_content"
   ]
  },
  {
   "cell_type": "code",
   "execution_count": 4,
   "metadata": {
    "collapsed": true
   },
   "outputs": [],
   "source": [
    "AMO_DUMP_BUCKET = 'telemetry-parquet'\n",
    "AMO_DUMP_KEY = 'telemetry-ml/addon_recommender/addons_database.json'"
   ]
  },
  {
   "cell_type": "code",
   "execution_count": 5,
   "metadata": {
    "collapsed": false
   },
   "outputs": [],
   "source": [
    "amo_dump = get_s3_json_content(AMO_DUMP_BUCKET, AMO_DUMP_KEY)"
   ]
  },
  {
   "cell_type": "markdown",
   "metadata": {},
   "source": [
    "## Filtering out legacy addons\n",
    "\n",
    "This is a helper function that takes a list of addon IDs and only returns the IDs that are from legacy addons."
   ]
  },
  {
   "cell_type": "code",
   "execution_count": 6,
   "metadata": {
    "collapsed": true
   },
   "outputs": [],
   "source": [
    "def get_legacy_addons(installed_addons):\n",
    "    legacy_addons = []\n",
    "    \n",
    "    for addon_id in installed_addons:\n",
    "        if addon_id in amo_dump:\n",
    "            addon = amo_dump[addon_id]\n",
    "            addon_files = addon.get('current_version', {}).get('files', {})\n",
    "\n",
    "            is_webextension = any([f.get(\"is_webextension\", False) for f in addon_files])\n",
    "            is_legacy = not is_webextension\n",
    "\n",
    "            if is_legacy:\n",
    "                legacy_addons.append(addon_id)\n",
    "            \n",
    "    return legacy_addons"
   ]
  },
  {
   "cell_type": "markdown",
   "metadata": {},
   "source": [
    "## Completing client data"
   ]
  },
  {
   "cell_type": "code",
   "execution_count": 7,
   "metadata": {
    "collapsed": true
   },
   "outputs": [],
   "source": [
    "def complete_client_data(client_data):\n",
    "    client = client_data.asDict()\n",
    "    \n",
    "    client['installed_addons'] = client['installed_addons'] or []\n",
    "    client['disabled_addon_ids'] = get_legacy_addons(client['installed_addons'])\n",
    "    client['locale'] = str(client['locale'])\n",
    "    \n",
    "    return client"
   ]
  },
  {
   "cell_type": "markdown",
   "metadata": {},
   "source": [
    "## Evaluating the existing recommenders\n",
    "\n",
    "To check if a recommender is able to make a recommendation, it's sometimes easier and cleaner to directly query it instead of checking the important attributes ourselves. For example, this is the case for the locale recommender."
   ]
  },
  {
   "cell_type": "code",
   "execution_count": 8,
   "metadata": {
    "collapsed": true
   },
   "outputs": [],
   "source": [
    "from taar.recommenders import CollaborativeRecommender, LegacyRecommender, LocaleRecommender"
   ]
  },
  {
   "cell_type": "code",
   "execution_count": 9,
   "metadata": {
    "collapsed": true
   },
   "outputs": [],
   "source": [
    "class DummySimilarityRecommender:\n",
    "    def can_recommend(self, client_data):\n",
    "        REQUIRED_FIELDS = [\"geoCity\", \"subsessionLength\", \"locale\", \"os\", \"bookmark_count\", \"tab_open_count\",\n",
    "                           \"total_uri\", \"unique_tlds\"]\n",
    "\n",
    "        has_fields = all([client_data.get(f, None) is not None for f in REQUIRED_FIELDS])\n",
    "        return has_fields"
   ]
  },
  {
   "cell_type": "code",
   "execution_count": 10,
   "metadata": {
    "collapsed": false
   },
   "outputs": [],
   "source": [
    "recommenders = {\n",
    "    \"collaborative\": CollaborativeRecommender(),\n",
    "    \"legacy\": LegacyRecommender(),\n",
    "    \"locale\": LocaleRecommender(),\n",
    "    \"similarity\": DummySimilarityRecommender()\n",
    "}"
   ]
  },
  {
   "cell_type": "code",
   "execution_count": 11,
   "metadata": {
    "collapsed": true
   },
   "outputs": [],
   "source": [
    "def test_recommenders(client):\n",
    "    return tuple([recommender.can_recommend(client) for recommender in recommenders.values()])"
   ]
  },
  {
   "cell_type": "markdown",
   "metadata": {},
   "source": [
    "## Computing combined counts"
   ]
  },
  {
   "cell_type": "markdown",
   "metadata": {},
   "source": [
    "We iterate over all clients in the longitudinal dataset, change the attributes to the expected format and then query the individual recommenders."
   ]
  },
  {
   "cell_type": "code",
   "execution_count": 12,
   "metadata": {
    "collapsed": true
   },
   "outputs": [],
   "source": [
    "from operator import add\n",
    "from collections import defaultdict"
   ]
  },
  {
   "cell_type": "code",
   "execution_count": 55,
   "metadata": {
    "collapsed": false
   },
   "outputs": [
    {
     "name": "stdout",
     "output_type": "stream",
     "text": [
      "CPU times: user 9.54 s, sys: 468 ms, total: 10 s\n",
      "Wall time: 11min 5s\n"
     ]
    }
   ],
   "source": [
    "%%time\n",
    "results = rdd\\\n",
    "    .map(complete_client_data)\\\n",
    "    .map(test_recommenders)\\\n",
    "    .map(lambda x: (x, 1))\\\n",
    "    .reduceByKey(add)\\\n",
    "    .collect()"
   ]
  },
  {
   "cell_type": "code",
   "execution_count": 56,
   "metadata": {
    "collapsed": false
   },
   "outputs": [],
   "source": [
    "results = defaultdict(int, results)"
   ]
  },
  {
   "cell_type": "code",
   "execution_count": 57,
   "metadata": {
    "collapsed": false
   },
   "outputs": [],
   "source": [
    "num_clients = sum(results.values())"
   ]
  },
  {
   "cell_type": "markdown",
   "metadata": {},
   "source": [
    "## Computing individual counts"
   ]
  },
  {
   "cell_type": "code",
   "execution_count": 58,
   "metadata": {
    "collapsed": false,
    "scrolled": true
   },
   "outputs": [],
   "source": [
    "individual_counts = []\n",
    "\n",
    "for i in range(len(recommenders)):\n",
    "    count = 0\n",
    "    \n",
    "    for key, key_count in results.items():\n",
    "        if key[i]:\n",
    "            count += key_count\n",
    "            \n",
    "    individual_counts.append(count)"
   ]
  },
  {
   "cell_type": "markdown",
   "metadata": {},
   "source": [
    "## Displaying the results"
   ]
  },
  {
   "cell_type": "code",
   "execution_count": 59,
   "metadata": {
    "collapsed": true
   },
   "outputs": [],
   "source": [
    "from pandas import DataFrame"
   ]
  },
  {
   "cell_type": "code",
   "execution_count": 60,
   "metadata": {
    "collapsed": true
   },
   "outputs": [],
   "source": [
    "def format_int(num):\n",
    "    return \"{:,}\".format(num)"
   ]
  },
  {
   "cell_type": "code",
   "execution_count": 61,
   "metadata": {
    "collapsed": true
   },
   "outputs": [],
   "source": [
    "def format_frequency(frequency):\n",
    "    return \"%.5f\" % frequency"
   ]
  },
  {
   "cell_type": "code",
   "execution_count": 62,
   "metadata": {
    "collapsed": true
   },
   "outputs": [],
   "source": [
    "def get_relative_counts(counts, total=num_clients):\n",
    "    return [format_frequency(count / float(total)) for count in counts]"
   ]
  },
  {
   "cell_type": "markdown",
   "metadata": {},
   "source": [
    "This is a bit hacky. Sorting a data frame by formatted counts does not work; so we have to add the unformatted ones, sort the data frame, and then remove that column again."
   ]
  },
  {
   "cell_type": "code",
   "execution_count": 63,
   "metadata": {
    "collapsed": true
   },
   "outputs": [],
   "source": [
    "def sorted_dataframe(df, order, key=\"unformatted_counts\"):\n",
    "    df[key] = order\n",
    "    return df.sort_values(by=key, ascending=False).drop(key, axis=1)"
   ]
  },
  {
   "cell_type": "markdown",
   "metadata": {},
   "source": [
    "### Individual counts"
   ]
  },
  {
   "cell_type": "code",
   "execution_count": 65,
   "metadata": {
    "collapsed": false,
    "scrolled": true
   },
   "outputs": [
    {
     "data": {
      "text/html": [
       "<div>\n",
       "<table border=\"1\" class=\"dataframe\">\n",
       "  <thead>\n",
       "    <tr style=\"text-align: right;\">\n",
       "      <th></th>\n",
       "      <th>Relative count</th>\n",
       "    </tr>\n",
       "  </thead>\n",
       "  <tbody>\n",
       "    <tr>\n",
       "      <th>locale</th>\n",
       "      <td>0.89227</td>\n",
       "    </tr>\n",
       "    <tr>\n",
       "      <th>collaborative</th>\n",
       "      <td>0.37663</td>\n",
       "    </tr>\n",
       "    <tr>\n",
       "      <th>similarity</th>\n",
       "      <td>0.27520</td>\n",
       "    </tr>\n",
       "    <tr>\n",
       "      <th>legacy</th>\n",
       "      <td>0.01470</td>\n",
       "    </tr>\n",
       "  </tbody>\n",
       "</table>\n",
       "</div>"
      ],
      "text/plain": [
       "              Relative count\n",
       "locale               0.89227\n",
       "collaborative        0.37663\n",
       "similarity           0.27520\n",
       "legacy               0.01470"
      ]
     },
     "execution_count": 65,
     "metadata": {},
     "output_type": "execute_result"
    }
   ],
   "source": [
    "df = DataFrame(index=recommenders.keys(),\n",
    "          columns=[\"Relative count\"],\n",
    "          data=get_relative_counts(individual_counts)\n",
    ")\n",
    "\n",
    "sorted_dataframe(df, individual_counts)"
   ]
  },
  {
   "cell_type": "markdown",
   "metadata": {},
   "source": [
    "$\\implies$ The locale and collaborative recommenders are able to generate recommendations most of the time. The legacy recommender can only make recommendations very seldomly as not many users seem to have (legacy) addons installed."
   ]
  },
  {
   "cell_type": "markdown",
   "metadata": {},
   "source": [
    "### Combined counts\n",
    "\n",
    "It's interesting to see how well the individual recommenders complement each other. In the following, we count how often different combinations of the recommenders can make recommendations.\n",
    "\n",
    "The table is easier to read if cells are empty if a recommender is not available. If this is not desired, these variables can be changed:"
   ]
  },
  {
   "cell_type": "code",
   "execution_count": 98,
   "metadata": {
    "collapsed": true
   },
   "outputs": [],
   "source": [
    "recommender_available_label = \"Available\"\n",
    "recommender_unavailable_label = \"\""
   ]
  },
  {
   "cell_type": "code",
   "execution_count": 99,
   "metadata": {
    "collapsed": false
   },
   "outputs": [],
   "source": [
    "def format_labels(keys):\n",
    "    return tuple([recommender_available_label if key else recommender_unavailable_label for key in keys])"
   ]
  },
  {
   "cell_type": "code",
   "execution_count": 100,
   "metadata": {
    "collapsed": false
   },
   "outputs": [],
   "source": [
    "def format_data(keys, counts):\n",
    "    formatted_keys = map(format_labels, keys)\n",
    "    return [elems + (count,) for elems, count in zip(formatted_keys, *counts)]"
   ]
  },
  {
   "cell_type": "code",
   "execution_count": 101,
   "metadata": {
    "collapsed": false
   },
   "outputs": [],
   "source": [
    "columns = recommenders.keys() + [\"Relative counts\"]\n",
    "\n",
    "counts = get_relative_counts(results.values())\n",
    "data = format_data(results.keys(), [counts])"
   ]
  },
  {
   "cell_type": "code",
   "execution_count": 102,
   "metadata": {
    "collapsed": false,
    "scrolled": true
   },
   "outputs": [
    {
     "data": {
      "text/html": [
       "<div>\n",
       "<table border=\"1\" class=\"dataframe\">\n",
       "  <thead>\n",
       "    <tr style=\"text-align: right;\">\n",
       "      <th></th>\n",
       "      <th>locale</th>\n",
       "      <th>legacy</th>\n",
       "      <th>collaborative</th>\n",
       "      <th>similarity</th>\n",
       "      <th>Relative counts</th>\n",
       "    </tr>\n",
       "  </thead>\n",
       "  <tbody>\n",
       "    <tr>\n",
       "      <th>1</th>\n",
       "      <td>Available</td>\n",
       "      <td></td>\n",
       "      <td></td>\n",
       "      <td></td>\n",
       "      <td>0.38608</td>\n",
       "    </tr>\n",
       "    <tr>\n",
       "      <th>3</th>\n",
       "      <td>Available</td>\n",
       "      <td></td>\n",
       "      <td>Available</td>\n",
       "      <td></td>\n",
       "      <td>0.22323</td>\n",
       "    </tr>\n",
       "    <tr>\n",
       "      <th>0</th>\n",
       "      <td>Available</td>\n",
       "      <td></td>\n",
       "      <td>Available</td>\n",
       "      <td>Available</td>\n",
       "      <td>0.13861</td>\n",
       "    </tr>\n",
       "    <tr>\n",
       "      <th>5</th>\n",
       "      <td>Available</td>\n",
       "      <td></td>\n",
       "      <td></td>\n",
       "      <td>Available</td>\n",
       "      <td>0.12965</td>\n",
       "    </tr>\n",
       "    <tr>\n",
       "      <th>2</th>\n",
       "      <td></td>\n",
       "      <td></td>\n",
       "      <td></td>\n",
       "      <td></td>\n",
       "      <td>0.10762</td>\n",
       "    </tr>\n",
       "    <tr>\n",
       "      <th>10</th>\n",
       "      <td>Available</td>\n",
       "      <td>Available</td>\n",
       "      <td>Available</td>\n",
       "      <td></td>\n",
       "      <td>0.00781</td>\n",
       "    </tr>\n",
       "    <tr>\n",
       "      <th>7</th>\n",
       "      <td>Available</td>\n",
       "      <td>Available</td>\n",
       "      <td>Available</td>\n",
       "      <td>Available</td>\n",
       "      <td>0.00689</td>\n",
       "    </tr>\n",
       "    <tr>\n",
       "      <th>6</th>\n",
       "      <td></td>\n",
       "      <td></td>\n",
       "      <td>Available</td>\n",
       "      <td></td>\n",
       "      <td>0.00005</td>\n",
       "    </tr>\n",
       "    <tr>\n",
       "      <th>9</th>\n",
       "      <td></td>\n",
       "      <td></td>\n",
       "      <td>Available</td>\n",
       "      <td>Available</td>\n",
       "      <td>0.00003</td>\n",
       "    </tr>\n",
       "    <tr>\n",
       "      <th>11</th>\n",
       "      <td></td>\n",
       "      <td></td>\n",
       "      <td></td>\n",
       "      <td>Available</td>\n",
       "      <td>0.00003</td>\n",
       "    </tr>\n",
       "    <tr>\n",
       "      <th>8</th>\n",
       "      <td></td>\n",
       "      <td>Available</td>\n",
       "      <td>Available</td>\n",
       "      <td></td>\n",
       "      <td>0.00000</td>\n",
       "    </tr>\n",
       "    <tr>\n",
       "      <th>4</th>\n",
       "      <td></td>\n",
       "      <td>Available</td>\n",
       "      <td>Available</td>\n",
       "      <td>Available</td>\n",
       "      <td>0.00000</td>\n",
       "    </tr>\n",
       "  </tbody>\n",
       "</table>\n",
       "</div>"
      ],
      "text/plain": [
       "       locale     legacy collaborative similarity Relative counts\n",
       "1   Available                                             0.38608\n",
       "3   Available                Available                    0.22323\n",
       "0   Available                Available  Available         0.13861\n",
       "5   Available                           Available         0.12965\n",
       "2                                                         0.10762\n",
       "10  Available  Available     Available                    0.00781\n",
       "7   Available  Available     Available  Available         0.00689\n",
       "6                            Available                    0.00005\n",
       "9                            Available  Available         0.00003\n",
       "11                                      Available         0.00003\n",
       "8              Available     Available                    0.00000\n",
       "4              Available     Available  Available         0.00000"
      ]
     },
     "execution_count": 102,
     "metadata": {},
     "output_type": "execute_result"
    }
   ],
   "source": [
    "df = DataFrame(columns=columns, data=data)\n",
    "sorted_dataframe(df, results.values())"
   ]
  },
  {
   "cell_type": "markdown",
   "metadata": {},
   "source": [
    "$\\implies$ If any recommender is available, then the locale recommenders is generally also available. Other than that, there is a good chance the the collaborative recommender is available.\n",
    "There is only a very small portion of cases where the similarity recommender was able to make a recommendation, when locale/collaborative were not; and not a single such case for the legacy recommender."
   ]
  },
  {
   "cell_type": "markdown",
   "metadata": {},
   "source": [
    "### Grouped by number of available recommenders"
   ]
  },
  {
   "cell_type": "code",
   "execution_count": 92,
   "metadata": {
    "collapsed": false
   },
   "outputs": [],
   "source": [
    "from itertools import groupby\n",
    "from operator import itemgetter"
   ]
  },
  {
   "cell_type": "code",
   "execution_count": 93,
   "metadata": {
    "collapsed": true
   },
   "outputs": [],
   "source": [
    "from IPython.display import display, Markdown"
   ]
  },
  {
   "cell_type": "code",
   "execution_count": 103,
   "metadata": {
    "collapsed": false
   },
   "outputs": [
    {
     "data": {
      "text/markdown": [
       "#### 0 available recommenders"
      ],
      "text/plain": [
       "<IPython.core.display.Markdown object>"
      ]
     },
     "metadata": {},
     "output_type": "display_data"
    },
    {
     "data": {
      "text/html": [
       "<div>\n",
       "<table border=\"1\" class=\"dataframe\">\n",
       "  <thead>\n",
       "    <tr style=\"text-align: right;\">\n",
       "      <th></th>\n",
       "      <th>locale</th>\n",
       "      <th>legacy</th>\n",
       "      <th>collaborative</th>\n",
       "      <th>similarity</th>\n",
       "      <th>Relative to all</th>\n",
       "      <th>Relative to this table</th>\n",
       "    </tr>\n",
       "  </thead>\n",
       "  <tbody>\n",
       "    <tr>\n",
       "      <th>0</th>\n",
       "      <td></td>\n",
       "      <td></td>\n",
       "      <td></td>\n",
       "      <td></td>\n",
       "      <td>0.10762</td>\n",
       "      <td>1.00000</td>\n",
       "    </tr>\n",
       "  </tbody>\n",
       "</table>\n",
       "</div>"
      ],
      "text/plain": [
       "  locale legacy collaborative similarity Relative to all  \\\n",
       "0                                                0.10762   \n",
       "\n",
       "  Relative to this table  \n",
       "0                1.00000  "
      ]
     },
     "metadata": {},
     "output_type": "display_data"
    },
    {
     "data": {
      "text/markdown": [
       "#### 1 available recommender"
      ],
      "text/plain": [
       "<IPython.core.display.Markdown object>"
      ]
     },
     "metadata": {},
     "output_type": "display_data"
    },
    {
     "data": {
      "text/html": [
       "<div>\n",
       "<table border=\"1\" class=\"dataframe\">\n",
       "  <thead>\n",
       "    <tr style=\"text-align: right;\">\n",
       "      <th></th>\n",
       "      <th>locale</th>\n",
       "      <th>legacy</th>\n",
       "      <th>collaborative</th>\n",
       "      <th>similarity</th>\n",
       "      <th>Relative to all</th>\n",
       "      <th>Relative to this table</th>\n",
       "    </tr>\n",
       "  </thead>\n",
       "  <tbody>\n",
       "    <tr>\n",
       "      <th>0</th>\n",
       "      <td>Available</td>\n",
       "      <td></td>\n",
       "      <td></td>\n",
       "      <td></td>\n",
       "      <td>0.38608</td>\n",
       "      <td>0.99979</td>\n",
       "    </tr>\n",
       "    <tr>\n",
       "      <th>1</th>\n",
       "      <td></td>\n",
       "      <td></td>\n",
       "      <td>Available</td>\n",
       "      <td></td>\n",
       "      <td>0.00005</td>\n",
       "      <td>0.00014</td>\n",
       "    </tr>\n",
       "    <tr>\n",
       "      <th>2</th>\n",
       "      <td></td>\n",
       "      <td></td>\n",
       "      <td></td>\n",
       "      <td>Available</td>\n",
       "      <td>0.00003</td>\n",
       "      <td>0.00007</td>\n",
       "    </tr>\n",
       "  </tbody>\n",
       "</table>\n",
       "</div>"
      ],
      "text/plain": [
       "      locale legacy collaborative similarity Relative to all  \\\n",
       "0  Available                                         0.38608   \n",
       "1                       Available                    0.00005   \n",
       "2                                  Available         0.00003   \n",
       "\n",
       "  Relative to this table  \n",
       "0                0.99979  \n",
       "1                0.00014  \n",
       "2                0.00007  "
      ]
     },
     "metadata": {},
     "output_type": "display_data"
    },
    {
     "data": {
      "text/markdown": [
       "#### 2 available recommenders"
      ],
      "text/plain": [
       "<IPython.core.display.Markdown object>"
      ]
     },
     "metadata": {},
     "output_type": "display_data"
    },
    {
     "data": {
      "text/html": [
       "<div>\n",
       "<table border=\"1\" class=\"dataframe\">\n",
       "  <thead>\n",
       "    <tr style=\"text-align: right;\">\n",
       "      <th></th>\n",
       "      <th>locale</th>\n",
       "      <th>legacy</th>\n",
       "      <th>collaborative</th>\n",
       "      <th>similarity</th>\n",
       "      <th>Relative to all</th>\n",
       "      <th>Relative to this table</th>\n",
       "    </tr>\n",
       "  </thead>\n",
       "  <tbody>\n",
       "    <tr>\n",
       "      <th>0</th>\n",
       "      <td>Available</td>\n",
       "      <td></td>\n",
       "      <td>Available</td>\n",
       "      <td></td>\n",
       "      <td>0.22323</td>\n",
       "      <td>0.63255</td>\n",
       "    </tr>\n",
       "    <tr>\n",
       "      <th>1</th>\n",
       "      <td>Available</td>\n",
       "      <td></td>\n",
       "      <td></td>\n",
       "      <td>Available</td>\n",
       "      <td>0.12965</td>\n",
       "      <td>0.36736</td>\n",
       "    </tr>\n",
       "    <tr>\n",
       "      <th>3</th>\n",
       "      <td></td>\n",
       "      <td></td>\n",
       "      <td>Available</td>\n",
       "      <td>Available</td>\n",
       "      <td>0.00003</td>\n",
       "      <td>0.00008</td>\n",
       "    </tr>\n",
       "    <tr>\n",
       "      <th>2</th>\n",
       "      <td></td>\n",
       "      <td>Available</td>\n",
       "      <td>Available</td>\n",
       "      <td></td>\n",
       "      <td>0.00000</td>\n",
       "      <td>0.00001</td>\n",
       "    </tr>\n",
       "  </tbody>\n",
       "</table>\n",
       "</div>"
      ],
      "text/plain": [
       "      locale     legacy collaborative similarity Relative to all  \\\n",
       "0  Available                Available                    0.22323   \n",
       "1  Available                           Available         0.12965   \n",
       "3                           Available  Available         0.00003   \n",
       "2             Available     Available                    0.00000   \n",
       "\n",
       "  Relative to this table  \n",
       "0                0.63255  \n",
       "1                0.36736  \n",
       "3                0.00008  \n",
       "2                0.00001  "
      ]
     },
     "metadata": {},
     "output_type": "display_data"
    },
    {
     "data": {
      "text/markdown": [
       "#### 3 available recommenders"
      ],
      "text/plain": [
       "<IPython.core.display.Markdown object>"
      ]
     },
     "metadata": {},
     "output_type": "display_data"
    },
    {
     "data": {
      "text/html": [
       "<div>\n",
       "<table border=\"1\" class=\"dataframe\">\n",
       "  <thead>\n",
       "    <tr style=\"text-align: right;\">\n",
       "      <th></th>\n",
       "      <th>locale</th>\n",
       "      <th>legacy</th>\n",
       "      <th>collaborative</th>\n",
       "      <th>similarity</th>\n",
       "      <th>Relative to all</th>\n",
       "      <th>Relative to this table</th>\n",
       "    </tr>\n",
       "  </thead>\n",
       "  <tbody>\n",
       "    <tr>\n",
       "      <th>0</th>\n",
       "      <td>Available</td>\n",
       "      <td></td>\n",
       "      <td>Available</td>\n",
       "      <td>Available</td>\n",
       "      <td>0.13861</td>\n",
       "      <td>0.94667</td>\n",
       "    </tr>\n",
       "    <tr>\n",
       "      <th>2</th>\n",
       "      <td>Available</td>\n",
       "      <td>Available</td>\n",
       "      <td>Available</td>\n",
       "      <td></td>\n",
       "      <td>0.00781</td>\n",
       "      <td>0.05332</td>\n",
       "    </tr>\n",
       "    <tr>\n",
       "      <th>1</th>\n",
       "      <td></td>\n",
       "      <td>Available</td>\n",
       "      <td>Available</td>\n",
       "      <td>Available</td>\n",
       "      <td>0.00000</td>\n",
       "      <td>0.00001</td>\n",
       "    </tr>\n",
       "  </tbody>\n",
       "</table>\n",
       "</div>"
      ],
      "text/plain": [
       "      locale     legacy collaborative similarity Relative to all  \\\n",
       "0  Available                Available  Available         0.13861   \n",
       "2  Available  Available     Available                    0.00781   \n",
       "1             Available     Available  Available         0.00000   \n",
       "\n",
       "  Relative to this table  \n",
       "0                0.94667  \n",
       "2                0.05332  \n",
       "1                0.00001  "
      ]
     },
     "metadata": {},
     "output_type": "display_data"
    },
    {
     "data": {
      "text/markdown": [
       "#### 4 available recommenders"
      ],
      "text/plain": [
       "<IPython.core.display.Markdown object>"
      ]
     },
     "metadata": {},
     "output_type": "display_data"
    },
    {
     "data": {
      "text/html": [
       "<div>\n",
       "<table border=\"1\" class=\"dataframe\">\n",
       "  <thead>\n",
       "    <tr style=\"text-align: right;\">\n",
       "      <th></th>\n",
       "      <th>locale</th>\n",
       "      <th>legacy</th>\n",
       "      <th>collaborative</th>\n",
       "      <th>similarity</th>\n",
       "      <th>Relative to all</th>\n",
       "      <th>Relative to this table</th>\n",
       "    </tr>\n",
       "  </thead>\n",
       "  <tbody>\n",
       "    <tr>\n",
       "      <th>0</th>\n",
       "      <td>Available</td>\n",
       "      <td>Available</td>\n",
       "      <td>Available</td>\n",
       "      <td>Available</td>\n",
       "      <td>0.00689</td>\n",
       "      <td>1.00000</td>\n",
       "    </tr>\n",
       "  </tbody>\n",
       "</table>\n",
       "</div>"
      ],
      "text/plain": [
       "      locale     legacy collaborative similarity Relative to all  \\\n",
       "0  Available  Available     Available  Available         0.00689   \n",
       "\n",
       "  Relative to this table  \n",
       "0                1.00000  "
      ]
     },
     "metadata": {},
     "output_type": "display_data"
    }
   ],
   "source": [
    "for num, group in groupby(sorted(results.keys(), key=sum), sum):\n",
    "    display(Markdown(\"#### %d available recommender%s\" % (num, \"s\" if num != 1 else \"\")))\n",
    "    \n",
    "    sub_keys = list(group)\n",
    "    formatted_keys = map(format_labels, sub_keys)\n",
    "    \n",
    "    sub_counts = [results[key] for key in sub_keys]\n",
    "    sub_counts_to_total = get_relative_counts(sub_counts)\n",
    "    sub_counts_to_table = get_relative_counts(sub_counts, sum(sub_counts))\n",
    "    \n",
    "    zipped_data = zip(formatted_keys, sub_counts_to_total, sub_counts_to_table)\n",
    "    data = [elems + (counts, table_counts) for elems, counts, table_counts in zipped_data]\n",
    "    \n",
    "    columns = recommenders.keys() + [\"Relative to all\", \"Relative to this table\"]\n",
    "    \n",
    "    df = DataFrame(columns=columns, data=data)\n",
    "    df = sorted_dataframe(df, sub_counts)\n",
    "    display(df)"
   ]
  }
 ],
 "metadata": {
  "anaconda-cloud": {},
  "kernelspec": {
   "display_name": "Python [default]",
   "language": "python",
   "name": "python2"
  },
  "language_info": {
   "codemirror_mode": {
    "name": "ipython",
    "version": 2
   },
   "file_extension": ".py",
   "mimetype": "text/x-python",
   "name": "python",
   "nbconvert_exporter": "python",
   "pygments_lexer": "ipython2",
   "version": "2.7.12"
  },
  "notify_time": "10",
  "toc": {
   "nav_menu": {},
   "number_sections": false,
   "sideBar": true,
   "skip_h1_title": false,
   "toc_cell": false,
   "toc_position": {},
   "toc_section_display": "block",
   "toc_window_display": true
  }
 },
 "nbformat": 4,
 "nbformat_minor": 1
}
