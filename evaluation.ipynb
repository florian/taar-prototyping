{
 "cells": [
  {
   "cell_type": "markdown",
   "metadata": {},
   "source": [
    "# TAAR – Evaluating existing recommenders\n",
    "\n",
    "Not every recommender can always make a recommendation. To evaluate the individual recommenders for the ensemble, we want to find out how often this is the case and how well the recommenders complement each other.\n",
    "\n",
    "This notebook either needs to be executed in the [TAAR](http://github.com/mozilla/taar) repository or somewhere where TAAR is in the Python path, because some TAAR recommenders are loaded in."
   ]
  },
  {
   "cell_type": "markdown",
   "metadata": {},
   "source": [
    "## Retrieving the relevant variables from the longitudinal dataset"
   ]
  },
  {
   "cell_type": "code",
   "execution_count": 3,
   "metadata": {
    "collapsed": false
   },
   "outputs": [
    {
     "name": "stdout",
     "output_type": "stream",
     "text": [
      "CPU times: user 196 ms, sys: 68 ms, total: 264 ms\n",
      "Wall time: 19min 5s\n"
     ]
    }
   ],
   "source": [
    "%%time\n",
    "frame = sqlContext.sql(\"\"\"\n",
    "WITH valid_clients AS (\n",
    "    SELECT *\n",
    "    FROM longitudinal\n",
    "    WHERE normalized_channel='release' AND build IS NOT NULL AND build[0].application_name='Firefox'\n",
    "),\n",
    "\n",
    "addons AS (\n",
    "    SELECT client_id, feature_row.*\n",
    "    FROM valid_clients\n",
    "    LATERAL VIEW explode(active_addons[0]) feature_row\n",
    "),\n",
    "    \n",
    "non_system_addons AS(\n",
    "    SELECT client_id, collect_set(key) AS installed_addons\n",
    "    FROM addons\n",
    "    WHERE NOT value.is_system\n",
    "    GROUP BY client_id\n",
    ")\n",
    "\n",
    "SELECT\n",
    "    l.client_id,\n",
    "    non_system_addons.installed_addons,\n",
    "    settings[0].locale AS locale,\n",
    "    geo_city[0] AS geoCity,\n",
    "    subsession_length[0] AS subsessionLength,\n",
    "    system_os[0].name AS os,\n",
    "    scalar_parent_browser_engagement_total_uri_count[0].value AS total_uri,\n",
    "    scalar_parent_browser_engagement_tab_open_event_count[0].value as tab_open_count,\n",
    "    places_bookmarks_count[0].sum as bookmark_count,\n",
    "    scalar_parent_browser_engagement_unique_domains_count[0].value as unique_tlds,\n",
    "    profile_creation_date[0] as profile_date,\n",
    "    submission_date[0] as submission_date\n",
    "FROM valid_clients l LEFT OUTER JOIN non_system_addons\n",
    "ON l.client_id = non_system_addons.client_id\n",
    "\"\"\")\n",
    "\n",
    "rdd = frame.rdd"
   ]
  },
  {
   "cell_type": "markdown",
   "metadata": {},
   "source": [
    "## Loading addon data (AMO)\n",
    "\n",
    "We need to load the addon database to find out which addons are considered useful by TAAR."
   ]
  },
  {
   "cell_type": "code",
   "execution_count": 4,
   "metadata": {
    "collapsed": true
   },
   "outputs": [],
   "source": [
    "import boto3\n",
    "import json\n",
    "import logging\n",
    "\n",
    "from botocore.exceptions import ClientError\n",
    "\n",
    "logging.basicConfig(level=logging.INFO)\n",
    "logger = logging.getLogger(__name__)\n",
    "\n",
    "AMO_DUMP_BUCKET = 'telemetry-parquet'\n",
    "AMO_DUMP_KEY = 'telemetry-ml/addon_recommender/addons_database.json'"
   ]
  },
  {
   "cell_type": "code",
   "execution_count": 5,
   "metadata": {
    "collapsed": false
   },
   "outputs": [],
   "source": [
    "def load_amo_external_whitelist():\n",
    "    \"\"\" Download and parse the AMO add-on whitelist.\n",
    "    :raises RuntimeError: the AMO whitelist file cannot be downloaded or contains\n",
    "                          no valid add-ons.\n",
    "    \"\"\"\n",
    "    final_whitelist = []\n",
    "    amo_dump = {}\n",
    "    try:\n",
    "        # Load the most current AMO dump JSON resource.\n",
    "        s3 = boto3.client('s3')\n",
    "        s3_contents = s3.get_object(Bucket=AMO_DUMP_BUCKET, Key=AMO_DUMP_KEY)\n",
    "        amo_dump = json.loads(s3_contents['Body'].read())\n",
    "    except ClientError:\n",
    "        logger.exception(\"Failed to download from S3\", extra={\n",
    "            \"bucket\": AMO_DUMP_BUCKET,\n",
    "            \"key\": AMO_DUMP_KEY})\n",
    "\n",
    "    # If the load fails, we will have an empty whitelist, this may be problematic.\n",
    "    for key, value in amo_dump.items():\n",
    "        addon_files = value.get('current_version', {}).get('files', {})\n",
    "        # If any of the addon files are web_extensions compatible, it can be recommended.\n",
    "        if any([f.get(\"is_webextension\", False) for f in addon_files]):\n",
    "            final_whitelist.append(value['guid'])\n",
    "\n",
    "    if len(final_whitelist) == 0:\n",
    "        raise RuntimeError(\"Empty AMO whitelist detected\")\n",
    "\n",
    "    return final_whitelist"
   ]
  },
  {
   "cell_type": "code",
   "execution_count": 6,
   "metadata": {
    "collapsed": false,
    "scrolled": true
   },
   "outputs": [
    {
     "name": "stderr",
     "output_type": "stream",
     "text": [
      "INFO:botocore.vendored.requests.packages.urllib3.connectionpool:Starting new HTTP connection (1): 169.254.169.254\n",
      "INFO:botocore.vendored.requests.packages.urllib3.connectionpool:Starting new HTTP connection (1): 169.254.169.254\n",
      "INFO:botocore.vendored.requests.packages.urllib3.connectionpool:Starting new HTTPS connection (1): s3-us-west-2.amazonaws.com\n"
     ]
    }
   ],
   "source": [
    "whitelist = set(load_amo_external_whitelist())"
   ]
  },
  {
   "cell_type": "markdown",
   "metadata": {},
   "source": [
    "## Filtering out legacy addons \n",
    "\n",
    "This is a helper function that takes a list of addon IDs and only returns the IDs of addons that are useful for TAAR."
   ]
  },
  {
   "cell_type": "code",
   "execution_count": 7,
   "metadata": {
    "collapsed": true
   },
   "outputs": [],
   "source": [
    "def get_whitelisted_addons(installed_addons):\n",
    "    return whitelist.intersection(installed_addons)"
   ]
  },
  {
   "cell_type": "markdown",
   "metadata": {},
   "source": [
    "## Completing client data"
   ]
  },
  {
   "cell_type": "code",
   "execution_count": 8,
   "metadata": {
    "collapsed": false
   },
   "outputs": [],
   "source": [
    "from dateutil.parser import parse as parse_date\n",
    "from datetime import datetime"
   ]
  },
  {
   "cell_type": "code",
   "execution_count": 9,
   "metadata": {
    "collapsed": true
   },
   "outputs": [],
   "source": [
    "def compute_weeks_ago(formatted_date):\n",
    "    try:\n",
    "        date = parse_date(formatted_date).replace(tzinfo=None)\n",
    "    except ValueError: # raised when the date is in an unknown format\n",
    "        return float(\"inf\")\n",
    "    \n",
    "    days_ago = (datetime.today() - date).days\n",
    "    return days_ago / 7"
   ]
  },
  {
   "cell_type": "code",
   "execution_count": 10,
   "metadata": {
    "collapsed": true
   },
   "outputs": [],
   "source": [
    "def complete_client_data(client_data):\n",
    "    client = client_data.asDict()\n",
    "    \n",
    "    client['installed_addons'] = client['installed_addons'] or []\n",
    "    client['disabled_addon_ids'] = get_whitelisted_addons(client['installed_addons'])\n",
    "    client['locale'] = str(client['locale'])\n",
    "    client['profile_age_in_weeks'] = compute_weeks_ago(client['profile_date'])\n",
    "    client['submission_age_in_weeks'] = compute_weeks_ago(client['submission_date'])\n",
    "    \n",
    "    return client"
   ]
  },
  {
   "cell_type": "markdown",
   "metadata": {},
   "source": [
    "## Evaluating the existing recommenders\n",
    "\n",
    "To check if a recommender is able to make a recommendation, it's sometimes easier and cleaner to directly query it instead of checking the important attributes ourselves. For example, this is the case for the locale recommender."
   ]
  },
  {
   "cell_type": "code",
   "execution_count": 11,
   "metadata": {
    "collapsed": true
   },
   "outputs": [],
   "source": [
    "from taar.recommenders import CollaborativeRecommender, LegacyRecommender, LocaleRecommender"
   ]
  },
  {
   "cell_type": "code",
   "execution_count": 12,
   "metadata": {
    "collapsed": true
   },
   "outputs": [],
   "source": [
    "class DummySimilarityRecommender:\n",
    "    def can_recommend(self, client_data):\n",
    "        REQUIRED_FIELDS = [\"geoCity\", \"subsessionLength\", \"locale\", \"os\", \"bookmark_count\", \"tab_open_count\",\n",
    "                           \"total_uri\", \"unique_tlds\"]\n",
    "\n",
    "        has_fields = all([client_data.get(f, None) is not None for f in REQUIRED_FIELDS])\n",
    "        return has_fields"
   ]
  },
  {
   "cell_type": "code",
   "execution_count": 13,
   "metadata": {
    "collapsed": false
   },
   "outputs": [
    {
     "name": "stderr",
     "output_type": "stream",
     "text": [
      "INFO:requests.packages.urllib3.connectionpool:Starting new HTTPS connection (1): s3-us-west-2.amazonaws.com\n",
      "INFO:requests.packages.urllib3.connectionpool:Starting new HTTPS connection (1): s3-us-west-2.amazonaws.com\n",
      "INFO:botocore.vendored.requests.packages.urllib3.connectionpool:Starting new HTTPS connection (1): s3-us-west-2.amazonaws.com\n",
      "INFO:botocore.vendored.requests.packages.urllib3.connectionpool:Starting new HTTPS connection (1): s3-us-west-2.amazonaws.com\n"
     ]
    }
   ],
   "source": [
    "recommenders = {\n",
    "    \"collaborative\": CollaborativeRecommender(),\n",
    "    \"legacy\": LegacyRecommender(),\n",
    "    \"locale\": LocaleRecommender(),\n",
    "    \"similarity\": DummySimilarityRecommender()\n",
    "}"
   ]
  },
  {
   "cell_type": "code",
   "execution_count": 14,
   "metadata": {
    "collapsed": true
   },
   "outputs": [],
   "source": [
    "def test_recommenders(client):\n",
    "    return tuple([recommender.can_recommend(client) for recommender in recommenders.values()])"
   ]
  },
  {
   "cell_type": "markdown",
   "metadata": {},
   "source": [
    "## Computing combined counts"
   ]
  },
  {
   "cell_type": "markdown",
   "metadata": {},
   "source": [
    "We iterate over all clients in the longitudinal dataset, change the attributes to the expected format and then query the individual recommenders."
   ]
  },
  {
   "cell_type": "code",
   "execution_count": 15,
   "metadata": {
    "collapsed": true
   },
   "outputs": [],
   "source": [
    "from operator import add\n",
    "from collections import defaultdict"
   ]
  },
  {
   "cell_type": "code",
   "execution_count": 16,
   "metadata": {
    "collapsed": false
   },
   "outputs": [],
   "source": [
    "rdd_completed = rdd.map(complete_client_data)"
   ]
  },
  {
   "cell_type": "code",
   "execution_count": 490,
   "metadata": {
    "collapsed": false
   },
   "outputs": [],
   "source": [
    "def analyse(rdd):\n",
    "    results = rdd\\\n",
    "        .map(test_recommenders)\\\n",
    "        .map(lambda x: (x, 1))\\\n",
    "        .reduceByKey(add)\\\n",
    "        .collect()\n",
    "        \n",
    "    return defaultdict(int, results)"
   ]
  },
  {
   "cell_type": "code",
   "execution_count": 491,
   "metadata": {
    "collapsed": false,
    "scrolled": true
   },
   "outputs": [
    {
     "name": "stdout",
     "output_type": "stream",
     "text": [
      "CPU times: user 1.35 s, sys: 148 ms, total: 1.5 s\n",
      "Wall time: 11min 48s\n"
     ]
    }
   ],
   "source": [
    "%time results = analyse(rdd_completed)"
   ]
  },
  {
   "cell_type": "code",
   "execution_count": 492,
   "metadata": {
    "collapsed": false
   },
   "outputs": [],
   "source": [
    "num_clients = sum(results.values())\n",
    "total_results = results"
   ]
  },
  {
   "cell_type": "markdown",
   "metadata": {},
   "source": [
    "## Computing individual counts"
   ]
  },
  {
   "cell_type": "code",
   "execution_count": 493,
   "metadata": {
    "collapsed": false,
    "scrolled": true
   },
   "outputs": [],
   "source": [
    "individual_counts = []\n",
    "\n",
    "for i in range(len(recommenders)):\n",
    "    count = 0\n",
    "    \n",
    "    for key, key_count in results.items():\n",
    "        if key[i]:\n",
    "            count += key_count\n",
    "            \n",
    "    individual_counts.append(count)"
   ]
  },
  {
   "cell_type": "markdown",
   "metadata": {},
   "source": [
    "## Displaying the results"
   ]
  },
  {
   "cell_type": "code",
   "execution_count": 122,
   "metadata": {
    "collapsed": true
   },
   "outputs": [],
   "source": [
    "from pandas import DataFrame"
   ]
  },
  {
   "cell_type": "code",
   "execution_count": 125,
   "metadata": {
    "collapsed": true
   },
   "outputs": [],
   "source": [
    "def format_int(num):\n",
    "    return \"{:,}\".format(num)"
   ]
  },
  {
   "cell_type": "code",
   "execution_count": 124,
   "metadata": {
    "collapsed": true
   },
   "outputs": [],
   "source": [
    "def format_frequency(frequency):\n",
    "    return \"%.5f\" % frequency"
   ]
  },
  {
   "cell_type": "code",
   "execution_count": 497,
   "metadata": {
    "collapsed": false
   },
   "outputs": [],
   "source": [
    "def get_relative_counts(counts, total=num_clients):\n",
    "    return [format_frequency(count / float(total)) for count in counts]"
   ]
  },
  {
   "cell_type": "markdown",
   "metadata": {},
   "source": [
    "This is a bit hacky. Sorting a data frame by formatted counts does not work; so we have to add the unformatted ones, sort the data frame, and then remove that column again."
   ]
  },
  {
   "cell_type": "code",
   "execution_count": 498,
   "metadata": {
    "collapsed": true
   },
   "outputs": [],
   "source": [
    "def sorted_dataframe(df, order, key=\"unformatted_counts\"):\n",
    "    df[key] = order\n",
    "    return df.sort_values(by=key, ascending=False).drop(key, axis=1)"
   ]
  },
  {
   "cell_type": "markdown",
   "metadata": {},
   "source": [
    "### Individual counts"
   ]
  },
  {
   "cell_type": "code",
   "execution_count": 499,
   "metadata": {
    "collapsed": false,
    "scrolled": true
   },
   "outputs": [
    {
     "data": {
      "text/html": [
       "<div>\n",
       "<table border=\"1\" class=\"dataframe\">\n",
       "  <thead>\n",
       "    <tr style=\"text-align: right;\">\n",
       "      <th></th>\n",
       "      <th>Relative count</th>\n",
       "    </tr>\n",
       "  </thead>\n",
       "  <tbody>\n",
       "    <tr>\n",
       "      <th>locale</th>\n",
       "      <td>0.99977</td>\n",
       "    </tr>\n",
       "    <tr>\n",
       "      <th>collaborative</th>\n",
       "      <td>0.41949</td>\n",
       "    </tr>\n",
       "    <tr>\n",
       "      <th>similarity</th>\n",
       "      <td>0.28339</td>\n",
       "    </tr>\n",
       "    <tr>\n",
       "      <th>legacy</th>\n",
       "      <td>0.00000</td>\n",
       "    </tr>\n",
       "  </tbody>\n",
       "</table>\n",
       "</div>"
      ],
      "text/plain": [
       "              Relative count\n",
       "locale               0.99977\n",
       "collaborative        0.41949\n",
       "similarity           0.28339\n",
       "legacy               0.00000"
      ]
     },
     "execution_count": 499,
     "metadata": {},
     "output_type": "execute_result"
    }
   ],
   "source": [
    "df = DataFrame(index=recommenders.keys(),\n",
    "          columns=[\"Relative count\"],\n",
    "          data=get_relative_counts(individual_counts)\n",
    ")\n",
    "\n",
    "sorted_dataframe(df, individual_counts)"
   ]
  },
  {
   "cell_type": "markdown",
   "metadata": {},
   "source": [
    "$\\implies$ The locale and collaborative recommenders are able to generate recommendations most of the time. The legacy recommender can only make recommendations very seldomly as not many users seem to have (legacy) addons installed."
   ]
  },
  {
   "cell_type": "markdown",
   "metadata": {},
   "source": [
    "### Combined counts\n",
    "\n",
    "It's interesting to see how well the individual recommenders complement each other. In the following, we count how often different combinations of the recommenders can make recommendations.\n",
    "\n",
    "The table is easier to read if cells are empty if a recommender is not available. If this is not desired, these variables can be changed:"
   ]
  },
  {
   "cell_type": "code",
   "execution_count": 500,
   "metadata": {
    "collapsed": true
   },
   "outputs": [],
   "source": [
    "recommender_available_label = \"Available\"\n",
    "recommender_unavailable_label = \"\""
   ]
  },
  {
   "cell_type": "code",
   "execution_count": 501,
   "metadata": {
    "collapsed": false
   },
   "outputs": [],
   "source": [
    "def format_labels(keys):\n",
    "    return tuple([recommender_available_label if key else recommender_unavailable_label for key in keys])"
   ]
  },
  {
   "cell_type": "code",
   "execution_count": 502,
   "metadata": {
    "collapsed": true
   },
   "outputs": [],
   "source": [
    "def format_data(keys, counts):\n",
    "    formatted_keys = map(format_labels, keys)\n",
    "    return [elems + count for elems, count in zip(formatted_keys, zip(*counts))]"
   ]
  },
  {
   "cell_type": "code",
   "execution_count": 503,
   "metadata": {
    "collapsed": false
   },
   "outputs": [],
   "source": [
    "columns = recommenders.keys() + [\"Relative counts\"]\n",
    "\n",
    "counts = get_relative_counts(results.values())\n",
    "data = format_data(results.keys(), [counts])"
   ]
  },
  {
   "cell_type": "code",
   "execution_count": 504,
   "metadata": {
    "collapsed": false,
    "scrolled": true
   },
   "outputs": [
    {
     "data": {
      "text/html": [
       "<div>\n",
       "<table border=\"1\" class=\"dataframe\">\n",
       "  <thead>\n",
       "    <tr style=\"text-align: right;\">\n",
       "      <th></th>\n",
       "      <th>locale</th>\n",
       "      <th>legacy</th>\n",
       "      <th>collaborative</th>\n",
       "      <th>similarity</th>\n",
       "      <th>Relative counts</th>\n",
       "    </tr>\n",
       "  </thead>\n",
       "  <tbody>\n",
       "    <tr>\n",
       "      <th>1</th>\n",
       "      <td>Available</td>\n",
       "      <td></td>\n",
       "      <td></td>\n",
       "      <td></td>\n",
       "      <td>0.44747</td>\n",
       "    </tr>\n",
       "    <tr>\n",
       "      <th>2</th>\n",
       "      <td>Available</td>\n",
       "      <td></td>\n",
       "      <td>Available</td>\n",
       "      <td></td>\n",
       "      <td>0.26897</td>\n",
       "    </tr>\n",
       "    <tr>\n",
       "      <th>0</th>\n",
       "      <td>Available</td>\n",
       "      <td></td>\n",
       "      <td>Available</td>\n",
       "      <td>Available</td>\n",
       "      <td>0.15043</td>\n",
       "    </tr>\n",
       "    <tr>\n",
       "      <th>4</th>\n",
       "      <td>Available</td>\n",
       "      <td></td>\n",
       "      <td></td>\n",
       "      <td>Available</td>\n",
       "      <td>0.13290</td>\n",
       "    </tr>\n",
       "    <tr>\n",
       "      <th>6</th>\n",
       "      <td></td>\n",
       "      <td></td>\n",
       "      <td></td>\n",
       "      <td></td>\n",
       "      <td>0.00011</td>\n",
       "    </tr>\n",
       "    <tr>\n",
       "      <th>5</th>\n",
       "      <td></td>\n",
       "      <td></td>\n",
       "      <td>Available</td>\n",
       "      <td></td>\n",
       "      <td>0.00006</td>\n",
       "    </tr>\n",
       "    <tr>\n",
       "      <th>7</th>\n",
       "      <td></td>\n",
       "      <td></td>\n",
       "      <td>Available</td>\n",
       "      <td>Available</td>\n",
       "      <td>0.00003</td>\n",
       "    </tr>\n",
       "    <tr>\n",
       "      <th>3</th>\n",
       "      <td></td>\n",
       "      <td></td>\n",
       "      <td></td>\n",
       "      <td>Available</td>\n",
       "      <td>0.00003</td>\n",
       "    </tr>\n",
       "  </tbody>\n",
       "</table>\n",
       "</div>"
      ],
      "text/plain": [
       "      locale legacy collaborative similarity Relative counts\n",
       "1  Available                                         0.44747\n",
       "2  Available            Available                    0.26897\n",
       "0  Available            Available  Available         0.15043\n",
       "4  Available                       Available         0.13290\n",
       "6                                                    0.00011\n",
       "5                       Available                    0.00006\n",
       "7                       Available  Available         0.00003\n",
       "3                                  Available         0.00003"
      ]
     },
     "execution_count": 504,
     "metadata": {},
     "output_type": "execute_result"
    }
   ],
   "source": [
    "df = DataFrame(columns=columns, data=data)\n",
    "sorted_dataframe(df, results.values())"
   ]
  },
  {
   "cell_type": "markdown",
   "metadata": {},
   "source": [
    "$\\implies$ If any recommender is available, then the locale recommenders is generally also available. Other than that, there is a good chance the the collaborative recommender is available.\n",
    "There is only a very small portion of cases where the similarity recommender was able to make a recommendation, when locale/collaborative were not; and not a single such case for the legacy recommender."
   ]
  },
  {
   "cell_type": "markdown",
   "metadata": {},
   "source": [
    "### Grouped by number of available recommenders"
   ]
  },
  {
   "cell_type": "code",
   "execution_count": 33,
   "metadata": {
    "collapsed": false
   },
   "outputs": [],
   "source": [
    "from itertools import groupby\n",
    "from operator import itemgetter"
   ]
  },
  {
   "cell_type": "code",
   "execution_count": 129,
   "metadata": {
    "collapsed": true
   },
   "outputs": [],
   "source": [
    "from IPython.display import display, Markdown"
   ]
  },
  {
   "cell_type": "code",
   "execution_count": 507,
   "metadata": {
    "collapsed": false
   },
   "outputs": [
    {
     "data": {
      "text/markdown": [
       "#### 0 available recommenders"
      ],
      "text/plain": [
       "<IPython.core.display.Markdown object>"
      ]
     },
     "metadata": {},
     "output_type": "display_data"
    },
    {
     "data": {
      "text/html": [
       "<div>\n",
       "<table border=\"1\" class=\"dataframe\">\n",
       "  <thead>\n",
       "    <tr style=\"text-align: right;\">\n",
       "      <th></th>\n",
       "      <th>locale</th>\n",
       "      <th>legacy</th>\n",
       "      <th>collaborative</th>\n",
       "      <th>similarity</th>\n",
       "      <th>Relative to all</th>\n",
       "      <th>Relative to this table</th>\n",
       "    </tr>\n",
       "  </thead>\n",
       "  <tbody>\n",
       "    <tr>\n",
       "      <th>0</th>\n",
       "      <td></td>\n",
       "      <td></td>\n",
       "      <td></td>\n",
       "      <td></td>\n",
       "      <td>0.00011</td>\n",
       "      <td>1.00000</td>\n",
       "    </tr>\n",
       "  </tbody>\n",
       "</table>\n",
       "</div>"
      ],
      "text/plain": [
       "  locale legacy collaborative similarity Relative to all  \\\n",
       "0                                                0.00011   \n",
       "\n",
       "  Relative to this table  \n",
       "0                1.00000  "
      ]
     },
     "metadata": {},
     "output_type": "display_data"
    },
    {
     "data": {
      "text/markdown": [
       "#### 1 available recommender"
      ],
      "text/plain": [
       "<IPython.core.display.Markdown object>"
      ]
     },
     "metadata": {},
     "output_type": "display_data"
    },
    {
     "data": {
      "text/html": [
       "<div>\n",
       "<table border=\"1\" class=\"dataframe\">\n",
       "  <thead>\n",
       "    <tr style=\"text-align: right;\">\n",
       "      <th></th>\n",
       "      <th>locale</th>\n",
       "      <th>legacy</th>\n",
       "      <th>collaborative</th>\n",
       "      <th>similarity</th>\n",
       "      <th>Relative to all</th>\n",
       "      <th>Relative to this table</th>\n",
       "    </tr>\n",
       "  </thead>\n",
       "  <tbody>\n",
       "    <tr>\n",
       "      <th>0</th>\n",
       "      <td>Available</td>\n",
       "      <td></td>\n",
       "      <td></td>\n",
       "      <td></td>\n",
       "      <td>0.44747</td>\n",
       "      <td>0.99980</td>\n",
       "    </tr>\n",
       "    <tr>\n",
       "      <th>2</th>\n",
       "      <td></td>\n",
       "      <td></td>\n",
       "      <td>Available</td>\n",
       "      <td></td>\n",
       "      <td>0.00006</td>\n",
       "      <td>0.00014</td>\n",
       "    </tr>\n",
       "    <tr>\n",
       "      <th>1</th>\n",
       "      <td></td>\n",
       "      <td></td>\n",
       "      <td></td>\n",
       "      <td>Available</td>\n",
       "      <td>0.00003</td>\n",
       "      <td>0.00006</td>\n",
       "    </tr>\n",
       "  </tbody>\n",
       "</table>\n",
       "</div>"
      ],
      "text/plain": [
       "      locale legacy collaborative similarity Relative to all  \\\n",
       "0  Available                                         0.44747   \n",
       "2                       Available                    0.00006   \n",
       "1                                  Available         0.00003   \n",
       "\n",
       "  Relative to this table  \n",
       "0                0.99980  \n",
       "2                0.00014  \n",
       "1                0.00006  "
      ]
     },
     "metadata": {},
     "output_type": "display_data"
    },
    {
     "data": {
      "text/markdown": [
       "#### 2 available recommenders"
      ],
      "text/plain": [
       "<IPython.core.display.Markdown object>"
      ]
     },
     "metadata": {},
     "output_type": "display_data"
    },
    {
     "data": {
      "text/html": [
       "<div>\n",
       "<table border=\"1\" class=\"dataframe\">\n",
       "  <thead>\n",
       "    <tr style=\"text-align: right;\">\n",
       "      <th></th>\n",
       "      <th>locale</th>\n",
       "      <th>legacy</th>\n",
       "      <th>collaborative</th>\n",
       "      <th>similarity</th>\n",
       "      <th>Relative to all</th>\n",
       "      <th>Relative to this table</th>\n",
       "    </tr>\n",
       "  </thead>\n",
       "  <tbody>\n",
       "    <tr>\n",
       "      <th>0</th>\n",
       "      <td>Available</td>\n",
       "      <td></td>\n",
       "      <td>Available</td>\n",
       "      <td></td>\n",
       "      <td>0.26897</td>\n",
       "      <td>0.66924</td>\n",
       "    </tr>\n",
       "    <tr>\n",
       "      <th>1</th>\n",
       "      <td>Available</td>\n",
       "      <td></td>\n",
       "      <td></td>\n",
       "      <td>Available</td>\n",
       "      <td>0.13290</td>\n",
       "      <td>0.33068</td>\n",
       "    </tr>\n",
       "    <tr>\n",
       "      <th>2</th>\n",
       "      <td></td>\n",
       "      <td></td>\n",
       "      <td>Available</td>\n",
       "      <td>Available</td>\n",
       "      <td>0.00003</td>\n",
       "      <td>0.00007</td>\n",
       "    </tr>\n",
       "  </tbody>\n",
       "</table>\n",
       "</div>"
      ],
      "text/plain": [
       "      locale legacy collaborative similarity Relative to all  \\\n",
       "0  Available            Available                    0.26897   \n",
       "1  Available                       Available         0.13290   \n",
       "2                       Available  Available         0.00003   \n",
       "\n",
       "  Relative to this table  \n",
       "0                0.66924  \n",
       "1                0.33068  \n",
       "2                0.00007  "
      ]
     },
     "metadata": {},
     "output_type": "display_data"
    },
    {
     "data": {
      "text/markdown": [
       "#### 3 available recommenders"
      ],
      "text/plain": [
       "<IPython.core.display.Markdown object>"
      ]
     },
     "metadata": {},
     "output_type": "display_data"
    },
    {
     "data": {
      "text/html": [
       "<div>\n",
       "<table border=\"1\" class=\"dataframe\">\n",
       "  <thead>\n",
       "    <tr style=\"text-align: right;\">\n",
       "      <th></th>\n",
       "      <th>locale</th>\n",
       "      <th>legacy</th>\n",
       "      <th>collaborative</th>\n",
       "      <th>similarity</th>\n",
       "      <th>Relative to all</th>\n",
       "      <th>Relative to this table</th>\n",
       "    </tr>\n",
       "  </thead>\n",
       "  <tbody>\n",
       "    <tr>\n",
       "      <th>0</th>\n",
       "      <td>Available</td>\n",
       "      <td></td>\n",
       "      <td>Available</td>\n",
       "      <td>Available</td>\n",
       "      <td>0.15043</td>\n",
       "      <td>1.00000</td>\n",
       "    </tr>\n",
       "  </tbody>\n",
       "</table>\n",
       "</div>"
      ],
      "text/plain": [
       "      locale legacy collaborative similarity Relative to all  \\\n",
       "0  Available            Available  Available         0.15043   \n",
       "\n",
       "  Relative to this table  \n",
       "0                1.00000  "
      ]
     },
     "metadata": {},
     "output_type": "display_data"
    }
   ],
   "source": [
    "for num, group in groupby(sorted(results.keys(), key=sum), sum):\n",
    "    display(Markdown(\"#### %d available recommender%s\" % (num, \"s\" if num != 1 else \"\")))\n",
    "    \n",
    "    sub_keys = list(group)\n",
    "    formatted_keys = map(format_labels, sub_keys)\n",
    "    \n",
    "    sub_counts = [results[key] for key in sub_keys]\n",
    "    sub_counts_to_total = get_relative_counts(sub_counts)\n",
    "    sub_counts_to_table = get_relative_counts(sub_counts, sum(sub_counts))\n",
    "    \n",
    "    zipped_data = zip(formatted_keys, sub_counts_to_total, sub_counts_to_table)\n",
    "    data = [elems + (counts, table_counts) for elems, counts, table_counts in zipped_data]\n",
    "    \n",
    "    columns = recommenders.keys() + [\"Relative to all\", \"Relative to this table\"]\n",
    "    \n",
    "    df = DataFrame(columns=columns, data=data)\n",
    "    df = sorted_dataframe(df, sub_counts)\n",
    "    display(df)"
   ]
  },
  {
   "cell_type": "markdown",
   "metadata": {},
   "source": [
    "## By dates\n",
    "\n",
    "In this section, we perform a similar analysis as before but on subsets of the data. These subsets are specified by when the client profile was generated. `conditions` is a list that contains ranges for the profile age in weeks. The end of the range is exclusive, similar to ranges in Python's standard library."
   ]
  },
  {
   "cell_type": "code",
   "execution_count": 508,
   "metadata": {
    "collapsed": true
   },
   "outputs": [],
   "source": [
    "conditions = [\n",
    "    (0, 1),\n",
    "    (1, 2),\n",
    "    (2, 3),\n",
    "    (3, 4)\n",
    "]"
   ]
  },
  {
   "cell_type": "code",
   "execution_count": 28,
   "metadata": {
    "collapsed": true
   },
   "outputs": [],
   "source": [
    "import numpy as np\n",
    "from numpy import argsort\n",
    "from itertools import product"
   ]
  },
  {
   "cell_type": "code",
   "execution_count": 510,
   "metadata": {
    "collapsed": true
   },
   "outputs": [],
   "source": [
    "def attribute_between(attr, min_weeks, max_weeks):\n",
    "    return lambda client: min_weeks <= client[attr] < max_weeks"
   ]
  },
  {
   "cell_type": "code",
   "execution_count": 511,
   "metadata": {
    "collapsed": true
   },
   "outputs": [],
   "source": [
    "def get_conditioned_results(attr, conditions):\n",
    "    conditioned_results = {}\n",
    "\n",
    "    for (min_weeks, max_weeks) in conditions:\n",
    "        sub_rdd = rdd_completed.filter(attribute_between(attr, min_weeks, max_weeks))\n",
    "        conditioned_results[(min_weeks, max_weeks)] = analyse(sub_rdd)\n",
    "        \n",
    "    return conditioned_results"
   ]
  },
  {
   "cell_type": "markdown",
   "metadata": {},
   "source": [
    "### By profile age in weeks"
   ]
  },
  {
   "cell_type": "code",
   "execution_count": 512,
   "metadata": {
    "collapsed": false
   },
   "outputs": [
    {
     "name": "stdout",
     "output_type": "stream",
     "text": [
      "CPU times: user 4.71 s, sys: 428 ms, total: 5.14 s\n",
      "Wall time: 46min 37s\n"
     ]
    }
   ],
   "source": [
    "%time conditioned_results = get_conditioned_results(\"profile_age_in_weeks\", conditions)"
   ]
  },
  {
   "cell_type": "markdown",
   "metadata": {},
   "source": [
    "To make things a little bit easier to read, only recommender combinations that actually appear are displayed in the table."
   ]
  },
  {
   "cell_type": "code",
   "execution_count": 513,
   "metadata": {
    "collapsed": false
   },
   "outputs": [],
   "source": [
    "def nonzero_combinations(conditioned_results):\n",
    "    combinations = []\n",
    "\n",
    "    for sub_result in conditioned_results.values():\n",
    "        combinations += [key for key, value in sub_result.items() if value > 0]\n",
    "\n",
    "    return set(combinations)"
   ]
  },
  {
   "cell_type": "code",
   "execution_count": 514,
   "metadata": {
    "collapsed": true
   },
   "outputs": [],
   "source": [
    "combinations = nonzero_combinations(conditioned_results)"
   ]
  },
  {
   "cell_type": "code",
   "execution_count": 515,
   "metadata": {
    "collapsed": false,
    "scrolled": false
   },
   "outputs": [],
   "source": [
    "def display_individual_filtered_results(conditioned_results, combinations, label):\n",
    "    display(Markdown(\"### Filtering on the %s, Python-like exclusive ranges\" % label))\n",
    "\n",
    "    counts = []\n",
    "    titles = []\n",
    "\n",
    "    columns = recommenders.keys() + [\"Relative counts\"]\n",
    "\n",
    "    for key in conditions:\n",
    "        sub_results = conditioned_results[key]\n",
    "        values = [sub_results[sub_key] for sub_key in combinations]\n",
    "        summed = sum(values)\n",
    "\n",
    "        sub_counts = get_relative_counts(values, summed)\n",
    "        data = format_data(combinations, [sub_counts])\n",
    "        counts.append(sub_counts)\n",
    "\n",
    "        title = \"Between %d and %d weeks\" % key\n",
    "        titles.append(title)\n",
    "        display(Markdown(\"#### %s\" % title))\n",
    "\n",
    "        df = DataFrame(columns=columns, data=data)\n",
    "        df = sorted_dataframe(df, values)\n",
    "        display(df)\n",
    "\n",
    "    return counts, titles"
   ]
  },
  {
   "cell_type": "code",
   "execution_count": 516,
   "metadata": {
    "collapsed": false,
    "scrolled": true
   },
   "outputs": [
    {
     "data": {
      "text/markdown": [
       "### Filtering on the profile age, Python-like exclusive ranges"
      ],
      "text/plain": [
       "<IPython.core.display.Markdown object>"
      ]
     },
     "metadata": {},
     "output_type": "display_data"
    },
    {
     "data": {
      "text/markdown": [
       "#### Between 0 and 1 weeks"
      ],
      "text/plain": [
       "<IPython.core.display.Markdown object>"
      ]
     },
     "metadata": {},
     "output_type": "display_data"
    },
    {
     "data": {
      "text/html": [
       "<div>\n",
       "<table border=\"1\" class=\"dataframe\">\n",
       "  <thead>\n",
       "    <tr style=\"text-align: right;\">\n",
       "      <th></th>\n",
       "      <th>locale</th>\n",
       "      <th>legacy</th>\n",
       "      <th>collaborative</th>\n",
       "      <th>similarity</th>\n",
       "      <th>Relative counts</th>\n",
       "    </tr>\n",
       "  </thead>\n",
       "  <tbody>\n",
       "    <tr>\n",
       "      <th>1</th>\n",
       "      <td>Available</td>\n",
       "      <td></td>\n",
       "      <td></td>\n",
       "      <td></td>\n",
       "      <td>0.52749</td>\n",
       "    </tr>\n",
       "    <tr>\n",
       "      <th>2</th>\n",
       "      <td>Available</td>\n",
       "      <td></td>\n",
       "      <td>Available</td>\n",
       "      <td></td>\n",
       "      <td>0.28995</td>\n",
       "    </tr>\n",
       "    <tr>\n",
       "      <th>4</th>\n",
       "      <td>Available</td>\n",
       "      <td></td>\n",
       "      <td></td>\n",
       "      <td>Available</td>\n",
       "      <td>0.10739</td>\n",
       "    </tr>\n",
       "    <tr>\n",
       "      <th>0</th>\n",
       "      <td>Available</td>\n",
       "      <td></td>\n",
       "      <td>Available</td>\n",
       "      <td>Available</td>\n",
       "      <td>0.07517</td>\n",
       "    </tr>\n",
       "    <tr>\n",
       "      <th>3</th>\n",
       "      <td></td>\n",
       "      <td></td>\n",
       "      <td></td>\n",
       "      <td>Available</td>\n",
       "      <td>0.00000</td>\n",
       "    </tr>\n",
       "    <tr>\n",
       "      <th>5</th>\n",
       "      <td></td>\n",
       "      <td></td>\n",
       "      <td>Available</td>\n",
       "      <td></td>\n",
       "      <td>0.00000</td>\n",
       "    </tr>\n",
       "    <tr>\n",
       "      <th>6</th>\n",
       "      <td></td>\n",
       "      <td></td>\n",
       "      <td></td>\n",
       "      <td></td>\n",
       "      <td>0.00000</td>\n",
       "    </tr>\n",
       "    <tr>\n",
       "      <th>7</th>\n",
       "      <td></td>\n",
       "      <td></td>\n",
       "      <td>Available</td>\n",
       "      <td>Available</td>\n",
       "      <td>0.00000</td>\n",
       "    </tr>\n",
       "  </tbody>\n",
       "</table>\n",
       "</div>"
      ],
      "text/plain": [
       "      locale legacy collaborative similarity Relative counts\n",
       "1  Available                                         0.52749\n",
       "2  Available            Available                    0.28995\n",
       "4  Available                       Available         0.10739\n",
       "0  Available            Available  Available         0.07517\n",
       "3                                  Available         0.00000\n",
       "5                       Available                    0.00000\n",
       "6                                                    0.00000\n",
       "7                       Available  Available         0.00000"
      ]
     },
     "metadata": {},
     "output_type": "display_data"
    },
    {
     "data": {
      "text/markdown": [
       "#### Between 1 and 2 weeks"
      ],
      "text/plain": [
       "<IPython.core.display.Markdown object>"
      ]
     },
     "metadata": {},
     "output_type": "display_data"
    },
    {
     "data": {
      "text/html": [
       "<div>\n",
       "<table border=\"1\" class=\"dataframe\">\n",
       "  <thead>\n",
       "    <tr style=\"text-align: right;\">\n",
       "      <th></th>\n",
       "      <th>locale</th>\n",
       "      <th>legacy</th>\n",
       "      <th>collaborative</th>\n",
       "      <th>similarity</th>\n",
       "      <th>Relative counts</th>\n",
       "    </tr>\n",
       "  </thead>\n",
       "  <tbody>\n",
       "    <tr>\n",
       "      <th>1</th>\n",
       "      <td>Available</td>\n",
       "      <td></td>\n",
       "      <td></td>\n",
       "      <td></td>\n",
       "      <td>0.55644</td>\n",
       "    </tr>\n",
       "    <tr>\n",
       "      <th>2</th>\n",
       "      <td>Available</td>\n",
       "      <td></td>\n",
       "      <td>Available</td>\n",
       "      <td></td>\n",
       "      <td>0.22328</td>\n",
       "    </tr>\n",
       "    <tr>\n",
       "      <th>4</th>\n",
       "      <td>Available</td>\n",
       "      <td></td>\n",
       "      <td></td>\n",
       "      <td>Available</td>\n",
       "      <td>0.13656</td>\n",
       "    </tr>\n",
       "    <tr>\n",
       "      <th>0</th>\n",
       "      <td>Available</td>\n",
       "      <td></td>\n",
       "      <td>Available</td>\n",
       "      <td>Available</td>\n",
       "      <td>0.08356</td>\n",
       "    </tr>\n",
       "    <tr>\n",
       "      <th>6</th>\n",
       "      <td></td>\n",
       "      <td></td>\n",
       "      <td></td>\n",
       "      <td></td>\n",
       "      <td>0.00010</td>\n",
       "    </tr>\n",
       "    <tr>\n",
       "      <th>5</th>\n",
       "      <td></td>\n",
       "      <td></td>\n",
       "      <td>Available</td>\n",
       "      <td></td>\n",
       "      <td>0.00006</td>\n",
       "    </tr>\n",
       "    <tr>\n",
       "      <th>7</th>\n",
       "      <td></td>\n",
       "      <td></td>\n",
       "      <td>Available</td>\n",
       "      <td>Available</td>\n",
       "      <td>0.00001</td>\n",
       "    </tr>\n",
       "    <tr>\n",
       "      <th>3</th>\n",
       "      <td></td>\n",
       "      <td></td>\n",
       "      <td></td>\n",
       "      <td>Available</td>\n",
       "      <td>0.00000</td>\n",
       "    </tr>\n",
       "  </tbody>\n",
       "</table>\n",
       "</div>"
      ],
      "text/plain": [
       "      locale legacy collaborative similarity Relative counts\n",
       "1  Available                                         0.55644\n",
       "2  Available            Available                    0.22328\n",
       "4  Available                       Available         0.13656\n",
       "0  Available            Available  Available         0.08356\n",
       "6                                                    0.00010\n",
       "5                       Available                    0.00006\n",
       "7                       Available  Available         0.00001\n",
       "3                                  Available         0.00000"
      ]
     },
     "metadata": {},
     "output_type": "display_data"
    },
    {
     "data": {
      "text/markdown": [
       "#### Between 2 and 3 weeks"
      ],
      "text/plain": [
       "<IPython.core.display.Markdown object>"
      ]
     },
     "metadata": {},
     "output_type": "display_data"
    },
    {
     "data": {
      "text/html": [
       "<div>\n",
       "<table border=\"1\" class=\"dataframe\">\n",
       "  <thead>\n",
       "    <tr style=\"text-align: right;\">\n",
       "      <th></th>\n",
       "      <th>locale</th>\n",
       "      <th>legacy</th>\n",
       "      <th>collaborative</th>\n",
       "      <th>similarity</th>\n",
       "      <th>Relative counts</th>\n",
       "    </tr>\n",
       "  </thead>\n",
       "  <tbody>\n",
       "    <tr>\n",
       "      <th>1</th>\n",
       "      <td>Available</td>\n",
       "      <td></td>\n",
       "      <td></td>\n",
       "      <td></td>\n",
       "      <td>0.53226</td>\n",
       "    </tr>\n",
       "    <tr>\n",
       "      <th>2</th>\n",
       "      <td>Available</td>\n",
       "      <td></td>\n",
       "      <td>Available</td>\n",
       "      <td></td>\n",
       "      <td>0.22522</td>\n",
       "    </tr>\n",
       "    <tr>\n",
       "      <th>4</th>\n",
       "      <td>Available</td>\n",
       "      <td></td>\n",
       "      <td></td>\n",
       "      <td>Available</td>\n",
       "      <td>0.14883</td>\n",
       "    </tr>\n",
       "    <tr>\n",
       "      <th>0</th>\n",
       "      <td>Available</td>\n",
       "      <td></td>\n",
       "      <td>Available</td>\n",
       "      <td>Available</td>\n",
       "      <td>0.09353</td>\n",
       "    </tr>\n",
       "    <tr>\n",
       "      <th>5</th>\n",
       "      <td></td>\n",
       "      <td></td>\n",
       "      <td>Available</td>\n",
       "      <td></td>\n",
       "      <td>0.00006</td>\n",
       "    </tr>\n",
       "    <tr>\n",
       "      <th>6</th>\n",
       "      <td></td>\n",
       "      <td></td>\n",
       "      <td></td>\n",
       "      <td></td>\n",
       "      <td>0.00006</td>\n",
       "    </tr>\n",
       "    <tr>\n",
       "      <th>7</th>\n",
       "      <td></td>\n",
       "      <td></td>\n",
       "      <td>Available</td>\n",
       "      <td>Available</td>\n",
       "      <td>0.00003</td>\n",
       "    </tr>\n",
       "    <tr>\n",
       "      <th>3</th>\n",
       "      <td></td>\n",
       "      <td></td>\n",
       "      <td></td>\n",
       "      <td>Available</td>\n",
       "      <td>0.00001</td>\n",
       "    </tr>\n",
       "  </tbody>\n",
       "</table>\n",
       "</div>"
      ],
      "text/plain": [
       "      locale legacy collaborative similarity Relative counts\n",
       "1  Available                                         0.53226\n",
       "2  Available            Available                    0.22522\n",
       "4  Available                       Available         0.14883\n",
       "0  Available            Available  Available         0.09353\n",
       "5                       Available                    0.00006\n",
       "6                                                    0.00006\n",
       "7                       Available  Available         0.00003\n",
       "3                                  Available         0.00001"
      ]
     },
     "metadata": {},
     "output_type": "display_data"
    },
    {
     "data": {
      "text/markdown": [
       "#### Between 3 and 4 weeks"
      ],
      "text/plain": [
       "<IPython.core.display.Markdown object>"
      ]
     },
     "metadata": {},
     "output_type": "display_data"
    },
    {
     "data": {
      "text/html": [
       "<div>\n",
       "<table border=\"1\" class=\"dataframe\">\n",
       "  <thead>\n",
       "    <tr style=\"text-align: right;\">\n",
       "      <th></th>\n",
       "      <th>locale</th>\n",
       "      <th>legacy</th>\n",
       "      <th>collaborative</th>\n",
       "      <th>similarity</th>\n",
       "      <th>Relative counts</th>\n",
       "    </tr>\n",
       "  </thead>\n",
       "  <tbody>\n",
       "    <tr>\n",
       "      <th>1</th>\n",
       "      <td>Available</td>\n",
       "      <td></td>\n",
       "      <td></td>\n",
       "      <td></td>\n",
       "      <td>0.52304</td>\n",
       "    </tr>\n",
       "    <tr>\n",
       "      <th>2</th>\n",
       "      <td>Available</td>\n",
       "      <td></td>\n",
       "      <td>Available</td>\n",
       "      <td></td>\n",
       "      <td>0.22984</td>\n",
       "    </tr>\n",
       "    <tr>\n",
       "      <th>4</th>\n",
       "      <td>Available</td>\n",
       "      <td></td>\n",
       "      <td></td>\n",
       "      <td>Available</td>\n",
       "      <td>0.14583</td>\n",
       "    </tr>\n",
       "    <tr>\n",
       "      <th>0</th>\n",
       "      <td>Available</td>\n",
       "      <td></td>\n",
       "      <td>Available</td>\n",
       "      <td>Available</td>\n",
       "      <td>0.10121</td>\n",
       "    </tr>\n",
       "    <tr>\n",
       "      <th>6</th>\n",
       "      <td></td>\n",
       "      <td></td>\n",
       "      <td></td>\n",
       "      <td></td>\n",
       "      <td>0.00005</td>\n",
       "    </tr>\n",
       "    <tr>\n",
       "      <th>5</th>\n",
       "      <td></td>\n",
       "      <td></td>\n",
       "      <td>Available</td>\n",
       "      <td></td>\n",
       "      <td>0.00003</td>\n",
       "    </tr>\n",
       "    <tr>\n",
       "      <th>7</th>\n",
       "      <td></td>\n",
       "      <td></td>\n",
       "      <td>Available</td>\n",
       "      <td>Available</td>\n",
       "      <td>0.00002</td>\n",
       "    </tr>\n",
       "    <tr>\n",
       "      <th>3</th>\n",
       "      <td></td>\n",
       "      <td></td>\n",
       "      <td></td>\n",
       "      <td>Available</td>\n",
       "      <td>0.00000</td>\n",
       "    </tr>\n",
       "  </tbody>\n",
       "</table>\n",
       "</div>"
      ],
      "text/plain": [
       "      locale legacy collaborative similarity Relative counts\n",
       "1  Available                                         0.52304\n",
       "2  Available            Available                    0.22984\n",
       "4  Available                       Available         0.14583\n",
       "0  Available            Available  Available         0.10121\n",
       "6                                                    0.00005\n",
       "5                       Available                    0.00003\n",
       "7                       Available  Available         0.00002\n",
       "3                                  Available         0.00000"
      ]
     },
     "metadata": {},
     "output_type": "display_data"
    }
   ],
   "source": [
    "counts, titles = display_individual_filtered_results(conditioned_results, combinations, label=\"profile age\")"
   ]
  },
  {
   "cell_type": "markdown",
   "metadata": {},
   "source": [
    "To make things a little bit easier to read, we can display all results in a single table."
   ]
  },
  {
   "cell_type": "code",
   "execution_count": 517,
   "metadata": {
    "collapsed": false
   },
   "outputs": [],
   "source": [
    "def display_merged_filtered_results(counts, titles, total_results, combinations, label):\n",
    "    values = [total_results[sub_key] for sub_key in combinations]\n",
    "    sub_counts = get_relative_counts(values)\n",
    "    counts.append(sub_counts)\n",
    "    titles.append(\"Total, without any condition\")  \n",
    "\n",
    "    columns = recommenders.keys() + titles\n",
    "    data = format_data(combinations, counts)\n",
    "\n",
    "    df = DataFrame(columns=columns, data=data)\n",
    "    df = sorted_dataframe(df, counts[0])\n",
    "\n",
    "    display(Markdown(\"### Filtering on the %s, Python-like exclusive ranges – All in one table\" % label))\n",
    "    display(df)"
   ]
  },
  {
   "cell_type": "code",
   "execution_count": 518,
   "metadata": {
    "collapsed": false
   },
   "outputs": [
    {
     "data": {
      "text/markdown": [
       "### Filtering on the profile age, Python-like exclusive ranges – All in one table"
      ],
      "text/plain": [
       "<IPython.core.display.Markdown object>"
      ]
     },
     "metadata": {},
     "output_type": "display_data"
    },
    {
     "data": {
      "text/html": [
       "<div>\n",
       "<table border=\"1\" class=\"dataframe\">\n",
       "  <thead>\n",
       "    <tr style=\"text-align: right;\">\n",
       "      <th></th>\n",
       "      <th>locale</th>\n",
       "      <th>legacy</th>\n",
       "      <th>collaborative</th>\n",
       "      <th>similarity</th>\n",
       "      <th>Between 0 and 1 weeks</th>\n",
       "      <th>Between 1 and 2 weeks</th>\n",
       "      <th>Between 2 and 3 weeks</th>\n",
       "      <th>Between 3 and 4 weeks</th>\n",
       "      <th>Total, without any condition</th>\n",
       "    </tr>\n",
       "  </thead>\n",
       "  <tbody>\n",
       "    <tr>\n",
       "      <th>1</th>\n",
       "      <td>Available</td>\n",
       "      <td></td>\n",
       "      <td></td>\n",
       "      <td></td>\n",
       "      <td>0.52749</td>\n",
       "      <td>0.55644</td>\n",
       "      <td>0.53226</td>\n",
       "      <td>0.52304</td>\n",
       "      <td>0.44747</td>\n",
       "    </tr>\n",
       "    <tr>\n",
       "      <th>2</th>\n",
       "      <td>Available</td>\n",
       "      <td></td>\n",
       "      <td>Available</td>\n",
       "      <td></td>\n",
       "      <td>0.28995</td>\n",
       "      <td>0.22328</td>\n",
       "      <td>0.22522</td>\n",
       "      <td>0.22984</td>\n",
       "      <td>0.26897</td>\n",
       "    </tr>\n",
       "    <tr>\n",
       "      <th>4</th>\n",
       "      <td>Available</td>\n",
       "      <td></td>\n",
       "      <td></td>\n",
       "      <td>Available</td>\n",
       "      <td>0.10739</td>\n",
       "      <td>0.13656</td>\n",
       "      <td>0.14883</td>\n",
       "      <td>0.14583</td>\n",
       "      <td>0.13290</td>\n",
       "    </tr>\n",
       "    <tr>\n",
       "      <th>0</th>\n",
       "      <td>Available</td>\n",
       "      <td></td>\n",
       "      <td>Available</td>\n",
       "      <td>Available</td>\n",
       "      <td>0.07517</td>\n",
       "      <td>0.08356</td>\n",
       "      <td>0.09353</td>\n",
       "      <td>0.10121</td>\n",
       "      <td>0.15043</td>\n",
       "    </tr>\n",
       "    <tr>\n",
       "      <th>3</th>\n",
       "      <td></td>\n",
       "      <td></td>\n",
       "      <td></td>\n",
       "      <td>Available</td>\n",
       "      <td>0.00000</td>\n",
       "      <td>0.00000</td>\n",
       "      <td>0.00001</td>\n",
       "      <td>0.00000</td>\n",
       "      <td>0.00003</td>\n",
       "    </tr>\n",
       "    <tr>\n",
       "      <th>5</th>\n",
       "      <td></td>\n",
       "      <td></td>\n",
       "      <td>Available</td>\n",
       "      <td></td>\n",
       "      <td>0.00000</td>\n",
       "      <td>0.00006</td>\n",
       "      <td>0.00006</td>\n",
       "      <td>0.00003</td>\n",
       "      <td>0.00006</td>\n",
       "    </tr>\n",
       "    <tr>\n",
       "      <th>6</th>\n",
       "      <td></td>\n",
       "      <td></td>\n",
       "      <td></td>\n",
       "      <td></td>\n",
       "      <td>0.00000</td>\n",
       "      <td>0.00010</td>\n",
       "      <td>0.00006</td>\n",
       "      <td>0.00005</td>\n",
       "      <td>0.00011</td>\n",
       "    </tr>\n",
       "    <tr>\n",
       "      <th>7</th>\n",
       "      <td></td>\n",
       "      <td></td>\n",
       "      <td>Available</td>\n",
       "      <td>Available</td>\n",
       "      <td>0.00000</td>\n",
       "      <td>0.00001</td>\n",
       "      <td>0.00003</td>\n",
       "      <td>0.00002</td>\n",
       "      <td>0.00003</td>\n",
       "    </tr>\n",
       "  </tbody>\n",
       "</table>\n",
       "</div>"
      ],
      "text/plain": [
       "      locale legacy collaborative similarity Between 0 and 1 weeks  \\\n",
       "1  Available                                               0.52749   \n",
       "2  Available            Available                          0.28995   \n",
       "4  Available                       Available               0.10739   \n",
       "0  Available            Available  Available               0.07517   \n",
       "3                                  Available               0.00000   \n",
       "5                       Available                          0.00000   \n",
       "6                                                          0.00000   \n",
       "7                       Available  Available               0.00000   \n",
       "\n",
       "  Between 1 and 2 weeks Between 2 and 3 weeks Between 3 and 4 weeks  \\\n",
       "1               0.55644               0.53226               0.52304   \n",
       "2               0.22328               0.22522               0.22984   \n",
       "4               0.13656               0.14883               0.14583   \n",
       "0               0.08356               0.09353               0.10121   \n",
       "3               0.00000               0.00001               0.00000   \n",
       "5               0.00006               0.00006               0.00003   \n",
       "6               0.00010               0.00006               0.00005   \n",
       "7               0.00001               0.00003               0.00002   \n",
       "\n",
       "  Total, without any condition  \n",
       "1                      0.44747  \n",
       "2                      0.26897  \n",
       "4                      0.13290  \n",
       "0                      0.15043  \n",
       "3                      0.00003  \n",
       "5                      0.00006  \n",
       "6                      0.00011  \n",
       "7                      0.00003  "
      ]
     },
     "metadata": {},
     "output_type": "display_data"
    }
   ],
   "source": [
    "display_merged_filtered_results(counts, titles, total_results, combinations, label=\"profile age\")"
   ]
  },
  {
   "cell_type": "markdown",
   "metadata": {},
   "source": [
    "### By submission date in weeks"
   ]
  },
  {
   "cell_type": "code",
   "execution_count": 519,
   "metadata": {
    "collapsed": false
   },
   "outputs": [
    {
     "name": "stdout",
     "output_type": "stream",
     "text": [
      "CPU times: user 4.8 s, sys: 324 ms, total: 5.12 s\n",
      "Wall time: 46min 36s\n"
     ]
    }
   ],
   "source": [
    "%time conditioned_results_submission_date = get_conditioned_results(\"submission_age_in_weeks\", conditions)"
   ]
  },
  {
   "cell_type": "code",
   "execution_count": 520,
   "metadata": {
    "collapsed": false,
    "scrolled": true
   },
   "outputs": [
    {
     "data": {
      "text/markdown": [
       "### Filtering on the submission date, Python-like exclusive ranges"
      ],
      "text/plain": [
       "<IPython.core.display.Markdown object>"
      ]
     },
     "metadata": {},
     "output_type": "display_data"
    },
    {
     "data": {
      "text/markdown": [
       "#### Between 0 and 1 weeks"
      ],
      "text/plain": [
       "<IPython.core.display.Markdown object>"
      ]
     },
     "metadata": {},
     "output_type": "display_data"
    },
    {
     "data": {
      "text/html": [
       "<div>\n",
       "<table border=\"1\" class=\"dataframe\">\n",
       "  <thead>\n",
       "    <tr style=\"text-align: right;\">\n",
       "      <th></th>\n",
       "      <th>locale</th>\n",
       "      <th>legacy</th>\n",
       "      <th>collaborative</th>\n",
       "      <th>similarity</th>\n",
       "      <th>Relative counts</th>\n",
       "    </tr>\n",
       "  </thead>\n",
       "  <tbody>\n",
       "    <tr>\n",
       "      <th>0</th>\n",
       "      <td>Available</td>\n",
       "      <td></td>\n",
       "      <td>Available</td>\n",
       "      <td>Available</td>\n",
       "      <td>0.30124</td>\n",
       "    </tr>\n",
       "    <tr>\n",
       "      <th>2</th>\n",
       "      <td>Available</td>\n",
       "      <td></td>\n",
       "      <td>Available</td>\n",
       "      <td></td>\n",
       "      <td>0.25782</td>\n",
       "    </tr>\n",
       "    <tr>\n",
       "      <th>1</th>\n",
       "      <td>Available</td>\n",
       "      <td></td>\n",
       "      <td></td>\n",
       "      <td></td>\n",
       "      <td>0.25026</td>\n",
       "    </tr>\n",
       "    <tr>\n",
       "      <th>4</th>\n",
       "      <td>Available</td>\n",
       "      <td></td>\n",
       "      <td></td>\n",
       "      <td>Available</td>\n",
       "      <td>0.19053</td>\n",
       "    </tr>\n",
       "    <tr>\n",
       "      <th>6</th>\n",
       "      <td></td>\n",
       "      <td></td>\n",
       "      <td></td>\n",
       "      <td></td>\n",
       "      <td>0.00005</td>\n",
       "    </tr>\n",
       "    <tr>\n",
       "      <th>3</th>\n",
       "      <td></td>\n",
       "      <td></td>\n",
       "      <td></td>\n",
       "      <td>Available</td>\n",
       "      <td>0.00005</td>\n",
       "    </tr>\n",
       "    <tr>\n",
       "      <th>7</th>\n",
       "      <td></td>\n",
       "      <td></td>\n",
       "      <td>Available</td>\n",
       "      <td>Available</td>\n",
       "      <td>0.00003</td>\n",
       "    </tr>\n",
       "    <tr>\n",
       "      <th>5</th>\n",
       "      <td></td>\n",
       "      <td></td>\n",
       "      <td>Available</td>\n",
       "      <td></td>\n",
       "      <td>0.00002</td>\n",
       "    </tr>\n",
       "  </tbody>\n",
       "</table>\n",
       "</div>"
      ],
      "text/plain": [
       "      locale legacy collaborative similarity Relative counts\n",
       "0  Available            Available  Available         0.30124\n",
       "2  Available            Available                    0.25782\n",
       "1  Available                                         0.25026\n",
       "4  Available                       Available         0.19053\n",
       "6                                                    0.00005\n",
       "3                                  Available         0.00005\n",
       "7                       Available  Available         0.00003\n",
       "5                       Available                    0.00002"
      ]
     },
     "metadata": {},
     "output_type": "display_data"
    },
    {
     "data": {
      "text/markdown": [
       "#### Between 1 and 2 weeks"
      ],
      "text/plain": [
       "<IPython.core.display.Markdown object>"
      ]
     },
     "metadata": {},
     "output_type": "display_data"
    },
    {
     "data": {
      "text/html": [
       "<div>\n",
       "<table border=\"1\" class=\"dataframe\">\n",
       "  <thead>\n",
       "    <tr style=\"text-align: right;\">\n",
       "      <th></th>\n",
       "      <th>locale</th>\n",
       "      <th>legacy</th>\n",
       "      <th>collaborative</th>\n",
       "      <th>similarity</th>\n",
       "      <th>Relative counts</th>\n",
       "    </tr>\n",
       "  </thead>\n",
       "  <tbody>\n",
       "    <tr>\n",
       "      <th>1</th>\n",
       "      <td>Available</td>\n",
       "      <td></td>\n",
       "      <td></td>\n",
       "      <td></td>\n",
       "      <td>0.37644</td>\n",
       "    </tr>\n",
       "    <tr>\n",
       "      <th>2</th>\n",
       "      <td>Available</td>\n",
       "      <td></td>\n",
       "      <td>Available</td>\n",
       "      <td></td>\n",
       "      <td>0.24523</td>\n",
       "    </tr>\n",
       "    <tr>\n",
       "      <th>0</th>\n",
       "      <td>Available</td>\n",
       "      <td></td>\n",
       "      <td>Available</td>\n",
       "      <td>Available</td>\n",
       "      <td>0.19097</td>\n",
       "    </tr>\n",
       "    <tr>\n",
       "      <th>4</th>\n",
       "      <td>Available</td>\n",
       "      <td></td>\n",
       "      <td></td>\n",
       "      <td>Available</td>\n",
       "      <td>0.18718</td>\n",
       "    </tr>\n",
       "    <tr>\n",
       "      <th>6</th>\n",
       "      <td></td>\n",
       "      <td></td>\n",
       "      <td></td>\n",
       "      <td></td>\n",
       "      <td>0.00008</td>\n",
       "    </tr>\n",
       "    <tr>\n",
       "      <th>5</th>\n",
       "      <td></td>\n",
       "      <td></td>\n",
       "      <td>Available</td>\n",
       "      <td></td>\n",
       "      <td>0.00004</td>\n",
       "    </tr>\n",
       "    <tr>\n",
       "      <th>7</th>\n",
       "      <td></td>\n",
       "      <td></td>\n",
       "      <td>Available</td>\n",
       "      <td>Available</td>\n",
       "      <td>0.00003</td>\n",
       "    </tr>\n",
       "    <tr>\n",
       "      <th>3</th>\n",
       "      <td></td>\n",
       "      <td></td>\n",
       "      <td></td>\n",
       "      <td>Available</td>\n",
       "      <td>0.00002</td>\n",
       "    </tr>\n",
       "  </tbody>\n",
       "</table>\n",
       "</div>"
      ],
      "text/plain": [
       "      locale legacy collaborative similarity Relative counts\n",
       "1  Available                                         0.37644\n",
       "2  Available            Available                    0.24523\n",
       "0  Available            Available  Available         0.19097\n",
       "4  Available                       Available         0.18718\n",
       "6                                                    0.00008\n",
       "5                       Available                    0.00004\n",
       "7                       Available  Available         0.00003\n",
       "3                                  Available         0.00002"
      ]
     },
     "metadata": {},
     "output_type": "display_data"
    },
    {
     "data": {
      "text/markdown": [
       "#### Between 2 and 3 weeks"
      ],
      "text/plain": [
       "<IPython.core.display.Markdown object>"
      ]
     },
     "metadata": {},
     "output_type": "display_data"
    },
    {
     "data": {
      "text/html": [
       "<div>\n",
       "<table border=\"1\" class=\"dataframe\">\n",
       "  <thead>\n",
       "    <tr style=\"text-align: right;\">\n",
       "      <th></th>\n",
       "      <th>locale</th>\n",
       "      <th>legacy</th>\n",
       "      <th>collaborative</th>\n",
       "      <th>similarity</th>\n",
       "      <th>Relative counts</th>\n",
       "    </tr>\n",
       "  </thead>\n",
       "  <tbody>\n",
       "    <tr>\n",
       "      <th>1</th>\n",
       "      <td>Available</td>\n",
       "      <td></td>\n",
       "      <td></td>\n",
       "      <td></td>\n",
       "      <td>0.46093</td>\n",
       "    </tr>\n",
       "    <tr>\n",
       "      <th>2</th>\n",
       "      <td>Available</td>\n",
       "      <td></td>\n",
       "      <td>Available</td>\n",
       "      <td></td>\n",
       "      <td>0.27125</td>\n",
       "    </tr>\n",
       "    <tr>\n",
       "      <th>0</th>\n",
       "      <td>Available</td>\n",
       "      <td></td>\n",
       "      <td>Available</td>\n",
       "      <td>Available</td>\n",
       "      <td>0.13411</td>\n",
       "    </tr>\n",
       "    <tr>\n",
       "      <th>4</th>\n",
       "      <td>Available</td>\n",
       "      <td></td>\n",
       "      <td></td>\n",
       "      <td>Available</td>\n",
       "      <td>0.13353</td>\n",
       "    </tr>\n",
       "    <tr>\n",
       "      <th>6</th>\n",
       "      <td></td>\n",
       "      <td></td>\n",
       "      <td></td>\n",
       "      <td></td>\n",
       "      <td>0.00009</td>\n",
       "    </tr>\n",
       "    <tr>\n",
       "      <th>5</th>\n",
       "      <td></td>\n",
       "      <td></td>\n",
       "      <td>Available</td>\n",
       "      <td></td>\n",
       "      <td>0.00005</td>\n",
       "    </tr>\n",
       "    <tr>\n",
       "      <th>3</th>\n",
       "      <td></td>\n",
       "      <td></td>\n",
       "      <td></td>\n",
       "      <td>Available</td>\n",
       "      <td>0.00002</td>\n",
       "    </tr>\n",
       "    <tr>\n",
       "      <th>7</th>\n",
       "      <td></td>\n",
       "      <td></td>\n",
       "      <td>Available</td>\n",
       "      <td>Available</td>\n",
       "      <td>0.00002</td>\n",
       "    </tr>\n",
       "  </tbody>\n",
       "</table>\n",
       "</div>"
      ],
      "text/plain": [
       "      locale legacy collaborative similarity Relative counts\n",
       "1  Available                                         0.46093\n",
       "2  Available            Available                    0.27125\n",
       "0  Available            Available  Available         0.13411\n",
       "4  Available                       Available         0.13353\n",
       "6                                                    0.00009\n",
       "5                       Available                    0.00005\n",
       "3                                  Available         0.00002\n",
       "7                       Available  Available         0.00002"
      ]
     },
     "metadata": {},
     "output_type": "display_data"
    },
    {
     "data": {
      "text/markdown": [
       "#### Between 3 and 4 weeks"
      ],
      "text/plain": [
       "<IPython.core.display.Markdown object>"
      ]
     },
     "metadata": {},
     "output_type": "display_data"
    },
    {
     "data": {
      "text/html": [
       "<div>\n",
       "<table border=\"1\" class=\"dataframe\">\n",
       "  <thead>\n",
       "    <tr style=\"text-align: right;\">\n",
       "      <th></th>\n",
       "      <th>locale</th>\n",
       "      <th>legacy</th>\n",
       "      <th>collaborative</th>\n",
       "      <th>similarity</th>\n",
       "      <th>Relative counts</th>\n",
       "    </tr>\n",
       "  </thead>\n",
       "  <tbody>\n",
       "    <tr>\n",
       "      <th>1</th>\n",
       "      <td>Available</td>\n",
       "      <td></td>\n",
       "      <td></td>\n",
       "      <td></td>\n",
       "      <td>0.47828</td>\n",
       "    </tr>\n",
       "    <tr>\n",
       "      <th>2</th>\n",
       "      <td>Available</td>\n",
       "      <td></td>\n",
       "      <td>Available</td>\n",
       "      <td></td>\n",
       "      <td>0.27232</td>\n",
       "    </tr>\n",
       "    <tr>\n",
       "      <th>0</th>\n",
       "      <td>Available</td>\n",
       "      <td></td>\n",
       "      <td>Available</td>\n",
       "      <td>Available</td>\n",
       "      <td>0.12519</td>\n",
       "    </tr>\n",
       "    <tr>\n",
       "      <th>4</th>\n",
       "      <td>Available</td>\n",
       "      <td></td>\n",
       "      <td></td>\n",
       "      <td>Available</td>\n",
       "      <td>0.12397</td>\n",
       "    </tr>\n",
       "    <tr>\n",
       "      <th>6</th>\n",
       "      <td></td>\n",
       "      <td></td>\n",
       "      <td></td>\n",
       "      <td></td>\n",
       "      <td>0.00015</td>\n",
       "    </tr>\n",
       "    <tr>\n",
       "      <th>5</th>\n",
       "      <td></td>\n",
       "      <td></td>\n",
       "      <td>Available</td>\n",
       "      <td></td>\n",
       "      <td>0.00005</td>\n",
       "    </tr>\n",
       "    <tr>\n",
       "      <th>3</th>\n",
       "      <td></td>\n",
       "      <td></td>\n",
       "      <td></td>\n",
       "      <td>Available</td>\n",
       "      <td>0.00002</td>\n",
       "    </tr>\n",
       "    <tr>\n",
       "      <th>7</th>\n",
       "      <td></td>\n",
       "      <td></td>\n",
       "      <td>Available</td>\n",
       "      <td>Available</td>\n",
       "      <td>0.00002</td>\n",
       "    </tr>\n",
       "  </tbody>\n",
       "</table>\n",
       "</div>"
      ],
      "text/plain": [
       "      locale legacy collaborative similarity Relative counts\n",
       "1  Available                                         0.47828\n",
       "2  Available            Available                    0.27232\n",
       "0  Available            Available  Available         0.12519\n",
       "4  Available                       Available         0.12397\n",
       "6                                                    0.00015\n",
       "5                       Available                    0.00005\n",
       "3                                  Available         0.00002\n",
       "7                       Available  Available         0.00002"
      ]
     },
     "metadata": {},
     "output_type": "display_data"
    },
    {
     "data": {
      "text/markdown": [
       "### Filtering on the submission date, Python-like exclusive ranges – All in one table"
      ],
      "text/plain": [
       "<IPython.core.display.Markdown object>"
      ]
     },
     "metadata": {},
     "output_type": "display_data"
    },
    {
     "data": {
      "text/html": [
       "<div>\n",
       "<table border=\"1\" class=\"dataframe\">\n",
       "  <thead>\n",
       "    <tr style=\"text-align: right;\">\n",
       "      <th></th>\n",
       "      <th>locale</th>\n",
       "      <th>legacy</th>\n",
       "      <th>collaborative</th>\n",
       "      <th>similarity</th>\n",
       "      <th>Between 0 and 1 weeks</th>\n",
       "      <th>Between 1 and 2 weeks</th>\n",
       "      <th>Between 2 and 3 weeks</th>\n",
       "      <th>Between 3 and 4 weeks</th>\n",
       "      <th>Total, without any condition</th>\n",
       "    </tr>\n",
       "  </thead>\n",
       "  <tbody>\n",
       "    <tr>\n",
       "      <th>0</th>\n",
       "      <td>Available</td>\n",
       "      <td></td>\n",
       "      <td>Available</td>\n",
       "      <td>Available</td>\n",
       "      <td>0.30124</td>\n",
       "      <td>0.19097</td>\n",
       "      <td>0.13411</td>\n",
       "      <td>0.12519</td>\n",
       "      <td>0.15043</td>\n",
       "    </tr>\n",
       "    <tr>\n",
       "      <th>2</th>\n",
       "      <td>Available</td>\n",
       "      <td></td>\n",
       "      <td>Available</td>\n",
       "      <td></td>\n",
       "      <td>0.25782</td>\n",
       "      <td>0.24523</td>\n",
       "      <td>0.27125</td>\n",
       "      <td>0.27232</td>\n",
       "      <td>0.26897</td>\n",
       "    </tr>\n",
       "    <tr>\n",
       "      <th>1</th>\n",
       "      <td>Available</td>\n",
       "      <td></td>\n",
       "      <td></td>\n",
       "      <td></td>\n",
       "      <td>0.25026</td>\n",
       "      <td>0.37644</td>\n",
       "      <td>0.46093</td>\n",
       "      <td>0.47828</td>\n",
       "      <td>0.44747</td>\n",
       "    </tr>\n",
       "    <tr>\n",
       "      <th>4</th>\n",
       "      <td>Available</td>\n",
       "      <td></td>\n",
       "      <td></td>\n",
       "      <td>Available</td>\n",
       "      <td>0.19053</td>\n",
       "      <td>0.18718</td>\n",
       "      <td>0.13353</td>\n",
       "      <td>0.12397</td>\n",
       "      <td>0.13290</td>\n",
       "    </tr>\n",
       "    <tr>\n",
       "      <th>3</th>\n",
       "      <td></td>\n",
       "      <td></td>\n",
       "      <td></td>\n",
       "      <td>Available</td>\n",
       "      <td>0.00005</td>\n",
       "      <td>0.00002</td>\n",
       "      <td>0.00002</td>\n",
       "      <td>0.00002</td>\n",
       "      <td>0.00003</td>\n",
       "    </tr>\n",
       "    <tr>\n",
       "      <th>6</th>\n",
       "      <td></td>\n",
       "      <td></td>\n",
       "      <td></td>\n",
       "      <td></td>\n",
       "      <td>0.00005</td>\n",
       "      <td>0.00008</td>\n",
       "      <td>0.00009</td>\n",
       "      <td>0.00015</td>\n",
       "      <td>0.00011</td>\n",
       "    </tr>\n",
       "    <tr>\n",
       "      <th>7</th>\n",
       "      <td></td>\n",
       "      <td></td>\n",
       "      <td>Available</td>\n",
       "      <td>Available</td>\n",
       "      <td>0.00003</td>\n",
       "      <td>0.00003</td>\n",
       "      <td>0.00002</td>\n",
       "      <td>0.00002</td>\n",
       "      <td>0.00003</td>\n",
       "    </tr>\n",
       "    <tr>\n",
       "      <th>5</th>\n",
       "      <td></td>\n",
       "      <td></td>\n",
       "      <td>Available</td>\n",
       "      <td></td>\n",
       "      <td>0.00002</td>\n",
       "      <td>0.00004</td>\n",
       "      <td>0.00005</td>\n",
       "      <td>0.00005</td>\n",
       "      <td>0.00006</td>\n",
       "    </tr>\n",
       "  </tbody>\n",
       "</table>\n",
       "</div>"
      ],
      "text/plain": [
       "      locale legacy collaborative similarity Between 0 and 1 weeks  \\\n",
       "0  Available            Available  Available               0.30124   \n",
       "2  Available            Available                          0.25782   \n",
       "1  Available                                               0.25026   \n",
       "4  Available                       Available               0.19053   \n",
       "3                                  Available               0.00005   \n",
       "6                                                          0.00005   \n",
       "7                       Available  Available               0.00003   \n",
       "5                       Available                          0.00002   \n",
       "\n",
       "  Between 1 and 2 weeks Between 2 and 3 weeks Between 3 and 4 weeks  \\\n",
       "0               0.19097               0.13411               0.12519   \n",
       "2               0.24523               0.27125               0.27232   \n",
       "1               0.37644               0.46093               0.47828   \n",
       "4               0.18718               0.13353               0.12397   \n",
       "3               0.00002               0.00002               0.00002   \n",
       "6               0.00008               0.00009               0.00015   \n",
       "7               0.00003               0.00002               0.00002   \n",
       "5               0.00004               0.00005               0.00005   \n",
       "\n",
       "  Total, without any condition  \n",
       "0                      0.15043  \n",
       "2                      0.26897  \n",
       "1                      0.44747  \n",
       "4                      0.13290  \n",
       "3                      0.00003  \n",
       "6                      0.00011  \n",
       "7                      0.00003  \n",
       "5                      0.00006  "
      ]
     },
     "metadata": {},
     "output_type": "display_data"
    }
   ],
   "source": [
    "label = \"submission date\"\n",
    "combinations = nonzero_combinations(conditioned_results_submission_date)\n",
    "counts, titles = display_individual_filtered_results(conditioned_results_submission_date, combinations, label)\n",
    "display_merged_filtered_results(counts, titles, total_results, combinations, label)"
   ]
  },
  {
   "cell_type": "markdown",
   "metadata": {},
   "source": [
    "## Addon counts"
   ]
  },
  {
   "cell_type": "code",
   "execution_count": 117,
   "metadata": {
    "collapsed": false
   },
   "outputs": [],
   "source": [
    "import matplotlib.pyplot as plt\n",
    "import seaborn as sns\n",
    "%matplotlib inline\n",
    "sns.set(style=\"darkgrid\")"
   ]
  },
  {
   "cell_type": "code",
   "execution_count": null,
   "metadata": {
    "collapsed": false
   },
   "outputs": [],
   "source": [
    "addon_counts = rdd_completed\\\n",
    "    .map(lambda client: len(client['installed_addons']))\\\n",
    "    .map(lambda x: (x, 1))\\\n",
    "    .reduceByKey(add)\\\n",
    "    .collect()\n",
    "    \n",
    "addon_counts = sorted(addon_counts, key=itemgetter(0))"
   ]
  },
  {
   "cell_type": "code",
   "execution_count": 108,
   "metadata": {
    "collapsed": true
   },
   "outputs": [],
   "source": [
    "def addon_counts_to_proportions(addon_counts):\n",
    "    num_addons, num_addons_count = zip(*addon_counts)\n",
    "    \n",
    "    num_addons_total = float(sum(num_addons_count))\n",
    "    num_addons_count = np.array(num_addons_count) / num_addons_total\n",
    "    \n",
    "    return num_addons, num_addons_count"
   ]
  },
  {
   "cell_type": "code",
   "execution_count": 109,
   "metadata": {
    "collapsed": true
   },
   "outputs": [],
   "source": [
    "def plot_addon_distribution(addon_counts):\n",
    "    num_addons, num_addons_count = addon_counts_to_proportions(addon_counts)\n",
    "    \n",
    "    plt.bar(num_addons, num_addons_count, width=1.)\n",
    "    plt.title(\"Number of addons per user\")\n",
    "    plt.xlabel(\"Number of addons\")\n",
    "    plt.ylabel(\"Proportion of users\")\n",
    "    plt.show()\n",
    "    \n",
    "    plt.plot(np.cumsum(num_addons_count))\n",
    "    plt.title(\"Number of addons per user (cumulative)\")\n",
    "    plt.xlabel(\"Number of addons\")\n",
    "    plt.ylabel(\"Proportion of users\")\n",
    "    plt.ylim(0, 1)\n",
    "    plt.show()"
   ]
  },
  {
   "cell_type": "code",
   "execution_count": 118,
   "metadata": {
    "collapsed": false
   },
   "outputs": [
    {
     "data": {
      "image/png": "[encoded data removed]",
      "text/plain": [
       "<matplotlib.figure.Figure at 0x7fa1e901a110>"
      ]
     },
     "metadata": {},
     "output_type": "display_data"
    },
    {
     "data": {
      "image/png": "[encoded data removed]",
      "text/plain": [
       "<matplotlib.figure.Figure at 0x7fa1e99b74d0>"
      ]
     },
     "metadata": {},
     "output_type": "display_data"
    }
   ],
   "source": [
    "plot_addon_distribution(addon_counts)"
   ]
  },
  {
   "cell_type": "code",
   "execution_count": 119,
   "metadata": {
    "collapsed": false,
    "scrolled": true
   },
   "outputs": [
    {
     "data": {
      "image/png": "[encoded data removed]",
      "text/plain": [
       "<matplotlib.figure.Figure at 0x7fa1eb880190>"
      ]
     },
     "metadata": {},
     "output_type": "display_data"
    },
    {
     "data": {
      "image/png": "[encoded data removed]",
      "text/plain": [
       "<matplotlib.figure.Figure at 0x7fa1e9a72a50>"
      ]
     },
     "metadata": {},
     "output_type": "display_data"
    }
   ],
   "source": [
    "reasonable_addon_counts = filter(lambda (num_addons, count): num_addons < 20, addon_counts)\n",
    "plot_addon_distribution(reasonable_addon_counts)"
   ]
  },
  {
   "cell_type": "code",
   "execution_count": 138,
   "metadata": {
    "collapsed": false,
    "scrolled": true
   },
   "outputs": [
    {
     "data": {
      "text/html": [
       "<div>\n",
       "<table border=\"1\" class=\"dataframe\">\n",
       "  <thead>\n",
       "    <tr style=\"text-align: right;\">\n",
       "      <th></th>\n",
       "      <th>Number of addons</th>\n",
       "      <th>Proportion</th>\n",
       "    </tr>\n",
       "  </thead>\n",
       "  <tbody>\n",
       "    <tr>\n",
       "      <th>0</th>\n",
       "      <td>0</td>\n",
       "      <td>0.58231</td>\n",
       "    </tr>\n",
       "    <tr>\n",
       "      <th>1</th>\n",
       "      <td>1</td>\n",
       "      <td>0.21227</td>\n",
       "    </tr>\n",
       "    <tr>\n",
       "      <th>2</th>\n",
       "      <td>2</td>\n",
       "      <td>0.08270</td>\n",
       "    </tr>\n",
       "    <tr>\n",
       "      <th>3</th>\n",
       "      <td>3</td>\n",
       "      <td>0.04022</td>\n",
       "    </tr>\n",
       "    <tr>\n",
       "      <th>4</th>\n",
       "      <td>4</td>\n",
       "      <td>0.01996</td>\n",
       "    </tr>\n",
       "    <tr>\n",
       "      <th>5</th>\n",
       "      <td>5</td>\n",
       "      <td>0.01321</td>\n",
       "    </tr>\n",
       "    <tr>\n",
       "      <th>6</th>\n",
       "      <td>6</td>\n",
       "      <td>0.01434</td>\n",
       "    </tr>\n",
       "    <tr>\n",
       "      <th>7</th>\n",
       "      <td>7</td>\n",
       "      <td>0.01957</td>\n",
       "    </tr>\n",
       "    <tr>\n",
       "      <th>8</th>\n",
       "      <td>8</td>\n",
       "      <td>0.00641</td>\n",
       "    </tr>\n",
       "    <tr>\n",
       "      <th>9</th>\n",
       "      <td>9</td>\n",
       "      <td>0.00272</td>\n",
       "    </tr>\n",
       "    <tr>\n",
       "      <th>10</th>\n",
       "      <td>10</td>\n",
       "      <td>0.00169</td>\n",
       "    </tr>\n",
       "    <tr>\n",
       "      <th>11</th>\n",
       "      <td>11</td>\n",
       "      <td>0.00117</td>\n",
       "    </tr>\n",
       "    <tr>\n",
       "      <th>12</th>\n",
       "      <td>12</td>\n",
       "      <td>0.00089</td>\n",
       "    </tr>\n",
       "    <tr>\n",
       "      <th>13</th>\n",
       "      <td>13</td>\n",
       "      <td>0.00058</td>\n",
       "    </tr>\n",
       "    <tr>\n",
       "      <th>14</th>\n",
       "      <td>14</td>\n",
       "      <td>0.00044</td>\n",
       "    </tr>\n",
       "    <tr>\n",
       "      <th>15</th>\n",
       "      <td>15</td>\n",
       "      <td>0.00033</td>\n",
       "    </tr>\n",
       "    <tr>\n",
       "      <th>16</th>\n",
       "      <td>16</td>\n",
       "      <td>0.00026</td>\n",
       "    </tr>\n",
       "    <tr>\n",
       "      <th>17</th>\n",
       "      <td>17</td>\n",
       "      <td>0.00019</td>\n",
       "    </tr>\n",
       "    <tr>\n",
       "      <th>18</th>\n",
       "      <td>18</td>\n",
       "      <td>0.00014</td>\n",
       "    </tr>\n",
       "    <tr>\n",
       "      <th>19</th>\n",
       "      <td>19</td>\n",
       "      <td>0.00011</td>\n",
       "    </tr>\n",
       "    <tr>\n",
       "      <th>20</th>\n",
       "      <td>20</td>\n",
       "      <td>0.00009</td>\n",
       "    </tr>\n",
       "    <tr>\n",
       "      <th>21</th>\n",
       "      <td>21</td>\n",
       "      <td>0.00006</td>\n",
       "    </tr>\n",
       "    <tr>\n",
       "      <th>22</th>\n",
       "      <td>22</td>\n",
       "      <td>0.00006</td>\n",
       "    </tr>\n",
       "    <tr>\n",
       "      <th>23</th>\n",
       "      <td>23</td>\n",
       "      <td>0.00004</td>\n",
       "    </tr>\n",
       "    <tr>\n",
       "      <th>24</th>\n",
       "      <td>24</td>\n",
       "      <td>0.00003</td>\n",
       "    </tr>\n",
       "    <tr>\n",
       "      <th>25</th>\n",
       "      <td>25</td>\n",
       "      <td>0.00003</td>\n",
       "    </tr>\n",
       "    <tr>\n",
       "      <th>26</th>\n",
       "      <td>26</td>\n",
       "      <td>0.00002</td>\n",
       "    </tr>\n",
       "    <tr>\n",
       "      <th>27</th>\n",
       "      <td>27</td>\n",
       "      <td>0.00002</td>\n",
       "    </tr>\n",
       "    <tr>\n",
       "      <th>28</th>\n",
       "      <td>28</td>\n",
       "      <td>0.00002</td>\n",
       "    </tr>\n",
       "    <tr>\n",
       "      <th>29</th>\n",
       "      <td>29</td>\n",
       "      <td>0.00002</td>\n",
       "    </tr>\n",
       "    <tr>\n",
       "      <th>30</th>\n",
       "      <td>30</td>\n",
       "      <td>0.00001</td>\n",
       "    </tr>\n",
       "    <tr>\n",
       "      <th>31</th>\n",
       "      <td>31</td>\n",
       "      <td>0.00001</td>\n",
       "    </tr>\n",
       "    <tr>\n",
       "      <th>32</th>\n",
       "      <td>32</td>\n",
       "      <td>0.00001</td>\n",
       "    </tr>\n",
       "    <tr>\n",
       "      <th>33</th>\n",
       "      <td>33</td>\n",
       "      <td>0.00001</td>\n",
       "    </tr>\n",
       "    <tr>\n",
       "      <th>34</th>\n",
       "      <td>34</td>\n",
       "      <td>0.00000</td>\n",
       "    </tr>\n",
       "    <tr>\n",
       "      <th>35</th>\n",
       "      <td>35</td>\n",
       "      <td>0.00001</td>\n",
       "    </tr>\n",
       "    <tr>\n",
       "      <th>36</th>\n",
       "      <td>36</td>\n",
       "      <td>0.00000</td>\n",
       "    </tr>\n",
       "    <tr>\n",
       "      <th>37</th>\n",
       "      <td>37</td>\n",
       "      <td>0.00000</td>\n",
       "    </tr>\n",
       "    <tr>\n",
       "      <th>38</th>\n",
       "      <td>38</td>\n",
       "      <td>0.00000</td>\n",
       "    </tr>\n",
       "    <tr>\n",
       "      <th>39</th>\n",
       "      <td>39</td>\n",
       "      <td>0.00000</td>\n",
       "    </tr>\n",
       "  </tbody>\n",
       "</table>\n",
       "</div>"
      ],
      "text/plain": [
       "    Number of addons Proportion\n",
       "0                  0    0.58231\n",
       "1                  1    0.21227\n",
       "2                  2    0.08270\n",
       "3                  3    0.04022\n",
       "4                  4    0.01996\n",
       "5                  5    0.01321\n",
       "6                  6    0.01434\n",
       "7                  7    0.01957\n",
       "8                  8    0.00641\n",
       "9                  9    0.00272\n",
       "10                10    0.00169\n",
       "11                11    0.00117\n",
       "12                12    0.00089\n",
       "13                13    0.00058\n",
       "14                14    0.00044\n",
       "15                15    0.00033\n",
       "16                16    0.00026\n",
       "17                17    0.00019\n",
       "18                18    0.00014\n",
       "19                19    0.00011\n",
       "20                20    0.00009\n",
       "21                21    0.00006\n",
       "22                22    0.00006\n",
       "23                23    0.00004\n",
       "24                24    0.00003\n",
       "25                25    0.00003\n",
       "26                26    0.00002\n",
       "27                27    0.00002\n",
       "28                28    0.00002\n",
       "29                29    0.00002\n",
       "30                30    0.00001\n",
       "31                31    0.00001\n",
       "32                32    0.00001\n",
       "33                33    0.00001\n",
       "34                34    0.00000\n",
       "35                35    0.00001\n",
       "36                36    0.00000\n",
       "37                37    0.00000\n",
       "38                38    0.00000\n",
       "39                39    0.00000"
      ]
     },
     "execution_count": 138,
     "metadata": {},
     "output_type": "execute_result"
    }
   ],
   "source": [
    "num_addons, num_addons_count = addon_counts_to_proportions(addon_counts)\n",
    "num_addons_count = map(format_frequency, num_addons_count)\n",
    "\n",
    "DataFrame(\n",
    "    columns=[\"Number of addons\", \"Proportion\"],\n",
    "    data=zip(num_addons, num_addons_count)\n",
    ").head(40)"
   ]
  }
 ],
 "metadata": {
  "anaconda-cloud": {},
  "kernelspec": {
   "display_name": "Python [default]",
   "language": "python",
   "name": "python2"
  },
  "language_info": {
   "codemirror_mode": {
    "name": "ipython",
    "version": 2
   },
   "file_extension": ".py",
   "mimetype": "text/x-python",
   "name": "python",
   "nbconvert_exporter": "python",
   "pygments_lexer": "ipython2",
   "version": "2.7.12"
  },
  "notify_time": "10",
  "toc": {
   "nav_menu": {},
   "number_sections": false,
   "sideBar": true,
   "skip_h1_title": false,
   "toc_cell": false,
   "toc_position": {},
   "toc_section_display": "block",
   "toc_window_display": true
  }
 },
 "nbformat": 4,
 "nbformat_minor": 1
}
