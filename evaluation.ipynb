{
 "cells": [
  {
   "cell_type": "markdown",
   "metadata": {},
   "source": [
    "# TAAR – Evaluating existing recommenders\n",
    "\n",
    "Not every recommender can always make a recommendation. To evaluate the individual recommenders for the ensemble, we want to find out how often this is the case and how well the recommenders complement each other.\n",
    "\n",
    "This notebook either needs to be executed in the [TAAR](http://github.com/mozilla/taar) repository or somewhere where TAAR is in the Python path, because some TAAR recommenders are loaded in."
   ]
  },
  {
   "cell_type": "markdown",
   "metadata": {},
   "source": [
    "## Retrieving the relevant variables from the longitudinal dataset"
   ]
  },
  {
   "cell_type": "code",
   "execution_count": 105,
   "metadata": {
    "collapsed": false
   },
   "outputs": [
    {
     "name": "stdout",
     "output_type": "stream",
     "text": [
      "CPU times: user 140 ms, sys: 12 ms, total: 152 ms\n",
      "Wall time: 18min 43s\n"
     ]
    }
   ],
   "source": [
    "%%time\n",
    "frame = sqlContext.sql(\"\"\"\n",
    "WITH valid_clients AS (\n",
    "    SELECT *\n",
    "    FROM longitudinal\n",
    "    WHERE normalized_channel='release' AND build IS NOT NULL AND build[0].application_name='Firefox'\n",
    "),\n",
    "\n",
    "addons AS (\n",
    "    SELECT client_id, feature_row.*\n",
    "    FROM valid_clients\n",
    "    LATERAL VIEW explode(active_addons[0]) feature_row\n",
    "),\n",
    "    \n",
    "non_system_addons AS(\n",
    "    SELECT client_id, collect_set(key) AS installed_addons\n",
    "    FROM addons\n",
    "    WHERE NOT value.is_system\n",
    "    GROUP BY client_id\n",
    ")\n",
    "\n",
    "SELECT\n",
    "    l.client_id,\n",
    "    non_system_addons.installed_addons,\n",
    "    settings[0].locale AS locale,\n",
    "    geo_city[0] AS geoCity,\n",
    "    subsession_length[0] AS subsessionLength,\n",
    "    system_os[0].name AS os,\n",
    "    scalar_parent_browser_engagement_total_uri_count[0].value AS total_uri,\n",
    "    scalar_parent_browser_engagement_tab_open_event_count[0].value as tab_open_count,\n",
    "    places_bookmarks_count[0].sum as bookmark_count,\n",
    "    scalar_parent_browser_engagement_unique_domains_count[0].value as unique_tlds,\n",
    "    profile_creation_date[0] as profile_date,\n",
    "    submission_date[0] as submission_date\n",
    "FROM valid_clients l LEFT OUTER JOIN non_system_addons\n",
    "ON l.client_id = non_system_addons.client_id\n",
    "\"\"\")\n",
    "\n",
    "rdd = frame.rdd"
   ]
  },
  {
   "cell_type": "markdown",
   "metadata": {},
   "source": [
    "## Loading addon data (AMO)\n",
    "\n",
    "We need to load the addon database to find out which addons are legacy addons."
   ]
  },
  {
   "cell_type": "code",
   "execution_count": 106,
   "metadata": {
    "collapsed": false
   },
   "outputs": [],
   "source": [
    "from taar.recommenders.utils import get_s3_json_content"
   ]
  },
  {
   "cell_type": "code",
   "execution_count": 107,
   "metadata": {
    "collapsed": true
   },
   "outputs": [],
   "source": [
    "AMO_DUMP_BUCKET = 'telemetry-parquet'\n",
    "AMO_DUMP_KEY = 'telemetry-ml/addon_recommender/addons_database.json'"
   ]
  },
  {
   "cell_type": "code",
   "execution_count": 108,
   "metadata": {
    "collapsed": false
   },
   "outputs": [],
   "source": [
    "amo_dump = get_s3_json_content(AMO_DUMP_BUCKET, AMO_DUMP_KEY)"
   ]
  },
  {
   "cell_type": "markdown",
   "metadata": {},
   "source": [
    "## Filtering out legacy addons\n",
    "\n",
    "This is a helper function that takes a list of addon IDs and only returns the IDs that are from legacy addons."
   ]
  },
  {
   "cell_type": "code",
   "execution_count": 109,
   "metadata": {
    "collapsed": true
   },
   "outputs": [],
   "source": [
    "def get_legacy_addons(installed_addons):\n",
    "    legacy_addons = []\n",
    "    \n",
    "    for addon_id in installed_addons:\n",
    "        if addon_id in amo_dump:\n",
    "            addon = amo_dump[addon_id]\n",
    "            addon_files = addon.get('current_version', {}).get('files', {})\n",
    "\n",
    "            is_webextension = any([f.get(\"is_webextension\", False) for f in addon_files])\n",
    "            is_legacy = not is_webextension\n",
    "\n",
    "            if is_legacy:\n",
    "                legacy_addons.append(addon_id)\n",
    "            \n",
    "    return legacy_addons"
   ]
  },
  {
   "cell_type": "markdown",
   "metadata": {},
   "source": [
    "## Completing client data"
   ]
  },
  {
   "cell_type": "code",
   "execution_count": 110,
   "metadata": {
    "collapsed": false
   },
   "outputs": [],
   "source": [
    "from dateutil.parser import parse as parse_date\n",
    "from datetime import datetime"
   ]
  },
  {
   "cell_type": "code",
   "execution_count": 111,
   "metadata": {
    "collapsed": true
   },
   "outputs": [],
   "source": [
    "def compute_weeks_ago(formatted_date):\n",
    "    try:\n",
    "        date = parse_date(formatted_date).replace(tzinfo=None)\n",
    "        days_ago = (datetime.today() - date).days\n",
    "        return days_ago / 7\n",
    "    except:\n",
    "        return float(\"inf\")"
   ]
  },
  {
   "cell_type": "code",
   "execution_count": 391,
   "metadata": {
    "collapsed": true
   },
   "outputs": [],
   "source": [
    "def complete_client_data(client_data):\n",
    "    client = client_data.asDict()\n",
    "    \n",
    "    client['installed_addons'] = client['installed_addons'] or []\n",
    "    client['disabled_addon_ids'] = get_legacy_addons(client['installed_addons'])\n",
    "    client['locale'] = str(client['locale'])\n",
    "    client['profile_age_in_weeks'] = compute_weeks_ago(client['profile_date'])\n",
    "    client['submission_age_in_weeks'] = compute_weeks_ago(client['submission_date'])\n",
    "    \n",
    "    return client"
   ]
  },
  {
   "cell_type": "markdown",
   "metadata": {},
   "source": [
    "## Evaluating the existing recommenders\n",
    "\n",
    "To check if a recommender is able to make a recommendation, it's sometimes easier and cleaner to directly query it instead of checking the important attributes ourselves. For example, this is the case for the locale recommender."
   ]
  },
  {
   "cell_type": "code",
   "execution_count": 113,
   "metadata": {
    "collapsed": true
   },
   "outputs": [],
   "source": [
    "from taar.recommenders import CollaborativeRecommender, LegacyRecommender, LocaleRecommender"
   ]
  },
  {
   "cell_type": "code",
   "execution_count": 114,
   "metadata": {
    "collapsed": true
   },
   "outputs": [],
   "source": [
    "class DummySimilarityRecommender:\n",
    "    def can_recommend(self, client_data):\n",
    "        REQUIRED_FIELDS = [\"geoCity\", \"subsessionLength\", \"locale\", \"os\", \"bookmark_count\", \"tab_open_count\",\n",
    "                           \"total_uri\", \"unique_tlds\"]\n",
    "\n",
    "        has_fields = all([client_data.get(f, None) is not None for f in REQUIRED_FIELDS])\n",
    "        return has_fields"
   ]
  },
  {
   "cell_type": "code",
   "execution_count": 115,
   "metadata": {
    "collapsed": true
   },
   "outputs": [],
   "source": [
    "recommenders = {\n",
    "    \"collaborative\": CollaborativeRecommender(),\n",
    "    \"legacy\": LegacyRecommender(),\n",
    "    \"locale\": LocaleRecommender(),\n",
    "    \"similarity\": DummySimilarityRecommender()\n",
    "}"
   ]
  },
  {
   "cell_type": "code",
   "execution_count": 116,
   "metadata": {
    "collapsed": true
   },
   "outputs": [],
   "source": [
    "def test_recommenders(client):\n",
    "    return tuple([recommender.can_recommend(client) for recommender in recommenders.values()])"
   ]
  },
  {
   "cell_type": "markdown",
   "metadata": {},
   "source": [
    "## Computing combined counts"
   ]
  },
  {
   "cell_type": "markdown",
   "metadata": {},
   "source": [
    "We iterate over all clients in the longitudinal dataset, change the attributes to the expected format and then query the individual recommenders."
   ]
  },
  {
   "cell_type": "code",
   "execution_count": 117,
   "metadata": {
    "collapsed": true
   },
   "outputs": [],
   "source": [
    "from operator import add\n",
    "from collections import defaultdict"
   ]
  },
  {
   "cell_type": "code",
   "execution_count": 392,
   "metadata": {
    "collapsed": false
   },
   "outputs": [],
   "source": [
    "rdd_completed = rdd.map(complete_client_data)"
   ]
  },
  {
   "cell_type": "code",
   "execution_count": 119,
   "metadata": {
    "collapsed": false
   },
   "outputs": [],
   "source": [
    "def analyse(rdd):\n",
    "    results = rdd\\\n",
    "        .map(test_recommenders)\\\n",
    "        .map(lambda x: (x, 1))\\\n",
    "        .reduceByKey(add)\\\n",
    "        .collect()\n",
    "        \n",
    "    return defaultdict(int, results)"
   ]
  },
  {
   "cell_type": "code",
   "execution_count": 349,
   "metadata": {
    "collapsed": false,
    "scrolled": true
   },
   "outputs": [
    {
     "name": "stdout",
     "output_type": "stream",
     "text": [
      "CPU times: user 9.71 s, sys: 404 ms, total: 10.1 s\n",
      "Wall time: 13min 10s\n"
     ]
    }
   ],
   "source": [
    "%time results = analyse(rdd_completed)"
   ]
  },
  {
   "cell_type": "code",
   "execution_count": 351,
   "metadata": {
    "collapsed": false
   },
   "outputs": [],
   "source": [
    "num_clients = sum(results.values())\n",
    "total_results = results"
   ]
  },
  {
   "cell_type": "markdown",
   "metadata": {},
   "source": [
    "## Computing individual counts"
   ]
  },
  {
   "cell_type": "code",
   "execution_count": 249,
   "metadata": {
    "collapsed": false,
    "scrolled": true
   },
   "outputs": [],
   "source": [
    "individual_counts = []\n",
    "\n",
    "for i in range(len(recommenders)):\n",
    "    count = 0\n",
    "    \n",
    "    for key, key_count in results.items():\n",
    "        if key[i]:\n",
    "            count += key_count\n",
    "            \n",
    "    individual_counts.append(count)"
   ]
  },
  {
   "cell_type": "markdown",
   "metadata": {},
   "source": [
    "## Displaying the results"
   ]
  },
  {
   "cell_type": "code",
   "execution_count": 250,
   "metadata": {
    "collapsed": true
   },
   "outputs": [],
   "source": [
    "from pandas import DataFrame"
   ]
  },
  {
   "cell_type": "code",
   "execution_count": 251,
   "metadata": {
    "collapsed": true
   },
   "outputs": [],
   "source": [
    "def format_int(num):\n",
    "    return \"{:,}\".format(num)"
   ]
  },
  {
   "cell_type": "code",
   "execution_count": 252,
   "metadata": {
    "collapsed": true
   },
   "outputs": [],
   "source": [
    "def format_frequency(frequency):\n",
    "    return \"%.5f\" % frequency"
   ]
  },
  {
   "cell_type": "code",
   "execution_count": 253,
   "metadata": {
    "collapsed": false
   },
   "outputs": [],
   "source": [
    "def get_relative_counts(counts, total=num_clients):\n",
    "    return [format_frequency(count / float(total)) for count in counts]"
   ]
  },
  {
   "cell_type": "markdown",
   "metadata": {},
   "source": [
    "This is a bit hacky. Sorting a data frame by formatted counts does not work; so we have to add the unformatted ones, sort the data frame, and then remove that column again."
   ]
  },
  {
   "cell_type": "code",
   "execution_count": 254,
   "metadata": {
    "collapsed": true
   },
   "outputs": [],
   "source": [
    "def sorted_dataframe(df, order, key=\"unformatted_counts\"):\n",
    "    df[key] = order\n",
    "    return df.sort_values(by=key, ascending=False).drop(key, axis=1)"
   ]
  },
  {
   "cell_type": "markdown",
   "metadata": {},
   "source": [
    "### Individual counts"
   ]
  },
  {
   "cell_type": "code",
   "execution_count": 255,
   "metadata": {
    "collapsed": false,
    "scrolled": true
   },
   "outputs": [
    {
     "data": {
      "text/html": [
       "<div>\n",
       "<table border=\"1\" class=\"dataframe\">\n",
       "  <thead>\n",
       "    <tr style=\"text-align: right;\">\n",
       "      <th></th>\n",
       "      <th>Relative count</th>\n",
       "    </tr>\n",
       "  </thead>\n",
       "  <tbody>\n",
       "    <tr>\n",
       "      <th>locale</th>\n",
       "      <td>0.99977</td>\n",
       "    </tr>\n",
       "    <tr>\n",
       "      <th>collaborative</th>\n",
       "      <td>0.41949</td>\n",
       "    </tr>\n",
       "    <tr>\n",
       "      <th>similarity</th>\n",
       "      <td>0.28339</td>\n",
       "    </tr>\n",
       "    <tr>\n",
       "      <th>legacy</th>\n",
       "      <td>0.01575</td>\n",
       "    </tr>\n",
       "  </tbody>\n",
       "</table>\n",
       "</div>"
      ],
      "text/plain": [
       "              Relative count\n",
       "locale               0.99977\n",
       "collaborative        0.41949\n",
       "similarity           0.28339\n",
       "legacy               0.01575"
      ]
     },
     "execution_count": 255,
     "metadata": {},
     "output_type": "execute_result"
    }
   ],
   "source": [
    "df = DataFrame(index=recommenders.keys(),\n",
    "          columns=[\"Relative count\"],\n",
    "          data=get_relative_counts(individual_counts)\n",
    ")\n",
    "\n",
    "sorted_dataframe(df, individual_counts)"
   ]
  },
  {
   "cell_type": "markdown",
   "metadata": {},
   "source": [
    "$\\implies$ The locale and collaborative recommenders are able to generate recommendations most of the time. The legacy recommender can only make recommendations very seldomly as not many users seem to have (legacy) addons installed."
   ]
  },
  {
   "cell_type": "markdown",
   "metadata": {},
   "source": [
    "### Combined counts\n",
    "\n",
    "It's interesting to see how well the individual recommenders complement each other. In the following, we count how often different combinations of the recommenders can make recommendations.\n",
    "\n",
    "The table is easier to read if cells are empty if a recommender is not available. If this is not desired, these variables can be changed:"
   ]
  },
  {
   "cell_type": "code",
   "execution_count": 256,
   "metadata": {
    "collapsed": true
   },
   "outputs": [],
   "source": [
    "recommender_available_label = \"Available\"\n",
    "recommender_unavailable_label = \"\""
   ]
  },
  {
   "cell_type": "code",
   "execution_count": 257,
   "metadata": {
    "collapsed": false
   },
   "outputs": [],
   "source": [
    "def format_labels(keys):\n",
    "    return tuple([recommender_available_label if key else recommender_unavailable_label for key in keys])"
   ]
  },
  {
   "cell_type": "code",
   "execution_count": 258,
   "metadata": {
    "collapsed": true
   },
   "outputs": [],
   "source": [
    "def format_data(keys, counts):\n",
    "    formatted_keys = map(format_labels, keys)\n",
    "    return [elems + count for elems, count in zip(formatted_keys, zip(*counts))]"
   ]
  },
  {
   "cell_type": "code",
   "execution_count": 259,
   "metadata": {
    "collapsed": false
   },
   "outputs": [],
   "source": [
    "columns = recommenders.keys() + [\"Relative counts\"]\n",
    "\n",
    "counts = get_relative_counts(results.values())\n",
    "data = format_data(results.keys(), [counts])"
   ]
  },
  {
   "cell_type": "code",
   "execution_count": 260,
   "metadata": {
    "collapsed": false,
    "scrolled": true
   },
   "outputs": [
    {
     "data": {
      "text/html": [
       "<div>\n",
       "<table border=\"1\" class=\"dataframe\">\n",
       "  <thead>\n",
       "    <tr style=\"text-align: right;\">\n",
       "      <th></th>\n",
       "      <th>locale</th>\n",
       "      <th>legacy</th>\n",
       "      <th>collaborative</th>\n",
       "      <th>similarity</th>\n",
       "      <th>Relative counts</th>\n",
       "    </tr>\n",
       "  </thead>\n",
       "  <tbody>\n",
       "    <tr>\n",
       "      <th>1</th>\n",
       "      <td>Available</td>\n",
       "      <td></td>\n",
       "      <td></td>\n",
       "      <td></td>\n",
       "      <td>0.44747</td>\n",
       "    </tr>\n",
       "    <tr>\n",
       "      <th>3</th>\n",
       "      <td>Available</td>\n",
       "      <td></td>\n",
       "      <td>Available</td>\n",
       "      <td></td>\n",
       "      <td>0.26032</td>\n",
       "    </tr>\n",
       "    <tr>\n",
       "      <th>0</th>\n",
       "      <td>Available</td>\n",
       "      <td></td>\n",
       "      <td>Available</td>\n",
       "      <td>Available</td>\n",
       "      <td>0.14333</td>\n",
       "    </tr>\n",
       "    <tr>\n",
       "      <th>5</th>\n",
       "      <td>Available</td>\n",
       "      <td></td>\n",
       "      <td></td>\n",
       "      <td>Available</td>\n",
       "      <td>0.13290</td>\n",
       "    </tr>\n",
       "    <tr>\n",
       "      <th>10</th>\n",
       "      <td>Available</td>\n",
       "      <td>Available</td>\n",
       "      <td>Available</td>\n",
       "      <td></td>\n",
       "      <td>0.00865</td>\n",
       "    </tr>\n",
       "    <tr>\n",
       "      <th>7</th>\n",
       "      <td>Available</td>\n",
       "      <td>Available</td>\n",
       "      <td>Available</td>\n",
       "      <td>Available</td>\n",
       "      <td>0.00710</td>\n",
       "    </tr>\n",
       "    <tr>\n",
       "      <th>2</th>\n",
       "      <td></td>\n",
       "      <td></td>\n",
       "      <td></td>\n",
       "      <td></td>\n",
       "      <td>0.00011</td>\n",
       "    </tr>\n",
       "    <tr>\n",
       "      <th>6</th>\n",
       "      <td></td>\n",
       "      <td></td>\n",
       "      <td>Available</td>\n",
       "      <td></td>\n",
       "      <td>0.00006</td>\n",
       "    </tr>\n",
       "    <tr>\n",
       "      <th>9</th>\n",
       "      <td></td>\n",
       "      <td></td>\n",
       "      <td>Available</td>\n",
       "      <td>Available</td>\n",
       "      <td>0.00003</td>\n",
       "    </tr>\n",
       "    <tr>\n",
       "      <th>11</th>\n",
       "      <td></td>\n",
       "      <td></td>\n",
       "      <td></td>\n",
       "      <td>Available</td>\n",
       "      <td>0.00003</td>\n",
       "    </tr>\n",
       "    <tr>\n",
       "      <th>8</th>\n",
       "      <td></td>\n",
       "      <td>Available</td>\n",
       "      <td>Available</td>\n",
       "      <td></td>\n",
       "      <td>0.00000</td>\n",
       "    </tr>\n",
       "    <tr>\n",
       "      <th>4</th>\n",
       "      <td></td>\n",
       "      <td>Available</td>\n",
       "      <td>Available</td>\n",
       "      <td>Available</td>\n",
       "      <td>0.00000</td>\n",
       "    </tr>\n",
       "  </tbody>\n",
       "</table>\n",
       "</div>"
      ],
      "text/plain": [
       "       locale     legacy collaborative similarity Relative counts\n",
       "1   Available                                             0.44747\n",
       "3   Available                Available                    0.26032\n",
       "0   Available                Available  Available         0.14333\n",
       "5   Available                           Available         0.13290\n",
       "10  Available  Available     Available                    0.00865\n",
       "7   Available  Available     Available  Available         0.00710\n",
       "2                                                         0.00011\n",
       "6                            Available                    0.00006\n",
       "9                            Available  Available         0.00003\n",
       "11                                      Available         0.00003\n",
       "8              Available     Available                    0.00000\n",
       "4              Available     Available  Available         0.00000"
      ]
     },
     "execution_count": 260,
     "metadata": {},
     "output_type": "execute_result"
    }
   ],
   "source": [
    "df = DataFrame(columns=columns, data=data)\n",
    "sorted_dataframe(df, results.values())"
   ]
  },
  {
   "cell_type": "markdown",
   "metadata": {},
   "source": [
    "$\\implies$ If any recommender is available, then the locale recommenders is generally also available. Other than that, there is a good chance the the collaborative recommender is available.\n",
    "There is only a very small portion of cases where the similarity recommender was able to make a recommendation, when locale/collaborative were not; and not a single such case for the legacy recommender."
   ]
  },
  {
   "cell_type": "markdown",
   "metadata": {},
   "source": [
    "### Grouped by number of available recommenders"
   ]
  },
  {
   "cell_type": "code",
   "execution_count": 261,
   "metadata": {
    "collapsed": false
   },
   "outputs": [],
   "source": [
    "from itertools import groupby\n",
    "from operator import itemgetter"
   ]
  },
  {
   "cell_type": "code",
   "execution_count": 262,
   "metadata": {
    "collapsed": true
   },
   "outputs": [],
   "source": [
    "from IPython.display import display, Markdown"
   ]
  },
  {
   "cell_type": "code",
   "execution_count": 263,
   "metadata": {
    "collapsed": false
   },
   "outputs": [
    {
     "data": {
      "text/markdown": [
       "#### 0 available recommenders"
      ],
      "text/plain": [
       "<IPython.core.display.Markdown object>"
      ]
     },
     "metadata": {},
     "output_type": "display_data"
    },
    {
     "data": {
      "text/html": [
       "<div>\n",
       "<table border=\"1\" class=\"dataframe\">\n",
       "  <thead>\n",
       "    <tr style=\"text-align: right;\">\n",
       "      <th></th>\n",
       "      <th>locale</th>\n",
       "      <th>legacy</th>\n",
       "      <th>collaborative</th>\n",
       "      <th>similarity</th>\n",
       "      <th>Relative to all</th>\n",
       "      <th>Relative to this table</th>\n",
       "    </tr>\n",
       "  </thead>\n",
       "  <tbody>\n",
       "    <tr>\n",
       "      <th>0</th>\n",
       "      <td></td>\n",
       "      <td></td>\n",
       "      <td></td>\n",
       "      <td></td>\n",
       "      <td>0.00011</td>\n",
       "      <td>1.00000</td>\n",
       "    </tr>\n",
       "  </tbody>\n",
       "</table>\n",
       "</div>"
      ],
      "text/plain": [
       "  locale legacy collaborative similarity Relative to all  \\\n",
       "0                                                0.00011   \n",
       "\n",
       "  Relative to this table  \n",
       "0                1.00000  "
      ]
     },
     "metadata": {},
     "output_type": "display_data"
    },
    {
     "data": {
      "text/markdown": [
       "#### 1 available recommender"
      ],
      "text/plain": [
       "<IPython.core.display.Markdown object>"
      ]
     },
     "metadata": {},
     "output_type": "display_data"
    },
    {
     "data": {
      "text/html": [
       "<div>\n",
       "<table border=\"1\" class=\"dataframe\">\n",
       "  <thead>\n",
       "    <tr style=\"text-align: right;\">\n",
       "      <th></th>\n",
       "      <th>locale</th>\n",
       "      <th>legacy</th>\n",
       "      <th>collaborative</th>\n",
       "      <th>similarity</th>\n",
       "      <th>Relative to all</th>\n",
       "      <th>Relative to this table</th>\n",
       "    </tr>\n",
       "  </thead>\n",
       "  <tbody>\n",
       "    <tr>\n",
       "      <th>0</th>\n",
       "      <td>Available</td>\n",
       "      <td></td>\n",
       "      <td></td>\n",
       "      <td></td>\n",
       "      <td>0.44747</td>\n",
       "      <td>0.99980</td>\n",
       "    </tr>\n",
       "    <tr>\n",
       "      <th>1</th>\n",
       "      <td></td>\n",
       "      <td></td>\n",
       "      <td>Available</td>\n",
       "      <td></td>\n",
       "      <td>0.00006</td>\n",
       "      <td>0.00014</td>\n",
       "    </tr>\n",
       "    <tr>\n",
       "      <th>2</th>\n",
       "      <td></td>\n",
       "      <td></td>\n",
       "      <td></td>\n",
       "      <td>Available</td>\n",
       "      <td>0.00003</td>\n",
       "      <td>0.00006</td>\n",
       "    </tr>\n",
       "  </tbody>\n",
       "</table>\n",
       "</div>"
      ],
      "text/plain": [
       "      locale legacy collaborative similarity Relative to all  \\\n",
       "0  Available                                         0.44747   \n",
       "1                       Available                    0.00006   \n",
       "2                                  Available         0.00003   \n",
       "\n",
       "  Relative to this table  \n",
       "0                0.99980  \n",
       "1                0.00014  \n",
       "2                0.00006  "
      ]
     },
     "metadata": {},
     "output_type": "display_data"
    },
    {
     "data": {
      "text/markdown": [
       "#### 2 available recommenders"
      ],
      "text/plain": [
       "<IPython.core.display.Markdown object>"
      ]
     },
     "metadata": {},
     "output_type": "display_data"
    },
    {
     "data": {
      "text/html": [
       "<div>\n",
       "<table border=\"1\" class=\"dataframe\">\n",
       "  <thead>\n",
       "    <tr style=\"text-align: right;\">\n",
       "      <th></th>\n",
       "      <th>locale</th>\n",
       "      <th>legacy</th>\n",
       "      <th>collaborative</th>\n",
       "      <th>similarity</th>\n",
       "      <th>Relative to all</th>\n",
       "      <th>Relative to this table</th>\n",
       "    </tr>\n",
       "  </thead>\n",
       "  <tbody>\n",
       "    <tr>\n",
       "      <th>0</th>\n",
       "      <td>Available</td>\n",
       "      <td></td>\n",
       "      <td>Available</td>\n",
       "      <td></td>\n",
       "      <td>0.26032</td>\n",
       "      <td>0.66197</td>\n",
       "    </tr>\n",
       "    <tr>\n",
       "      <th>1</th>\n",
       "      <td>Available</td>\n",
       "      <td></td>\n",
       "      <td></td>\n",
       "      <td>Available</td>\n",
       "      <td>0.13290</td>\n",
       "      <td>0.33795</td>\n",
       "    </tr>\n",
       "    <tr>\n",
       "      <th>3</th>\n",
       "      <td></td>\n",
       "      <td></td>\n",
       "      <td>Available</td>\n",
       "      <td>Available</td>\n",
       "      <td>0.00003</td>\n",
       "      <td>0.00007</td>\n",
       "    </tr>\n",
       "    <tr>\n",
       "      <th>2</th>\n",
       "      <td></td>\n",
       "      <td>Available</td>\n",
       "      <td>Available</td>\n",
       "      <td></td>\n",
       "      <td>0.00000</td>\n",
       "      <td>0.00000</td>\n",
       "    </tr>\n",
       "  </tbody>\n",
       "</table>\n",
       "</div>"
      ],
      "text/plain": [
       "      locale     legacy collaborative similarity Relative to all  \\\n",
       "0  Available                Available                    0.26032   \n",
       "1  Available                           Available         0.13290   \n",
       "3                           Available  Available         0.00003   \n",
       "2             Available     Available                    0.00000   \n",
       "\n",
       "  Relative to this table  \n",
       "0                0.66197  \n",
       "1                0.33795  \n",
       "3                0.00007  \n",
       "2                0.00000  "
      ]
     },
     "metadata": {},
     "output_type": "display_data"
    },
    {
     "data": {
      "text/markdown": [
       "#### 3 available recommenders"
      ],
      "text/plain": [
       "<IPython.core.display.Markdown object>"
      ]
     },
     "metadata": {},
     "output_type": "display_data"
    },
    {
     "data": {
      "text/html": [
       "<div>\n",
       "<table border=\"1\" class=\"dataframe\">\n",
       "  <thead>\n",
       "    <tr style=\"text-align: right;\">\n",
       "      <th></th>\n",
       "      <th>locale</th>\n",
       "      <th>legacy</th>\n",
       "      <th>collaborative</th>\n",
       "      <th>similarity</th>\n",
       "      <th>Relative to all</th>\n",
       "      <th>Relative to this table</th>\n",
       "    </tr>\n",
       "  </thead>\n",
       "  <tbody>\n",
       "    <tr>\n",
       "      <th>0</th>\n",
       "      <td>Available</td>\n",
       "      <td></td>\n",
       "      <td>Available</td>\n",
       "      <td>Available</td>\n",
       "      <td>0.14333</td>\n",
       "      <td>0.94310</td>\n",
       "    </tr>\n",
       "    <tr>\n",
       "      <th>2</th>\n",
       "      <td>Available</td>\n",
       "      <td>Available</td>\n",
       "      <td>Available</td>\n",
       "      <td></td>\n",
       "      <td>0.00865</td>\n",
       "      <td>0.05690</td>\n",
       "    </tr>\n",
       "    <tr>\n",
       "      <th>1</th>\n",
       "      <td></td>\n",
       "      <td>Available</td>\n",
       "      <td>Available</td>\n",
       "      <td>Available</td>\n",
       "      <td>0.00000</td>\n",
       "      <td>0.00001</td>\n",
       "    </tr>\n",
       "  </tbody>\n",
       "</table>\n",
       "</div>"
      ],
      "text/plain": [
       "      locale     legacy collaborative similarity Relative to all  \\\n",
       "0  Available                Available  Available         0.14333   \n",
       "2  Available  Available     Available                    0.00865   \n",
       "1             Available     Available  Available         0.00000   \n",
       "\n",
       "  Relative to this table  \n",
       "0                0.94310  \n",
       "2                0.05690  \n",
       "1                0.00001  "
      ]
     },
     "metadata": {},
     "output_type": "display_data"
    },
    {
     "data": {
      "text/markdown": [
       "#### 4 available recommenders"
      ],
      "text/plain": [
       "<IPython.core.display.Markdown object>"
      ]
     },
     "metadata": {},
     "output_type": "display_data"
    },
    {
     "data": {
      "text/html": [
       "<div>\n",
       "<table border=\"1\" class=\"dataframe\">\n",
       "  <thead>\n",
       "    <tr style=\"text-align: right;\">\n",
       "      <th></th>\n",
       "      <th>locale</th>\n",
       "      <th>legacy</th>\n",
       "      <th>collaborative</th>\n",
       "      <th>similarity</th>\n",
       "      <th>Relative to all</th>\n",
       "      <th>Relative to this table</th>\n",
       "    </tr>\n",
       "  </thead>\n",
       "  <tbody>\n",
       "    <tr>\n",
       "      <th>0</th>\n",
       "      <td>Available</td>\n",
       "      <td>Available</td>\n",
       "      <td>Available</td>\n",
       "      <td>Available</td>\n",
       "      <td>0.00710</td>\n",
       "      <td>1.00000</td>\n",
       "    </tr>\n",
       "  </tbody>\n",
       "</table>\n",
       "</div>"
      ],
      "text/plain": [
       "      locale     legacy collaborative similarity Relative to all  \\\n",
       "0  Available  Available     Available  Available         0.00710   \n",
       "\n",
       "  Relative to this table  \n",
       "0                1.00000  "
      ]
     },
     "metadata": {},
     "output_type": "display_data"
    }
   ],
   "source": [
    "for num, group in groupby(sorted(results.keys(), key=sum), sum):\n",
    "    display(Markdown(\"#### %d available recommender%s\" % (num, \"s\" if num != 1 else \"\")))\n",
    "    \n",
    "    sub_keys = list(group)\n",
    "    formatted_keys = map(format_labels, sub_keys)\n",
    "    \n",
    "    sub_counts = [results[key] for key in sub_keys]\n",
    "    sub_counts_to_total = get_relative_counts(sub_counts)\n",
    "    sub_counts_to_table = get_relative_counts(sub_counts, sum(sub_counts))\n",
    "    \n",
    "    zipped_data = zip(formatted_keys, sub_counts_to_total, sub_counts_to_table)\n",
    "    data = [elems + (counts, table_counts) for elems, counts, table_counts in zipped_data]\n",
    "    \n",
    "    columns = recommenders.keys() + [\"Relative to all\", \"Relative to this table\"]\n",
    "    \n",
    "    df = DataFrame(columns=columns, data=data)\n",
    "    df = sorted_dataframe(df, sub_counts)\n",
    "    display(df)"
   ]
  },
  {
   "cell_type": "markdown",
   "metadata": {},
   "source": [
    "## By dates\n",
    "\n",
    "In this section, we perform a similar analysis as before but on subsets of the data. These subsets are specified by when the client profile was generated. `conditions` is a list that contains ranges for the profile age in weeks. The end of the range is exclusive, similar to ranges in Python's standard library."
   ]
  },
  {
   "cell_type": "code",
   "execution_count": 137,
   "metadata": {
    "collapsed": true
   },
   "outputs": [],
   "source": [
    "conditions = [\n",
    "    (0, 1),\n",
    "    (1, 2),\n",
    "    (2, 3),\n",
    "    (3, 4)\n",
    "]"
   ]
  },
  {
   "cell_type": "code",
   "execution_count": 303,
   "metadata": {
    "collapsed": true
   },
   "outputs": [],
   "source": [
    "import numpy as np\n",
    "from numpy import argsort\n",
    "from itertools import product"
   ]
  },
  {
   "cell_type": "code",
   "execution_count": 139,
   "metadata": {
    "collapsed": true
   },
   "outputs": [],
   "source": [
    "def attribute_between(attr, min_weeks, max_weeks):\n",
    "    return lambda client: min_weeks <= client[attr] < max_weeks"
   ]
  },
  {
   "cell_type": "code",
   "execution_count": 369,
   "metadata": {
    "collapsed": true
   },
   "outputs": [],
   "source": [
    "def get_conditioned_results(attr, conditions):\n",
    "    conditioned_results = {}\n",
    "\n",
    "    for (min_weeks, max_weeks) in conditions:\n",
    "        sub_rdd = rdd_completed.filter(attribute_between(attr, min_weeks, max_weeks))\n",
    "        conditioned_results[(min_weeks, max_weeks)] = analyse(sub_rdd)\n",
    "        \n",
    "    return conditioned_results"
   ]
  },
  {
   "cell_type": "markdown",
   "metadata": {},
   "source": [
    "### By profile age in weeks"
   ]
  },
  {
   "cell_type": "code",
   "execution_count": 140,
   "metadata": {
    "collapsed": false
   },
   "outputs": [
    {
     "name": "stdout",
     "output_type": "stream",
     "text": [
      "CPU times: user 39.1 s, sys: 1.49 s, total: 40.6 s\n",
      "Wall time: 52min 19s\n"
     ]
    }
   ],
   "source": [
    "%time conditioned_results = get_conditioned_results(\"profile_age_in_weeks\", conditions)"
   ]
  },
  {
   "cell_type": "markdown",
   "metadata": {},
   "source": [
    "To make things a little bit easier to read, only recommender combinations that actually appear are displayed in the table."
   ]
  },
  {
   "cell_type": "code",
   "execution_count": 402,
   "metadata": {
    "collapsed": false
   },
   "outputs": [],
   "source": [
    "def nonzero_combinations(conditioned_results):\n",
    "    combinations = []\n",
    "\n",
    "    for sub_result in conditioned_results.values():\n",
    "        combinations += [key for key, value in sub_result.items() if value > 0]\n",
    "\n",
    "    return set(combinations)"
   ]
  },
  {
   "cell_type": "code",
   "execution_count": 410,
   "metadata": {
    "collapsed": true
   },
   "outputs": [],
   "source": [
    "combinations = nonzero_combinations(conditioned_results)"
   ]
  },
  {
   "cell_type": "code",
   "execution_count": 411,
   "metadata": {
    "collapsed": false,
    "scrolled": false
   },
   "outputs": [],
   "source": [
    "def display_individual_filtered_results(conditioned_results, combinations, label):\n",
    "    display(Markdown(\"### Filtering on the %s, Python-like exclusive ranges\" % label))\n",
    "\n",
    "    counts = []\n",
    "    titles = []\n",
    "\n",
    "    columns = recommenders.keys() + [\"Relative counts\"]\n",
    "\n",
    "    for key in conditions:\n",
    "        sub_results = conditioned_results[key]\n",
    "        values = [sub_results[sub_key] for sub_key in combinations]\n",
    "        summed = sum(values)\n",
    "\n",
    "        sub_counts = get_relative_counts(values, summed)\n",
    "        data = format_data(combinations, [sub_counts])\n",
    "        counts.append(sub_counts)\n",
    "\n",
    "        title = \"Between %d and %d weeks\" % key\n",
    "        titles.append(title)\n",
    "        display(Markdown(\"#### %s\" % title))\n",
    "\n",
    "        df = DataFrame(columns=columns, data=data)\n",
    "        df = sorted_dataframe(df, values)\n",
    "        display(df)\n",
    "\n",
    "    return counts, titles"
   ]
  },
  {
   "cell_type": "code",
   "execution_count": 419,
   "metadata": {
    "collapsed": false,
    "scrolled": true
   },
   "outputs": [
    {
     "data": {
      "text/markdown": [
       "### Filtering on the profile age, Python-like exclusive ranges"
      ],
      "text/plain": [
       "<IPython.core.display.Markdown object>"
      ]
     },
     "metadata": {},
     "output_type": "display_data"
    },
    {
     "data": {
      "text/markdown": [
       "#### Between 0 and 1 weeks"
      ],
      "text/plain": [
       "<IPython.core.display.Markdown object>"
      ]
     },
     "metadata": {},
     "output_type": "display_data"
    },
    {
     "data": {
      "text/html": [
       "<div>\n",
       "<table border=\"1\" class=\"dataframe\">\n",
       "  <thead>\n",
       "    <tr style=\"text-align: right;\">\n",
       "      <th></th>\n",
       "      <th>locale</th>\n",
       "      <th>legacy</th>\n",
       "      <th>collaborative</th>\n",
       "      <th>similarity</th>\n",
       "      <th>Relative counts</th>\n",
       "    </tr>\n",
       "  </thead>\n",
       "  <tbody>\n",
       "    <tr>\n",
       "      <th>1</th>\n",
       "      <td>Available</td>\n",
       "      <td></td>\n",
       "      <td></td>\n",
       "      <td></td>\n",
       "      <td>0.56426</td>\n",
       "    </tr>\n",
       "    <tr>\n",
       "      <th>3</th>\n",
       "      <td>Available</td>\n",
       "      <td></td>\n",
       "      <td>Available</td>\n",
       "      <td></td>\n",
       "      <td>0.24668</td>\n",
       "    </tr>\n",
       "    <tr>\n",
       "      <th>5</th>\n",
       "      <td>Available</td>\n",
       "      <td></td>\n",
       "      <td></td>\n",
       "      <td>Available</td>\n",
       "      <td>0.11291</td>\n",
       "    </tr>\n",
       "    <tr>\n",
       "      <th>0</th>\n",
       "      <td>Available</td>\n",
       "      <td></td>\n",
       "      <td>Available</td>\n",
       "      <td>Available</td>\n",
       "      <td>0.06858</td>\n",
       "    </tr>\n",
       "    <tr>\n",
       "      <th>10</th>\n",
       "      <td>Available</td>\n",
       "      <td>Available</td>\n",
       "      <td>Available</td>\n",
       "      <td></td>\n",
       "      <td>0.00447</td>\n",
       "    </tr>\n",
       "    <tr>\n",
       "      <th>7</th>\n",
       "      <td>Available</td>\n",
       "      <td>Available</td>\n",
       "      <td>Available</td>\n",
       "      <td>Available</td>\n",
       "      <td>0.00304</td>\n",
       "    </tr>\n",
       "    <tr>\n",
       "      <th>8</th>\n",
       "      <td></td>\n",
       "      <td></td>\n",
       "      <td></td>\n",
       "      <td></td>\n",
       "      <td>0.00006</td>\n",
       "    </tr>\n",
       "    <tr>\n",
       "      <th>2</th>\n",
       "      <td></td>\n",
       "      <td>Available</td>\n",
       "      <td>Available</td>\n",
       "      <td></td>\n",
       "      <td>0.00000</td>\n",
       "    </tr>\n",
       "    <tr>\n",
       "      <th>4</th>\n",
       "      <td></td>\n",
       "      <td>Available</td>\n",
       "      <td>Available</td>\n",
       "      <td>Available</td>\n",
       "      <td>0.00000</td>\n",
       "    </tr>\n",
       "    <tr>\n",
       "      <th>6</th>\n",
       "      <td></td>\n",
       "      <td></td>\n",
       "      <td>Available</td>\n",
       "      <td></td>\n",
       "      <td>0.00000</td>\n",
       "    </tr>\n",
       "    <tr>\n",
       "      <th>9</th>\n",
       "      <td></td>\n",
       "      <td></td>\n",
       "      <td>Available</td>\n",
       "      <td>Available</td>\n",
       "      <td>0.00000</td>\n",
       "    </tr>\n",
       "    <tr>\n",
       "      <th>11</th>\n",
       "      <td></td>\n",
       "      <td></td>\n",
       "      <td></td>\n",
       "      <td>Available</td>\n",
       "      <td>0.00000</td>\n",
       "    </tr>\n",
       "  </tbody>\n",
       "</table>\n",
       "</div>"
      ],
      "text/plain": [
       "       locale     legacy collaborative similarity Relative counts\n",
       "1   Available                                             0.56426\n",
       "3   Available                Available                    0.24668\n",
       "5   Available                           Available         0.11291\n",
       "0   Available                Available  Available         0.06858\n",
       "10  Available  Available     Available                    0.00447\n",
       "7   Available  Available     Available  Available         0.00304\n",
       "8                                                         0.00006\n",
       "2              Available     Available                    0.00000\n",
       "4              Available     Available  Available         0.00000\n",
       "6                            Available                    0.00000\n",
       "9                            Available  Available         0.00000\n",
       "11                                      Available         0.00000"
      ]
     },
     "metadata": {},
     "output_type": "display_data"
    },
    {
     "data": {
      "text/markdown": [
       "#### Between 1 and 2 weeks"
      ],
      "text/plain": [
       "<IPython.core.display.Markdown object>"
      ]
     },
     "metadata": {},
     "output_type": "display_data"
    },
    {
     "data": {
      "text/html": [
       "<div>\n",
       "<table border=\"1\" class=\"dataframe\">\n",
       "  <thead>\n",
       "    <tr style=\"text-align: right;\">\n",
       "      <th></th>\n",
       "      <th>locale</th>\n",
       "      <th>legacy</th>\n",
       "      <th>collaborative</th>\n",
       "      <th>similarity</th>\n",
       "      <th>Relative counts</th>\n",
       "    </tr>\n",
       "  </thead>\n",
       "  <tbody>\n",
       "    <tr>\n",
       "      <th>1</th>\n",
       "      <td>Available</td>\n",
       "      <td></td>\n",
       "      <td></td>\n",
       "      <td></td>\n",
       "      <td>0.55178</td>\n",
       "    </tr>\n",
       "    <tr>\n",
       "      <th>3</th>\n",
       "      <td>Available</td>\n",
       "      <td></td>\n",
       "      <td>Available</td>\n",
       "      <td></td>\n",
       "      <td>0.21705</td>\n",
       "    </tr>\n",
       "    <tr>\n",
       "      <th>5</th>\n",
       "      <td>Available</td>\n",
       "      <td></td>\n",
       "      <td></td>\n",
       "      <td>Available</td>\n",
       "      <td>0.14102</td>\n",
       "    </tr>\n",
       "    <tr>\n",
       "      <th>0</th>\n",
       "      <td>Available</td>\n",
       "      <td></td>\n",
       "      <td>Available</td>\n",
       "      <td>Available</td>\n",
       "      <td>0.08284</td>\n",
       "    </tr>\n",
       "    <tr>\n",
       "      <th>10</th>\n",
       "      <td>Available</td>\n",
       "      <td>Available</td>\n",
       "      <td>Available</td>\n",
       "      <td></td>\n",
       "      <td>0.00407</td>\n",
       "    </tr>\n",
       "    <tr>\n",
       "      <th>7</th>\n",
       "      <td>Available</td>\n",
       "      <td>Available</td>\n",
       "      <td>Available</td>\n",
       "      <td>Available</td>\n",
       "      <td>0.00307</td>\n",
       "    </tr>\n",
       "    <tr>\n",
       "      <th>6</th>\n",
       "      <td></td>\n",
       "      <td></td>\n",
       "      <td>Available</td>\n",
       "      <td></td>\n",
       "      <td>0.00008</td>\n",
       "    </tr>\n",
       "    <tr>\n",
       "      <th>8</th>\n",
       "      <td></td>\n",
       "      <td></td>\n",
       "      <td></td>\n",
       "      <td></td>\n",
       "      <td>0.00008</td>\n",
       "    </tr>\n",
       "    <tr>\n",
       "      <th>9</th>\n",
       "      <td></td>\n",
       "      <td></td>\n",
       "      <td>Available</td>\n",
       "      <td>Available</td>\n",
       "      <td>0.00001</td>\n",
       "    </tr>\n",
       "    <tr>\n",
       "      <th>2</th>\n",
       "      <td></td>\n",
       "      <td>Available</td>\n",
       "      <td>Available</td>\n",
       "      <td></td>\n",
       "      <td>0.00000</td>\n",
       "    </tr>\n",
       "    <tr>\n",
       "      <th>4</th>\n",
       "      <td></td>\n",
       "      <td>Available</td>\n",
       "      <td>Available</td>\n",
       "      <td>Available</td>\n",
       "      <td>0.00000</td>\n",
       "    </tr>\n",
       "    <tr>\n",
       "      <th>11</th>\n",
       "      <td></td>\n",
       "      <td></td>\n",
       "      <td></td>\n",
       "      <td>Available</td>\n",
       "      <td>0.00000</td>\n",
       "    </tr>\n",
       "  </tbody>\n",
       "</table>\n",
       "</div>"
      ],
      "text/plain": [
       "       locale     legacy collaborative similarity Relative counts\n",
       "1   Available                                             0.55178\n",
       "3   Available                Available                    0.21705\n",
       "5   Available                           Available         0.14102\n",
       "0   Available                Available  Available         0.08284\n",
       "10  Available  Available     Available                    0.00407\n",
       "7   Available  Available     Available  Available         0.00307\n",
       "6                            Available                    0.00008\n",
       "8                                                         0.00008\n",
       "9                            Available  Available         0.00001\n",
       "2              Available     Available                    0.00000\n",
       "4              Available     Available  Available         0.00000\n",
       "11                                      Available         0.00000"
      ]
     },
     "metadata": {},
     "output_type": "display_data"
    },
    {
     "data": {
      "text/markdown": [
       "#### Between 2 and 3 weeks"
      ],
      "text/plain": [
       "<IPython.core.display.Markdown object>"
      ]
     },
     "metadata": {},
     "output_type": "display_data"
    },
    {
     "data": {
      "text/html": [
       "<div>\n",
       "<table border=\"1\" class=\"dataframe\">\n",
       "  <thead>\n",
       "    <tr style=\"text-align: right;\">\n",
       "      <th></th>\n",
       "      <th>locale</th>\n",
       "      <th>legacy</th>\n",
       "      <th>collaborative</th>\n",
       "      <th>similarity</th>\n",
       "      <th>Relative counts</th>\n",
       "    </tr>\n",
       "  </thead>\n",
       "  <tbody>\n",
       "    <tr>\n",
       "      <th>1</th>\n",
       "      <td>Available</td>\n",
       "      <td></td>\n",
       "      <td></td>\n",
       "      <td></td>\n",
       "      <td>0.52717</td>\n",
       "    </tr>\n",
       "    <tr>\n",
       "      <th>3</th>\n",
       "      <td>Available</td>\n",
       "      <td></td>\n",
       "      <td>Available</td>\n",
       "      <td></td>\n",
       "      <td>0.22324</td>\n",
       "    </tr>\n",
       "    <tr>\n",
       "      <th>5</th>\n",
       "      <td>Available</td>\n",
       "      <td></td>\n",
       "      <td></td>\n",
       "      <td>Available</td>\n",
       "      <td>0.14923</td>\n",
       "    </tr>\n",
       "    <tr>\n",
       "      <th>0</th>\n",
       "      <td>Available</td>\n",
       "      <td></td>\n",
       "      <td>Available</td>\n",
       "      <td>Available</td>\n",
       "      <td>0.09279</td>\n",
       "    </tr>\n",
       "    <tr>\n",
       "      <th>10</th>\n",
       "      <td>Available</td>\n",
       "      <td>Available</td>\n",
       "      <td>Available</td>\n",
       "      <td></td>\n",
       "      <td>0.00400</td>\n",
       "    </tr>\n",
       "    <tr>\n",
       "      <th>7</th>\n",
       "      <td>Available</td>\n",
       "      <td>Available</td>\n",
       "      <td>Available</td>\n",
       "      <td>Available</td>\n",
       "      <td>0.00344</td>\n",
       "    </tr>\n",
       "    <tr>\n",
       "      <th>8</th>\n",
       "      <td></td>\n",
       "      <td></td>\n",
       "      <td></td>\n",
       "      <td></td>\n",
       "      <td>0.00006</td>\n",
       "    </tr>\n",
       "    <tr>\n",
       "      <th>6</th>\n",
       "      <td></td>\n",
       "      <td></td>\n",
       "      <td>Available</td>\n",
       "      <td></td>\n",
       "      <td>0.00003</td>\n",
       "    </tr>\n",
       "    <tr>\n",
       "      <th>9</th>\n",
       "      <td></td>\n",
       "      <td></td>\n",
       "      <td>Available</td>\n",
       "      <td>Available</td>\n",
       "      <td>0.00003</td>\n",
       "    </tr>\n",
       "    <tr>\n",
       "      <th>11</th>\n",
       "      <td></td>\n",
       "      <td></td>\n",
       "      <td></td>\n",
       "      <td>Available</td>\n",
       "      <td>0.00001</td>\n",
       "    </tr>\n",
       "    <tr>\n",
       "      <th>2</th>\n",
       "      <td></td>\n",
       "      <td>Available</td>\n",
       "      <td>Available</td>\n",
       "      <td></td>\n",
       "      <td>0.00000</td>\n",
       "    </tr>\n",
       "    <tr>\n",
       "      <th>4</th>\n",
       "      <td></td>\n",
       "      <td>Available</td>\n",
       "      <td>Available</td>\n",
       "      <td>Available</td>\n",
       "      <td>0.00000</td>\n",
       "    </tr>\n",
       "  </tbody>\n",
       "</table>\n",
       "</div>"
      ],
      "text/plain": [
       "       locale     legacy collaborative similarity Relative counts\n",
       "1   Available                                             0.52717\n",
       "3   Available                Available                    0.22324\n",
       "5   Available                           Available         0.14923\n",
       "0   Available                Available  Available         0.09279\n",
       "10  Available  Available     Available                    0.00400\n",
       "7   Available  Available     Available  Available         0.00344\n",
       "8                                                         0.00006\n",
       "6                            Available                    0.00003\n",
       "9                            Available  Available         0.00003\n",
       "11                                      Available         0.00001\n",
       "2              Available     Available                    0.00000\n",
       "4              Available     Available  Available         0.00000"
      ]
     },
     "metadata": {},
     "output_type": "display_data"
    },
    {
     "data": {
      "text/markdown": [
       "#### Between 3 and 4 weeks"
      ],
      "text/plain": [
       "<IPython.core.display.Markdown object>"
      ]
     },
     "metadata": {},
     "output_type": "display_data"
    },
    {
     "data": {
      "text/html": [
       "<div>\n",
       "<table border=\"1\" class=\"dataframe\">\n",
       "  <thead>\n",
       "    <tr style=\"text-align: right;\">\n",
       "      <th></th>\n",
       "      <th>locale</th>\n",
       "      <th>legacy</th>\n",
       "      <th>collaborative</th>\n",
       "      <th>similarity</th>\n",
       "      <th>Relative counts</th>\n",
       "    </tr>\n",
       "  </thead>\n",
       "  <tbody>\n",
       "    <tr>\n",
       "      <th>1</th>\n",
       "      <td>Available</td>\n",
       "      <td></td>\n",
       "      <td></td>\n",
       "      <td></td>\n",
       "      <td>0.52334</td>\n",
       "    </tr>\n",
       "    <tr>\n",
       "      <th>3</th>\n",
       "      <td>Available</td>\n",
       "      <td></td>\n",
       "      <td>Available</td>\n",
       "      <td></td>\n",
       "      <td>0.22640</td>\n",
       "    </tr>\n",
       "    <tr>\n",
       "      <th>5</th>\n",
       "      <td>Available</td>\n",
       "      <td></td>\n",
       "      <td></td>\n",
       "      <td>Available</td>\n",
       "      <td>0.14447</td>\n",
       "    </tr>\n",
       "    <tr>\n",
       "      <th>0</th>\n",
       "      <td>Available</td>\n",
       "      <td></td>\n",
       "      <td>Available</td>\n",
       "      <td>Available</td>\n",
       "      <td>0.09773</td>\n",
       "    </tr>\n",
       "    <tr>\n",
       "      <th>10</th>\n",
       "      <td>Available</td>\n",
       "      <td>Available</td>\n",
       "      <td>Available</td>\n",
       "      <td></td>\n",
       "      <td>0.00421</td>\n",
       "    </tr>\n",
       "    <tr>\n",
       "      <th>7</th>\n",
       "      <td>Available</td>\n",
       "      <td>Available</td>\n",
       "      <td>Available</td>\n",
       "      <td>Available</td>\n",
       "      <td>0.00375</td>\n",
       "    </tr>\n",
       "    <tr>\n",
       "      <th>8</th>\n",
       "      <td></td>\n",
       "      <td></td>\n",
       "      <td></td>\n",
       "      <td></td>\n",
       "      <td>0.00006</td>\n",
       "    </tr>\n",
       "    <tr>\n",
       "      <th>6</th>\n",
       "      <td></td>\n",
       "      <td></td>\n",
       "      <td>Available</td>\n",
       "      <td></td>\n",
       "      <td>0.00003</td>\n",
       "    </tr>\n",
       "    <tr>\n",
       "      <th>9</th>\n",
       "      <td></td>\n",
       "      <td></td>\n",
       "      <td>Available</td>\n",
       "      <td>Available</td>\n",
       "      <td>0.00002</td>\n",
       "    </tr>\n",
       "    <tr>\n",
       "      <th>2</th>\n",
       "      <td></td>\n",
       "      <td>Available</td>\n",
       "      <td>Available</td>\n",
       "      <td></td>\n",
       "      <td>0.00000</td>\n",
       "    </tr>\n",
       "    <tr>\n",
       "      <th>4</th>\n",
       "      <td></td>\n",
       "      <td>Available</td>\n",
       "      <td>Available</td>\n",
       "      <td>Available</td>\n",
       "      <td>0.00000</td>\n",
       "    </tr>\n",
       "    <tr>\n",
       "      <th>11</th>\n",
       "      <td></td>\n",
       "      <td></td>\n",
       "      <td></td>\n",
       "      <td>Available</td>\n",
       "      <td>0.00000</td>\n",
       "    </tr>\n",
       "  </tbody>\n",
       "</table>\n",
       "</div>"
      ],
      "text/plain": [
       "       locale     legacy collaborative similarity Relative counts\n",
       "1   Available                                             0.52334\n",
       "3   Available                Available                    0.22640\n",
       "5   Available                           Available         0.14447\n",
       "0   Available                Available  Available         0.09773\n",
       "10  Available  Available     Available                    0.00421\n",
       "7   Available  Available     Available  Available         0.00375\n",
       "8                                                         0.00006\n",
       "6                            Available                    0.00003\n",
       "9                            Available  Available         0.00002\n",
       "2              Available     Available                    0.00000\n",
       "4              Available     Available  Available         0.00000\n",
       "11                                      Available         0.00000"
      ]
     },
     "metadata": {},
     "output_type": "display_data"
    }
   ],
   "source": [
    "counts, titles = display_individual_filtered_results(conditioned_results, combinations, label=\"profile age\")"
   ]
  },
  {
   "cell_type": "markdown",
   "metadata": {},
   "source": [
    "To make things a little bit easier to read, we can display all results in a single table."
   ]
  },
  {
   "cell_type": "code",
   "execution_count": 406,
   "metadata": {
    "collapsed": false
   },
   "outputs": [],
   "source": [
    "def display_merged_filtered_results(counts, titles, total_results, combinations, label):\n",
    "    values = [total_results[sub_key] for sub_key in combinations]\n",
    "    sub_counts = get_relative_counts(values)\n",
    "    counts.append(sub_counts)\n",
    "    titles.append(\"Total, without any condition\")  \n",
    "\n",
    "    columns = recommenders.keys() + titles\n",
    "    data = format_data(combinations, counts)\n",
    "\n",
    "    df = DataFrame(columns=columns, data=data)\n",
    "    df = sorted_dataframe(df, counts[0])\n",
    "\n",
    "    display(Markdown(\"### Filtering on the %s, Python-like exclusive ranges – All in one table\" % label))\n",
    "    display(df)"
   ]
  },
  {
   "cell_type": "code",
   "execution_count": 407,
   "metadata": {
    "collapsed": false
   },
   "outputs": [
    {
     "data": {
      "text/markdown": [
       "### Filtering on the profile age, Python-like exclusive ranges – All in one table"
      ],
      "text/plain": [
       "<IPython.core.display.Markdown object>"
      ]
     },
     "metadata": {},
     "output_type": "display_data"
    },
    {
     "data": {
      "text/html": [
       "<div>\n",
       "<table border=\"1\" class=\"dataframe\">\n",
       "  <thead>\n",
       "    <tr style=\"text-align: right;\">\n",
       "      <th></th>\n",
       "      <th>locale</th>\n",
       "      <th>legacy</th>\n",
       "      <th>collaborative</th>\n",
       "      <th>similarity</th>\n",
       "      <th>Between 0 and 1 weeks</th>\n",
       "      <th>Between 1 and 2 weeks</th>\n",
       "      <th>Between 2 and 3 weeks</th>\n",
       "      <th>Between 3 and 4 weeks</th>\n",
       "      <th>Total, without any condition</th>\n",
       "    </tr>\n",
       "  </thead>\n",
       "  <tbody>\n",
       "    <tr>\n",
       "      <th>9</th>\n",
       "      <td>Available</td>\n",
       "      <td></td>\n",
       "      <td></td>\n",
       "      <td></td>\n",
       "      <td>0.56426</td>\n",
       "      <td>0.55178</td>\n",
       "      <td>0.52717</td>\n",
       "      <td>0.52334</td>\n",
       "      <td>0.44747</td>\n",
       "    </tr>\n",
       "    <tr>\n",
       "      <th>2</th>\n",
       "      <td>Available</td>\n",
       "      <td></td>\n",
       "      <td>Available</td>\n",
       "      <td></td>\n",
       "      <td>0.24668</td>\n",
       "      <td>0.21705</td>\n",
       "      <td>0.22324</td>\n",
       "      <td>0.22640</td>\n",
       "      <td>0.26032</td>\n",
       "    </tr>\n",
       "    <tr>\n",
       "      <th>4</th>\n",
       "      <td>Available</td>\n",
       "      <td></td>\n",
       "      <td></td>\n",
       "      <td>Available</td>\n",
       "      <td>0.11291</td>\n",
       "      <td>0.14102</td>\n",
       "      <td>0.14923</td>\n",
       "      <td>0.14447</td>\n",
       "      <td>0.13290</td>\n",
       "    </tr>\n",
       "    <tr>\n",
       "      <th>0</th>\n",
       "      <td>Available</td>\n",
       "      <td></td>\n",
       "      <td>Available</td>\n",
       "      <td>Available</td>\n",
       "      <td>0.06858</td>\n",
       "      <td>0.08284</td>\n",
       "      <td>0.09279</td>\n",
       "      <td>0.09773</td>\n",
       "      <td>0.14333</td>\n",
       "    </tr>\n",
       "    <tr>\n",
       "      <th>1</th>\n",
       "      <td>Available</td>\n",
       "      <td>Available</td>\n",
       "      <td>Available</td>\n",
       "      <td></td>\n",
       "      <td>0.00447</td>\n",
       "      <td>0.00407</td>\n",
       "      <td>0.00400</td>\n",
       "      <td>0.00421</td>\n",
       "      <td>0.00865</td>\n",
       "    </tr>\n",
       "    <tr>\n",
       "      <th>6</th>\n",
       "      <td>Available</td>\n",
       "      <td>Available</td>\n",
       "      <td>Available</td>\n",
       "      <td>Available</td>\n",
       "      <td>0.00304</td>\n",
       "      <td>0.00307</td>\n",
       "      <td>0.00344</td>\n",
       "      <td>0.00375</td>\n",
       "      <td>0.00710</td>\n",
       "    </tr>\n",
       "    <tr>\n",
       "      <th>7</th>\n",
       "      <td></td>\n",
       "      <td></td>\n",
       "      <td></td>\n",
       "      <td></td>\n",
       "      <td>0.00006</td>\n",
       "      <td>0.00008</td>\n",
       "      <td>0.00006</td>\n",
       "      <td>0.00006</td>\n",
       "      <td>0.00011</td>\n",
       "    </tr>\n",
       "    <tr>\n",
       "      <th>3</th>\n",
       "      <td></td>\n",
       "      <td></td>\n",
       "      <td></td>\n",
       "      <td>Available</td>\n",
       "      <td>0.00000</td>\n",
       "      <td>0.00000</td>\n",
       "      <td>0.00001</td>\n",
       "      <td>0.00000</td>\n",
       "      <td>0.00003</td>\n",
       "    </tr>\n",
       "    <tr>\n",
       "      <th>5</th>\n",
       "      <td></td>\n",
       "      <td></td>\n",
       "      <td>Available</td>\n",
       "      <td></td>\n",
       "      <td>0.00000</td>\n",
       "      <td>0.00008</td>\n",
       "      <td>0.00003</td>\n",
       "      <td>0.00003</td>\n",
       "      <td>0.00006</td>\n",
       "    </tr>\n",
       "    <tr>\n",
       "      <th>8</th>\n",
       "      <td></td>\n",
       "      <td></td>\n",
       "      <td>Available</td>\n",
       "      <td>Available</td>\n",
       "      <td>0.00000</td>\n",
       "      <td>0.00001</td>\n",
       "      <td>0.00003</td>\n",
       "      <td>0.00002</td>\n",
       "      <td>0.00003</td>\n",
       "    </tr>\n",
       "  </tbody>\n",
       "</table>\n",
       "</div>"
      ],
      "text/plain": [
       "      locale     legacy collaborative similarity Between 0 and 1 weeks  \\\n",
       "9  Available                                                   0.56426   \n",
       "2  Available                Available                          0.24668   \n",
       "4  Available                           Available               0.11291   \n",
       "0  Available                Available  Available               0.06858   \n",
       "1  Available  Available     Available                          0.00447   \n",
       "6  Available  Available     Available  Available               0.00304   \n",
       "7                                                              0.00006   \n",
       "3                                      Available               0.00000   \n",
       "5                           Available                          0.00000   \n",
       "8                           Available  Available               0.00000   \n",
       "\n",
       "  Between 1 and 2 weeks Between 2 and 3 weeks Between 3 and 4 weeks  \\\n",
       "9               0.55178               0.52717               0.52334   \n",
       "2               0.21705               0.22324               0.22640   \n",
       "4               0.14102               0.14923               0.14447   \n",
       "0               0.08284               0.09279               0.09773   \n",
       "1               0.00407               0.00400               0.00421   \n",
       "6               0.00307               0.00344               0.00375   \n",
       "7               0.00008               0.00006               0.00006   \n",
       "3               0.00000               0.00001               0.00000   \n",
       "5               0.00008               0.00003               0.00003   \n",
       "8               0.00001               0.00003               0.00002   \n",
       "\n",
       "  Total, without any condition  \n",
       "9                      0.44747  \n",
       "2                      0.26032  \n",
       "4                      0.13290  \n",
       "0                      0.14333  \n",
       "1                      0.00865  \n",
       "6                      0.00710  \n",
       "7                      0.00011  \n",
       "3                      0.00003  \n",
       "5                      0.00006  \n",
       "8                      0.00003  "
      ]
     },
     "metadata": {},
     "output_type": "display_data"
    }
   ],
   "source": [
    "display_merged_filtered_results(counts, titles, total_results, combinations, label=\"profile age\")"
   ]
  },
  {
   "cell_type": "markdown",
   "metadata": {},
   "source": [
    "### By submission date in weeks"
   ]
  },
  {
   "cell_type": "code",
   "execution_count": null,
   "metadata": {
    "collapsed": false
   },
   "outputs": [],
   "source": [
    "%time conditioned_results_submission_date = get_conditioned_results(\"submission_age_in_weeks\", conditions)"
   ]
  },
  {
   "cell_type": "code",
   "execution_count": 423,
   "metadata": {
    "collapsed": false,
    "scrolled": true
   },
   "outputs": [
    {
     "data": {
      "text/markdown": [
       "### Filtering on the submission date, Python-like exclusive ranges"
      ],
      "text/plain": [
       "<IPython.core.display.Markdown object>"
      ]
     },
     "metadata": {},
     "output_type": "display_data"
    },
    {
     "data": {
      "text/markdown": [
       "#### Between 0 and 1 weeks"
      ],
      "text/plain": [
       "<IPython.core.display.Markdown object>"
      ]
     },
     "metadata": {},
     "output_type": "display_data"
    },
    {
     "data": {
      "text/html": [
       "<div>\n",
       "<table border=\"1\" class=\"dataframe\">\n",
       "  <thead>\n",
       "    <tr style=\"text-align: right;\">\n",
       "      <th></th>\n",
       "      <th>locale</th>\n",
       "      <th>legacy</th>\n",
       "      <th>collaborative</th>\n",
       "      <th>similarity</th>\n",
       "      <th>Relative counts</th>\n",
       "    </tr>\n",
       "  </thead>\n",
       "  <tbody>\n",
       "    <tr>\n",
       "      <th>1</th>\n",
       "      <td>Available</td>\n",
       "      <td></td>\n",
       "      <td></td>\n",
       "      <td></td>\n",
       "      <td>0.28043</td>\n",
       "    </tr>\n",
       "    <tr>\n",
       "      <th>0</th>\n",
       "      <td>Available</td>\n",
       "      <td></td>\n",
       "      <td>Available</td>\n",
       "      <td>Available</td>\n",
       "      <td>0.25749</td>\n",
       "    </tr>\n",
       "    <tr>\n",
       "      <th>3</th>\n",
       "      <td>Available</td>\n",
       "      <td></td>\n",
       "      <td>Available</td>\n",
       "      <td></td>\n",
       "      <td>0.23062</td>\n",
       "    </tr>\n",
       "    <tr>\n",
       "      <th>5</th>\n",
       "      <td>Available</td>\n",
       "      <td></td>\n",
       "      <td></td>\n",
       "      <td>Available</td>\n",
       "      <td>0.20527</td>\n",
       "    </tr>\n",
       "    <tr>\n",
       "      <th>7</th>\n",
       "      <td>Available</td>\n",
       "      <td>Available</td>\n",
       "      <td>Available</td>\n",
       "      <td>Available</td>\n",
       "      <td>0.01489</td>\n",
       "    </tr>\n",
       "    <tr>\n",
       "      <th>10</th>\n",
       "      <td>Available</td>\n",
       "      <td>Available</td>\n",
       "      <td>Available</td>\n",
       "      <td></td>\n",
       "      <td>0.01114</td>\n",
       "    </tr>\n",
       "    <tr>\n",
       "      <th>8</th>\n",
       "      <td></td>\n",
       "      <td></td>\n",
       "      <td></td>\n",
       "      <td></td>\n",
       "      <td>0.00005</td>\n",
       "    </tr>\n",
       "    <tr>\n",
       "      <th>11</th>\n",
       "      <td></td>\n",
       "      <td></td>\n",
       "      <td></td>\n",
       "      <td>Available</td>\n",
       "      <td>0.00004</td>\n",
       "    </tr>\n",
       "    <tr>\n",
       "      <th>6</th>\n",
       "      <td></td>\n",
       "      <td></td>\n",
       "      <td>Available</td>\n",
       "      <td></td>\n",
       "      <td>0.00003</td>\n",
       "    </tr>\n",
       "    <tr>\n",
       "      <th>9</th>\n",
       "      <td></td>\n",
       "      <td></td>\n",
       "      <td>Available</td>\n",
       "      <td>Available</td>\n",
       "      <td>0.00003</td>\n",
       "    </tr>\n",
       "    <tr>\n",
       "      <th>4</th>\n",
       "      <td></td>\n",
       "      <td>Available</td>\n",
       "      <td>Available</td>\n",
       "      <td>Available</td>\n",
       "      <td>0.00000</td>\n",
       "    </tr>\n",
       "    <tr>\n",
       "      <th>2</th>\n",
       "      <td></td>\n",
       "      <td>Available</td>\n",
       "      <td>Available</td>\n",
       "      <td></td>\n",
       "      <td>0.00000</td>\n",
       "    </tr>\n",
       "  </tbody>\n",
       "</table>\n",
       "</div>"
      ],
      "text/plain": [
       "       locale     legacy collaborative similarity Relative counts\n",
       "1   Available                                             0.28043\n",
       "0   Available                Available  Available         0.25749\n",
       "3   Available                Available                    0.23062\n",
       "5   Available                           Available         0.20527\n",
       "7   Available  Available     Available  Available         0.01489\n",
       "10  Available  Available     Available                    0.01114\n",
       "8                                                         0.00005\n",
       "11                                      Available         0.00004\n",
       "6                            Available                    0.00003\n",
       "9                            Available  Available         0.00003\n",
       "4              Available     Available  Available         0.00000\n",
       "2              Available     Available                    0.00000"
      ]
     },
     "metadata": {},
     "output_type": "display_data"
    },
    {
     "data": {
      "text/markdown": [
       "#### Between 1 and 2 weeks"
      ],
      "text/plain": [
       "<IPython.core.display.Markdown object>"
      ]
     },
     "metadata": {},
     "output_type": "display_data"
    },
    {
     "data": {
      "text/html": [
       "<div>\n",
       "<table border=\"1\" class=\"dataframe\">\n",
       "  <thead>\n",
       "    <tr style=\"text-align: right;\">\n",
       "      <th></th>\n",
       "      <th>locale</th>\n",
       "      <th>legacy</th>\n",
       "      <th>collaborative</th>\n",
       "      <th>similarity</th>\n",
       "      <th>Relative counts</th>\n",
       "    </tr>\n",
       "  </thead>\n",
       "  <tbody>\n",
       "    <tr>\n",
       "      <th>1</th>\n",
       "      <td>Available</td>\n",
       "      <td></td>\n",
       "      <td></td>\n",
       "      <td></td>\n",
       "      <td>0.41392</td>\n",
       "    </tr>\n",
       "    <tr>\n",
       "      <th>3</th>\n",
       "      <td>Available</td>\n",
       "      <td></td>\n",
       "      <td>Available</td>\n",
       "      <td></td>\n",
       "      <td>0.25433</td>\n",
       "    </tr>\n",
       "    <tr>\n",
       "      <th>5</th>\n",
       "      <td>Available</td>\n",
       "      <td></td>\n",
       "      <td></td>\n",
       "      <td>Available</td>\n",
       "      <td>0.15828</td>\n",
       "    </tr>\n",
       "    <tr>\n",
       "      <th>0</th>\n",
       "      <td>Available</td>\n",
       "      <td></td>\n",
       "      <td>Available</td>\n",
       "      <td>Available</td>\n",
       "      <td>0.15660</td>\n",
       "    </tr>\n",
       "    <tr>\n",
       "      <th>10</th>\n",
       "      <td>Available</td>\n",
       "      <td>Available</td>\n",
       "      <td>Available</td>\n",
       "      <td></td>\n",
       "      <td>0.00968</td>\n",
       "    </tr>\n",
       "    <tr>\n",
       "      <th>7</th>\n",
       "      <td>Available</td>\n",
       "      <td>Available</td>\n",
       "      <td>Available</td>\n",
       "      <td>Available</td>\n",
       "      <td>0.00701</td>\n",
       "    </tr>\n",
       "    <tr>\n",
       "      <th>8</th>\n",
       "      <td></td>\n",
       "      <td></td>\n",
       "      <td></td>\n",
       "      <td></td>\n",
       "      <td>0.00009</td>\n",
       "    </tr>\n",
       "    <tr>\n",
       "      <th>6</th>\n",
       "      <td></td>\n",
       "      <td></td>\n",
       "      <td>Available</td>\n",
       "      <td></td>\n",
       "      <td>0.00004</td>\n",
       "    </tr>\n",
       "    <tr>\n",
       "      <th>9</th>\n",
       "      <td></td>\n",
       "      <td></td>\n",
       "      <td>Available</td>\n",
       "      <td>Available</td>\n",
       "      <td>0.00003</td>\n",
       "    </tr>\n",
       "    <tr>\n",
       "      <th>11</th>\n",
       "      <td></td>\n",
       "      <td></td>\n",
       "      <td></td>\n",
       "      <td>Available</td>\n",
       "      <td>0.00003</td>\n",
       "    </tr>\n",
       "    <tr>\n",
       "      <th>2</th>\n",
       "      <td></td>\n",
       "      <td>Available</td>\n",
       "      <td>Available</td>\n",
       "      <td></td>\n",
       "      <td>0.00000</td>\n",
       "    </tr>\n",
       "    <tr>\n",
       "      <th>4</th>\n",
       "      <td></td>\n",
       "      <td>Available</td>\n",
       "      <td>Available</td>\n",
       "      <td>Available</td>\n",
       "      <td>0.00000</td>\n",
       "    </tr>\n",
       "  </tbody>\n",
       "</table>\n",
       "</div>"
      ],
      "text/plain": [
       "       locale     legacy collaborative similarity Relative counts\n",
       "1   Available                                             0.41392\n",
       "3   Available                Available                    0.25433\n",
       "5   Available                           Available         0.15828\n",
       "0   Available                Available  Available         0.15660\n",
       "10  Available  Available     Available                    0.00968\n",
       "7   Available  Available     Available  Available         0.00701\n",
       "8                                                         0.00009\n",
       "6                            Available                    0.00004\n",
       "9                            Available  Available         0.00003\n",
       "11                                      Available         0.00003\n",
       "2              Available     Available                    0.00000\n",
       "4              Available     Available  Available         0.00000"
      ]
     },
     "metadata": {},
     "output_type": "display_data"
    },
    {
     "data": {
      "text/markdown": [
       "#### Between 2 and 3 weeks"
      ],
      "text/plain": [
       "<IPython.core.display.Markdown object>"
      ]
     },
     "metadata": {},
     "output_type": "display_data"
    },
    {
     "data": {
      "text/html": [
       "<div>\n",
       "<table border=\"1\" class=\"dataframe\">\n",
       "  <thead>\n",
       "    <tr style=\"text-align: right;\">\n",
       "      <th></th>\n",
       "      <th>locale</th>\n",
       "      <th>legacy</th>\n",
       "      <th>collaborative</th>\n",
       "      <th>similarity</th>\n",
       "      <th>Relative counts</th>\n",
       "    </tr>\n",
       "  </thead>\n",
       "  <tbody>\n",
       "    <tr>\n",
       "      <th>1</th>\n",
       "      <td>Available</td>\n",
       "      <td></td>\n",
       "      <td></td>\n",
       "      <td></td>\n",
       "      <td>0.46368</td>\n",
       "    </tr>\n",
       "    <tr>\n",
       "      <th>3</th>\n",
       "      <td>Available</td>\n",
       "      <td></td>\n",
       "      <td>Available</td>\n",
       "      <td></td>\n",
       "      <td>0.26353</td>\n",
       "    </tr>\n",
       "    <tr>\n",
       "      <th>5</th>\n",
       "      <td>Available</td>\n",
       "      <td></td>\n",
       "      <td></td>\n",
       "      <td>Available</td>\n",
       "      <td>0.13141</td>\n",
       "    </tr>\n",
       "    <tr>\n",
       "      <th>0</th>\n",
       "      <td>Available</td>\n",
       "      <td></td>\n",
       "      <td>Available</td>\n",
       "      <td>Available</td>\n",
       "      <td>0.12639</td>\n",
       "    </tr>\n",
       "    <tr>\n",
       "      <th>10</th>\n",
       "      <td>Available</td>\n",
       "      <td>Available</td>\n",
       "      <td>Available</td>\n",
       "      <td></td>\n",
       "      <td>0.00911</td>\n",
       "    </tr>\n",
       "    <tr>\n",
       "      <th>7</th>\n",
       "      <td>Available</td>\n",
       "      <td>Available</td>\n",
       "      <td>Available</td>\n",
       "      <td>Available</td>\n",
       "      <td>0.00568</td>\n",
       "    </tr>\n",
       "    <tr>\n",
       "      <th>8</th>\n",
       "      <td></td>\n",
       "      <td></td>\n",
       "      <td></td>\n",
       "      <td></td>\n",
       "      <td>0.00011</td>\n",
       "    </tr>\n",
       "    <tr>\n",
       "      <th>6</th>\n",
       "      <td></td>\n",
       "      <td></td>\n",
       "      <td>Available</td>\n",
       "      <td></td>\n",
       "      <td>0.00005</td>\n",
       "    </tr>\n",
       "    <tr>\n",
       "      <th>9</th>\n",
       "      <td></td>\n",
       "      <td></td>\n",
       "      <td>Available</td>\n",
       "      <td>Available</td>\n",
       "      <td>0.00002</td>\n",
       "    </tr>\n",
       "    <tr>\n",
       "      <th>11</th>\n",
       "      <td></td>\n",
       "      <td></td>\n",
       "      <td></td>\n",
       "      <td>Available</td>\n",
       "      <td>0.00002</td>\n",
       "    </tr>\n",
       "    <tr>\n",
       "      <th>4</th>\n",
       "      <td></td>\n",
       "      <td>Available</td>\n",
       "      <td>Available</td>\n",
       "      <td>Available</td>\n",
       "      <td>0.00000</td>\n",
       "    </tr>\n",
       "    <tr>\n",
       "      <th>2</th>\n",
       "      <td></td>\n",
       "      <td>Available</td>\n",
       "      <td>Available</td>\n",
       "      <td></td>\n",
       "      <td>0.00000</td>\n",
       "    </tr>\n",
       "  </tbody>\n",
       "</table>\n",
       "</div>"
      ],
      "text/plain": [
       "       locale     legacy collaborative similarity Relative counts\n",
       "1   Available                                             0.46368\n",
       "3   Available                Available                    0.26353\n",
       "5   Available                           Available         0.13141\n",
       "0   Available                Available  Available         0.12639\n",
       "10  Available  Available     Available                    0.00911\n",
       "7   Available  Available     Available  Available         0.00568\n",
       "8                                                         0.00011\n",
       "6                            Available                    0.00005\n",
       "9                            Available  Available         0.00002\n",
       "11                                      Available         0.00002\n",
       "4              Available     Available  Available         0.00000\n",
       "2              Available     Available                    0.00000"
      ]
     },
     "metadata": {},
     "output_type": "display_data"
    },
    {
     "data": {
      "text/markdown": [
       "#### Between 3 and 4 weeks"
      ],
      "text/plain": [
       "<IPython.core.display.Markdown object>"
      ]
     },
     "metadata": {},
     "output_type": "display_data"
    },
    {
     "data": {
      "text/html": [
       "<div>\n",
       "<table border=\"1\" class=\"dataframe\">\n",
       "  <thead>\n",
       "    <tr style=\"text-align: right;\">\n",
       "      <th></th>\n",
       "      <th>locale</th>\n",
       "      <th>legacy</th>\n",
       "      <th>collaborative</th>\n",
       "      <th>similarity</th>\n",
       "      <th>Relative counts</th>\n",
       "    </tr>\n",
       "  </thead>\n",
       "  <tbody>\n",
       "    <tr>\n",
       "      <th>1</th>\n",
       "      <td>Available</td>\n",
       "      <td></td>\n",
       "      <td></td>\n",
       "      <td></td>\n",
       "      <td>0.48052</td>\n",
       "    </tr>\n",
       "    <tr>\n",
       "      <th>3</th>\n",
       "      <td>Available</td>\n",
       "      <td></td>\n",
       "      <td>Available</td>\n",
       "      <td></td>\n",
       "      <td>0.26312</td>\n",
       "    </tr>\n",
       "    <tr>\n",
       "      <th>5</th>\n",
       "      <td>Available</td>\n",
       "      <td></td>\n",
       "      <td></td>\n",
       "      <td>Available</td>\n",
       "      <td>0.12283</td>\n",
       "    </tr>\n",
       "    <tr>\n",
       "      <th>0</th>\n",
       "      <td>Available</td>\n",
       "      <td></td>\n",
       "      <td>Available</td>\n",
       "      <td>Available</td>\n",
       "      <td>0.11945</td>\n",
       "    </tr>\n",
       "    <tr>\n",
       "      <th>10</th>\n",
       "      <td>Available</td>\n",
       "      <td>Available</td>\n",
       "      <td>Available</td>\n",
       "      <td></td>\n",
       "      <td>0.00870</td>\n",
       "    </tr>\n",
       "    <tr>\n",
       "      <th>7</th>\n",
       "      <td>Available</td>\n",
       "      <td>Available</td>\n",
       "      <td>Available</td>\n",
       "      <td>Available</td>\n",
       "      <td>0.00514</td>\n",
       "    </tr>\n",
       "    <tr>\n",
       "      <th>8</th>\n",
       "      <td></td>\n",
       "      <td></td>\n",
       "      <td></td>\n",
       "      <td></td>\n",
       "      <td>0.00015</td>\n",
       "    </tr>\n",
       "    <tr>\n",
       "      <th>6</th>\n",
       "      <td></td>\n",
       "      <td></td>\n",
       "      <td>Available</td>\n",
       "      <td></td>\n",
       "      <td>0.00003</td>\n",
       "    </tr>\n",
       "    <tr>\n",
       "      <th>11</th>\n",
       "      <td></td>\n",
       "      <td></td>\n",
       "      <td></td>\n",
       "      <td>Available</td>\n",
       "      <td>0.00003</td>\n",
       "    </tr>\n",
       "    <tr>\n",
       "      <th>9</th>\n",
       "      <td></td>\n",
       "      <td></td>\n",
       "      <td>Available</td>\n",
       "      <td>Available</td>\n",
       "      <td>0.00002</td>\n",
       "    </tr>\n",
       "    <tr>\n",
       "      <th>2</th>\n",
       "      <td></td>\n",
       "      <td>Available</td>\n",
       "      <td>Available</td>\n",
       "      <td></td>\n",
       "      <td>0.00000</td>\n",
       "    </tr>\n",
       "    <tr>\n",
       "      <th>4</th>\n",
       "      <td></td>\n",
       "      <td>Available</td>\n",
       "      <td>Available</td>\n",
       "      <td>Available</td>\n",
       "      <td>0.00000</td>\n",
       "    </tr>\n",
       "  </tbody>\n",
       "</table>\n",
       "</div>"
      ],
      "text/plain": [
       "       locale     legacy collaborative similarity Relative counts\n",
       "1   Available                                             0.48052\n",
       "3   Available                Available                    0.26312\n",
       "5   Available                           Available         0.12283\n",
       "0   Available                Available  Available         0.11945\n",
       "10  Available  Available     Available                    0.00870\n",
       "7   Available  Available     Available  Available         0.00514\n",
       "8                                                         0.00015\n",
       "6                            Available                    0.00003\n",
       "11                                      Available         0.00003\n",
       "9                            Available  Available         0.00002\n",
       "2              Available     Available                    0.00000\n",
       "4              Available     Available  Available         0.00000"
      ]
     },
     "metadata": {},
     "output_type": "display_data"
    },
    {
     "data": {
      "text/markdown": [
       "### Filtering on the submission date, Python-like exclusive ranges – All in one table"
      ],
      "text/plain": [
       "<IPython.core.display.Markdown object>"
      ]
     },
     "metadata": {},
     "output_type": "display_data"
    },
    {
     "data": {
      "text/html": [
       "<div>\n",
       "<table border=\"1\" class=\"dataframe\">\n",
       "  <thead>\n",
       "    <tr style=\"text-align: right;\">\n",
       "      <th></th>\n",
       "      <th>locale</th>\n",
       "      <th>legacy</th>\n",
       "      <th>collaborative</th>\n",
       "      <th>similarity</th>\n",
       "      <th>Between 0 and 1 weeks</th>\n",
       "      <th>Between 1 and 2 weeks</th>\n",
       "      <th>Between 2 and 3 weeks</th>\n",
       "      <th>Between 3 and 4 weeks</th>\n",
       "      <th>Total, without any condition</th>\n",
       "    </tr>\n",
       "  </thead>\n",
       "  <tbody>\n",
       "    <tr>\n",
       "      <th>1</th>\n",
       "      <td>Available</td>\n",
       "      <td></td>\n",
       "      <td></td>\n",
       "      <td></td>\n",
       "      <td>0.28043</td>\n",
       "      <td>0.41392</td>\n",
       "      <td>0.46368</td>\n",
       "      <td>0.48052</td>\n",
       "      <td>0.44747</td>\n",
       "    </tr>\n",
       "    <tr>\n",
       "      <th>0</th>\n",
       "      <td>Available</td>\n",
       "      <td></td>\n",
       "      <td>Available</td>\n",
       "      <td>Available</td>\n",
       "      <td>0.25749</td>\n",
       "      <td>0.15660</td>\n",
       "      <td>0.12639</td>\n",
       "      <td>0.11945</td>\n",
       "      <td>0.14333</td>\n",
       "    </tr>\n",
       "    <tr>\n",
       "      <th>3</th>\n",
       "      <td>Available</td>\n",
       "      <td></td>\n",
       "      <td>Available</td>\n",
       "      <td></td>\n",
       "      <td>0.23062</td>\n",
       "      <td>0.25433</td>\n",
       "      <td>0.26353</td>\n",
       "      <td>0.26312</td>\n",
       "      <td>0.26032</td>\n",
       "    </tr>\n",
       "    <tr>\n",
       "      <th>5</th>\n",
       "      <td>Available</td>\n",
       "      <td></td>\n",
       "      <td></td>\n",
       "      <td>Available</td>\n",
       "      <td>0.20527</td>\n",
       "      <td>0.15828</td>\n",
       "      <td>0.13141</td>\n",
       "      <td>0.12283</td>\n",
       "      <td>0.13290</td>\n",
       "    </tr>\n",
       "    <tr>\n",
       "      <th>7</th>\n",
       "      <td>Available</td>\n",
       "      <td>Available</td>\n",
       "      <td>Available</td>\n",
       "      <td>Available</td>\n",
       "      <td>0.01489</td>\n",
       "      <td>0.00701</td>\n",
       "      <td>0.00568</td>\n",
       "      <td>0.00514</td>\n",
       "      <td>0.00710</td>\n",
       "    </tr>\n",
       "    <tr>\n",
       "      <th>10</th>\n",
       "      <td>Available</td>\n",
       "      <td>Available</td>\n",
       "      <td>Available</td>\n",
       "      <td></td>\n",
       "      <td>0.01114</td>\n",
       "      <td>0.00968</td>\n",
       "      <td>0.00911</td>\n",
       "      <td>0.00870</td>\n",
       "      <td>0.00865</td>\n",
       "    </tr>\n",
       "    <tr>\n",
       "      <th>8</th>\n",
       "      <td></td>\n",
       "      <td></td>\n",
       "      <td></td>\n",
       "      <td></td>\n",
       "      <td>0.00005</td>\n",
       "      <td>0.00009</td>\n",
       "      <td>0.00011</td>\n",
       "      <td>0.00015</td>\n",
       "      <td>0.00011</td>\n",
       "    </tr>\n",
       "    <tr>\n",
       "      <th>11</th>\n",
       "      <td></td>\n",
       "      <td></td>\n",
       "      <td></td>\n",
       "      <td>Available</td>\n",
       "      <td>0.00004</td>\n",
       "      <td>0.00003</td>\n",
       "      <td>0.00002</td>\n",
       "      <td>0.00003</td>\n",
       "      <td>0.00003</td>\n",
       "    </tr>\n",
       "    <tr>\n",
       "      <th>6</th>\n",
       "      <td></td>\n",
       "      <td></td>\n",
       "      <td>Available</td>\n",
       "      <td></td>\n",
       "      <td>0.00003</td>\n",
       "      <td>0.00004</td>\n",
       "      <td>0.00005</td>\n",
       "      <td>0.00003</td>\n",
       "      <td>0.00006</td>\n",
       "    </tr>\n",
       "    <tr>\n",
       "      <th>9</th>\n",
       "      <td></td>\n",
       "      <td></td>\n",
       "      <td>Available</td>\n",
       "      <td>Available</td>\n",
       "      <td>0.00003</td>\n",
       "      <td>0.00003</td>\n",
       "      <td>0.00002</td>\n",
       "      <td>0.00002</td>\n",
       "      <td>0.00003</td>\n",
       "    </tr>\n",
       "    <tr>\n",
       "      <th>2</th>\n",
       "      <td></td>\n",
       "      <td>Available</td>\n",
       "      <td>Available</td>\n",
       "      <td></td>\n",
       "      <td>0.00000</td>\n",
       "      <td>0.00000</td>\n",
       "      <td>0.00000</td>\n",
       "      <td>0.00000</td>\n",
       "      <td>0.00000</td>\n",
       "    </tr>\n",
       "    <tr>\n",
       "      <th>4</th>\n",
       "      <td></td>\n",
       "      <td>Available</td>\n",
       "      <td>Available</td>\n",
       "      <td>Available</td>\n",
       "      <td>0.00000</td>\n",
       "      <td>0.00000</td>\n",
       "      <td>0.00000</td>\n",
       "      <td>0.00000</td>\n",
       "      <td>0.00000</td>\n",
       "    </tr>\n",
       "  </tbody>\n",
       "</table>\n",
       "</div>"
      ],
      "text/plain": [
       "       locale     legacy collaborative similarity Between 0 and 1 weeks  \\\n",
       "1   Available                                                   0.28043   \n",
       "0   Available                Available  Available               0.25749   \n",
       "3   Available                Available                          0.23062   \n",
       "5   Available                           Available               0.20527   \n",
       "7   Available  Available     Available  Available               0.01489   \n",
       "10  Available  Available     Available                          0.01114   \n",
       "8                                                               0.00005   \n",
       "11                                      Available               0.00004   \n",
       "6                            Available                          0.00003   \n",
       "9                            Available  Available               0.00003   \n",
       "2              Available     Available                          0.00000   \n",
       "4              Available     Available  Available               0.00000   \n",
       "\n",
       "   Between 1 and 2 weeks Between 2 and 3 weeks Between 3 and 4 weeks  \\\n",
       "1                0.41392               0.46368               0.48052   \n",
       "0                0.15660               0.12639               0.11945   \n",
       "3                0.25433               0.26353               0.26312   \n",
       "5                0.15828               0.13141               0.12283   \n",
       "7                0.00701               0.00568               0.00514   \n",
       "10               0.00968               0.00911               0.00870   \n",
       "8                0.00009               0.00011               0.00015   \n",
       "11               0.00003               0.00002               0.00003   \n",
       "6                0.00004               0.00005               0.00003   \n",
       "9                0.00003               0.00002               0.00002   \n",
       "2                0.00000               0.00000               0.00000   \n",
       "4                0.00000               0.00000               0.00000   \n",
       "\n",
       "   Total, without any condition  \n",
       "1                       0.44747  \n",
       "0                       0.14333  \n",
       "3                       0.26032  \n",
       "5                       0.13290  \n",
       "7                       0.00710  \n",
       "10                      0.00865  \n",
       "8                       0.00011  \n",
       "11                      0.00003  \n",
       "6                       0.00006  \n",
       "9                       0.00003  \n",
       "2                       0.00000  \n",
       "4                       0.00000  "
      ]
     },
     "metadata": {},
     "output_type": "display_data"
    }
   ],
   "source": [
    "label = \"submission date\"\n",
    "combinations = nonzero_combinations(conditioned_results_submission_date)\n",
    "counts, titles = display_individual_filtered_results(conditioned_results_submission_date, combinations, label)\n",
    "display_merged_filtered_results(counts, titles, total_results, combinations, label)"
   ]
  }
 ],
 "metadata": {
  "anaconda-cloud": {},
  "kernelspec": {
   "display_name": "Python [default]",
   "language": "python",
   "name": "python2"
  },
  "language_info": {
   "codemirror_mode": {
    "name": "ipython",
    "version": 2
   },
   "file_extension": ".py",
   "mimetype": "text/x-python",
   "name": "python",
   "nbconvert_exporter": "python",
   "pygments_lexer": "ipython2",
   "version": "2.7.12"
  },
  "notify_time": "10",
  "toc": {
   "nav_menu": {},
   "number_sections": false,
   "sideBar": true,
   "skip_h1_title": false,
   "toc_cell": false,
   "toc_position": {},
   "toc_section_display": "block",
   "toc_window_display": true
  }
 },
 "nbformat": 4,
 "nbformat_minor": 1
}
