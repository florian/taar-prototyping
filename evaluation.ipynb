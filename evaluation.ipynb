{
 "cells": [
  {
   "cell_type": "markdown",
   "metadata": {},
   "source": [
    "# TAAR – Evaluating existing recommenders\n",
    "\n",
    "Not every recommender can always make a recommendation. To evaluate the individual recommenders for the ensemble, we want to find out how often this is the case and how well the recommenders complement each other.\n",
    "\n",
    "This notebook either needs to be executed in the [TAAR](http://github.com/mozilla/taar) repository or somewhere where TAAR is in the Python path, because some TAAR recommenders are loaded in."
   ]
  },
  {
   "cell_type": "markdown",
   "metadata": {},
   "source": [
    "## Retrieving the relevant variables from the longitudinal dataset"
   ]
  },
  {
   "cell_type": "code",
   "execution_count": 140,
   "metadata": {
    "collapsed": false
   },
   "outputs": [
    {
     "name": "stdout",
     "output_type": "stream",
     "text": [
      "CPU times: user 4 ms, sys: 0 ns, total: 4 ms\n",
      "Wall time: 459 ms\n"
     ]
    }
   ],
   "source": [
    "%%time\n",
    "frame = sqlContext.sql(\"\"\"\n",
    "WITH valid_clients AS (\n",
    "    SELECT *\n",
    "    FROM longitudinal\n",
    "    WHERE normalized_channel='release' AND build IS NOT NULL AND build[0].application_name='Firefox'\n",
    ")\n",
    "\n",
    "SELECT\n",
    "    client_id,\n",
    "    map_keys(active_addons[0]) as installed_addons,\n",
    "    settings[0].locale AS locale,\n",
    "    geo_city[0] AS geoCity,\n",
    "    subsession_length[0] AS subsessionLength,\n",
    "    system_os[0].name AS os,\n",
    "    scalar_parent_browser_engagement_total_uri_count[0].value AS total_uri,\n",
    "    scalar_parent_browser_engagement_tab_open_event_count[0].value as tab_open_count,\n",
    "    places_bookmarks_count[0].sum as bookmark_count,\n",
    "    scalar_parent_browser_engagement_unique_domains_count[0].value as unique_tlds,\n",
    "    profile_creation_date[0] as profile_date,\n",
    "    submission_date[0] as submission_date\n",
    "FROM valid_clients\n",
    "\"\"\")\n",
    "\n",
    "rdd = frame.rdd"
   ]
  },
  {
   "cell_type": "markdown",
   "metadata": {},
   "source": [
    "## Loading addon data (AMO)\n",
    "\n",
    "We need to load the addon database to find out which addons are considered useful by TAAR."
   ]
  },
  {
   "cell_type": "code",
   "execution_count": 141,
   "metadata": {
    "collapsed": true
   },
   "outputs": [],
   "source": [
    "import boto3\n",
    "import json\n",
    "import logging\n",
    "\n",
    "from botocore.exceptions import ClientError\n",
    "\n",
    "logging.basicConfig(level=logging.INFO)\n",
    "logger = logging.getLogger(__name__)\n",
    "\n",
    "AMO_DUMP_BUCKET = 'telemetry-parquet'\n",
    "AMO_DUMP_KEY = 'telemetry-ml/addon_recommender/addons_database.json'"
   ]
  },
  {
   "cell_type": "code",
   "execution_count": 142,
   "metadata": {
    "collapsed": false
   },
   "outputs": [],
   "source": [
    "def load_amo_external_whitelist():\n",
    "    \"\"\" Download and parse the AMO add-on whitelist.\n",
    "    :raises RuntimeError: the AMO whitelist file cannot be downloaded or contains\n",
    "                          no valid add-ons.\n",
    "    \"\"\"\n",
    "    final_whitelist = []\n",
    "    amo_dump = {}\n",
    "    try:\n",
    "        # Load the most current AMO dump JSON resource.\n",
    "        s3 = boto3.client('s3')\n",
    "        s3_contents = s3.get_object(Bucket=AMO_DUMP_BUCKET, Key=AMO_DUMP_KEY)\n",
    "        amo_dump = json.loads(s3_contents['Body'].read())\n",
    "    except ClientError:\n",
    "        logger.exception(\"Failed to download from S3\", extra={\n",
    "            \"bucket\": AMO_DUMP_BUCKET,\n",
    "            \"key\": AMO_DUMP_KEY})\n",
    "\n",
    "    # If the load fails, we will have an empty whitelist, this may be problematic.\n",
    "    for key, value in amo_dump.items():\n",
    "        addon_files = value.get('current_version', {}).get('files', {})\n",
    "        # If any of the addon files are web_extensions compatible, it can be recommended.\n",
    "        if any([f.get(\"is_webextension\", False) for f in addon_files]):\n",
    "            final_whitelist.append(value['guid'])\n",
    "\n",
    "    if len(final_whitelist) == 0:\n",
    "        raise RuntimeError(\"Empty AMO whitelist detected\")\n",
    "\n",
    "    return final_whitelist"
   ]
  },
  {
   "cell_type": "code",
   "execution_count": 143,
   "metadata": {
    "collapsed": false,
    "scrolled": true
   },
   "outputs": [
    {
     "name": "stderr",
     "output_type": "stream",
     "text": [
      "INFO:botocore.vendored.requests.packages.urllib3.connectionpool:Starting new HTTPS connection (1): s3-us-west-2.amazonaws.com\n"
     ]
    }
   ],
   "source": [
    "whitelist = set(load_amo_external_whitelist())"
   ]
  },
  {
   "cell_type": "markdown",
   "metadata": {},
   "source": [
    "## Filtering out legacy addons \n",
    "\n",
    "This is a helper function that takes a list of addon IDs and only returns the IDs of addons that are useful for TAAR."
   ]
  },
  {
   "cell_type": "code",
   "execution_count": 144,
   "metadata": {
    "collapsed": true
   },
   "outputs": [],
   "source": [
    "def get_whitelisted_addons(installed_addons):\n",
    "    return whitelist.intersection(installed_addons)"
   ]
  },
  {
   "cell_type": "markdown",
   "metadata": {},
   "source": [
    "## Completing client data"
   ]
  },
  {
   "cell_type": "code",
   "execution_count": 145,
   "metadata": {
    "collapsed": false
   },
   "outputs": [],
   "source": [
    "from dateutil.parser import parse as parse_date\n",
    "from datetime import datetime"
   ]
  },
  {
   "cell_type": "code",
   "execution_count": 146,
   "metadata": {
    "collapsed": true
   },
   "outputs": [],
   "source": [
    "def compute_weeks_ago(formatted_date):\n",
    "    try:\n",
    "        date = parse_date(formatted_date).replace(tzinfo=None)\n",
    "    except ValueError: # raised when the date is in an unknown format\n",
    "        return float(\"inf\")\n",
    "    \n",
    "    days_ago = (datetime.today() - date).days\n",
    "    return days_ago / 7"
   ]
  },
  {
   "cell_type": "code",
   "execution_count": 147,
   "metadata": {
    "collapsed": true
   },
   "outputs": [],
   "source": [
    "def complete_client_data(client_data):\n",
    "    client = client_data.asDict()\n",
    "    \n",
    "    addons = client['installed_addons'] or []\n",
    "    client['installed_addons'] = get_whitelisted_addons(addons)\n",
    "    client['disabled_addon_ids'] = addons\n",
    "    \n",
    "    client['locale'] = str(client['locale'])\n",
    "    client['profile_age_in_weeks'] = compute_weeks_ago(client['profile_date'])\n",
    "    client['submission_age_in_weeks'] = compute_weeks_ago(client['submission_date'])\n",
    "    \n",
    "    return client"
   ]
  },
  {
   "cell_type": "markdown",
   "metadata": {},
   "source": [
    "## Evaluating the existing recommenders\n",
    "\n",
    "To check if a recommender is able to make a recommendation, it's sometimes easier and cleaner to directly query it instead of checking the important attributes ourselves. For example, this is the case for the locale recommender."
   ]
  },
  {
   "cell_type": "code",
   "execution_count": 148,
   "metadata": {
    "collapsed": true
   },
   "outputs": [],
   "source": [
    "from taar.recommenders import CollaborativeRecommender, LegacyRecommender, LocaleRecommender"
   ]
  },
  {
   "cell_type": "code",
   "execution_count": 149,
   "metadata": {
    "collapsed": true
   },
   "outputs": [],
   "source": [
    "class DummySimilarityRecommender:\n",
    "    def can_recommend(self, client_data):\n",
    "        REQUIRED_FIELDS = [\"geoCity\", \"subsessionLength\", \"locale\", \"os\", \"bookmark_count\", \"tab_open_count\",\n",
    "                           \"total_uri\", \"unique_tlds\"]\n",
    "\n",
    "        has_fields = all([client_data.get(f, None) is not None for f in REQUIRED_FIELDS])\n",
    "        return has_fields"
   ]
  },
  {
   "cell_type": "code",
   "execution_count": 150,
   "metadata": {
    "collapsed": false
   },
   "outputs": [
    {
     "name": "stderr",
     "output_type": "stream",
     "text": [
      "INFO:requests.packages.urllib3.connectionpool:Starting new HTTPS connection (1): s3-us-west-2.amazonaws.com\n",
      "INFO:requests.packages.urllib3.connectionpool:Starting new HTTPS connection (1): s3-us-west-2.amazonaws.com\n"
     ]
    }
   ],
   "source": [
    "recommenders = {\n",
    "    \"collaborative\": CollaborativeRecommender(),\n",
    "    \"legacy\": LegacyRecommender(),\n",
    "    \"locale\": LocaleRecommender(),\n",
    "    \"similarity\": DummySimilarityRecommender()\n",
    "}"
   ]
  },
  {
   "cell_type": "code",
   "execution_count": 151,
   "metadata": {
    "collapsed": true
   },
   "outputs": [],
   "source": [
    "def test_recommenders(client):\n",
    "    return tuple([recommender.can_recommend(client) for recommender in recommenders.values()])"
   ]
  },
  {
   "cell_type": "markdown",
   "metadata": {},
   "source": [
    "## Computing combined counts"
   ]
  },
  {
   "cell_type": "markdown",
   "metadata": {},
   "source": [
    "We iterate over all clients in the longitudinal dataset, change the attributes to the expected format and then query the individual recommenders."
   ]
  },
  {
   "cell_type": "code",
   "execution_count": 152,
   "metadata": {
    "collapsed": true
   },
   "outputs": [],
   "source": [
    "from operator import add\n",
    "from collections import defaultdict"
   ]
  },
  {
   "cell_type": "code",
   "execution_count": 153,
   "metadata": {
    "collapsed": false
   },
   "outputs": [],
   "source": [
    "rdd_completed = rdd.map(complete_client_data)"
   ]
  },
  {
   "cell_type": "code",
   "execution_count": 155,
   "metadata": {
    "collapsed": false
   },
   "outputs": [],
   "source": [
    "def analyse(rdd):\n",
    "    results = rdd\\\n",
    "        .map(test_recommenders)\\\n",
    "        .map(lambda x: (x, 1))\\\n",
    "        .reduceByKey(add)\\\n",
    "        .collect()\n",
    "        \n",
    "    return defaultdict(int, results)"
   ]
  },
  {
   "cell_type": "code",
   "execution_count": 156,
   "metadata": {
    "collapsed": false,
    "scrolled": true
   },
   "outputs": [
    {
     "name": "stdout",
     "output_type": "stream",
     "text": [
      "CPU times: user 1.23 s, sys: 112 ms, total: 1.34 s\n",
      "Wall time: 27min 51s\n"
     ]
    }
   ],
   "source": [
    "%time results = analyse(rdd_completed)"
   ]
  },
  {
   "cell_type": "code",
   "execution_count": 157,
   "metadata": {
    "collapsed": false
   },
   "outputs": [],
   "source": [
    "num_clients = sum(results.values())\n",
    "total_results = results"
   ]
  },
  {
   "cell_type": "markdown",
   "metadata": {},
   "source": [
    "## Computing individual counts"
   ]
  },
  {
   "cell_type": "code",
   "execution_count": 158,
   "metadata": {
    "collapsed": false,
    "scrolled": true
   },
   "outputs": [],
   "source": [
    "individual_counts = []\n",
    "\n",
    "for i in range(len(recommenders)):\n",
    "    count = 0\n",
    "    \n",
    "    for key, key_count in results.items():\n",
    "        if key[i]:\n",
    "            count += key_count\n",
    "            \n",
    "    individual_counts.append(count)"
   ]
  },
  {
   "cell_type": "markdown",
   "metadata": {},
   "source": [
    "## Displaying the results"
   ]
  },
  {
   "cell_type": "code",
   "execution_count": 165,
   "metadata": {
    "collapsed": true
   },
   "outputs": [],
   "source": [
    "from pandas import DataFrame"
   ]
  },
  {
   "cell_type": "code",
   "execution_count": 166,
   "metadata": {
    "collapsed": true
   },
   "outputs": [],
   "source": [
    "def format_int(num):\n",
    "    return \"{:,}\".format(num)"
   ]
  },
  {
   "cell_type": "code",
   "execution_count": 167,
   "metadata": {
    "collapsed": true
   },
   "outputs": [],
   "source": [
    "def format_frequency(frequency):\n",
    "    return \"%.5f\" % frequency"
   ]
  },
  {
   "cell_type": "code",
   "execution_count": 168,
   "metadata": {
    "collapsed": false
   },
   "outputs": [],
   "source": [
    "def get_relative_counts(counts, total=num_clients):\n",
    "    return [format_frequency(count / float(total)) for count in counts]"
   ]
  },
  {
   "cell_type": "markdown",
   "metadata": {},
   "source": [
    "This is a bit hacky. Sorting a data frame by formatted counts does not work; so we have to add the unformatted ones, sort the data frame, and then remove that column again."
   ]
  },
  {
   "cell_type": "code",
   "execution_count": 169,
   "metadata": {
    "collapsed": true
   },
   "outputs": [],
   "source": [
    "def sorted_dataframe(df, order, key=\"unformatted_counts\"):\n",
    "    df[key] = order\n",
    "    return df.sort_values(by=key, ascending=False).drop(key, axis=1)"
   ]
  },
  {
   "cell_type": "markdown",
   "metadata": {},
   "source": [
    "### Individual counts"
   ]
  },
  {
   "cell_type": "code",
   "execution_count": 170,
   "metadata": {
    "collapsed": false,
    "scrolled": true
   },
   "outputs": [
    {
     "data": {
      "text/html": [
       "<div>\n",
       "<table border=\"1\" class=\"dataframe\">\n",
       "  <thead>\n",
       "    <tr style=\"text-align: right;\">\n",
       "      <th></th>\n",
       "      <th>Relative count</th>\n",
       "    </tr>\n",
       "  </thead>\n",
       "  <tbody>\n",
       "    <tr>\n",
       "      <th>locale</th>\n",
       "      <td>0.99977</td>\n",
       "    </tr>\n",
       "    <tr>\n",
       "      <th>similarity</th>\n",
       "      <td>0.28334</td>\n",
       "    </tr>\n",
       "    <tr>\n",
       "      <th>collaborative</th>\n",
       "      <td>0.08348</td>\n",
       "    </tr>\n",
       "    <tr>\n",
       "      <th>legacy</th>\n",
       "      <td>0.01808</td>\n",
       "    </tr>\n",
       "  </tbody>\n",
       "</table>\n",
       "</div>"
      ],
      "text/plain": [
       "              Relative count\n",
       "locale               0.99977\n",
       "similarity           0.28334\n",
       "collaborative        0.08348\n",
       "legacy               0.01808"
      ]
     },
     "execution_count": 170,
     "metadata": {},
     "output_type": "execute_result"
    }
   ],
   "source": [
    "df = DataFrame(index=recommenders.keys(),\n",
    "          columns=[\"Relative count\"],\n",
    "          data=get_relative_counts(individual_counts)\n",
    ")\n",
    "\n",
    "sorted_dataframe(df, individual_counts)"
   ]
  },
  {
   "cell_type": "markdown",
   "metadata": {},
   "source": [
    "$\\implies$ The locale and collaborative recommenders are able to generate recommendations most of the time. The legacy recommender can only make recommendations very seldomly as not many users seem to have (legacy) addons installed."
   ]
  },
  {
   "cell_type": "markdown",
   "metadata": {},
   "source": [
    "### Combined counts\n",
    "\n",
    "It's interesting to see how well the individual recommenders complement each other. In the following, we count how often different combinations of the recommenders can make recommendations.\n",
    "\n",
    "The table is easier to read if cells are empty if a recommender is not available. If this is not desired, these variables can be changed:"
   ]
  },
  {
   "cell_type": "code",
   "execution_count": 172,
   "metadata": {
    "collapsed": true
   },
   "outputs": [],
   "source": [
    "recommender_available_label = \"Available\"\n",
    "recommender_unavailable_label = \"\""
   ]
  },
  {
   "cell_type": "code",
   "execution_count": 173,
   "metadata": {
    "collapsed": false
   },
   "outputs": [],
   "source": [
    "def format_labels(keys):\n",
    "    return tuple([recommender_available_label if key else recommender_unavailable_label for key in keys])"
   ]
  },
  {
   "cell_type": "code",
   "execution_count": 174,
   "metadata": {
    "collapsed": true
   },
   "outputs": [],
   "source": [
    "def format_data(keys, counts):\n",
    "    formatted_keys = map(format_labels, keys)\n",
    "    return [elems + count for elems, count in zip(formatted_keys, zip(*counts))]"
   ]
  },
  {
   "cell_type": "code",
   "execution_count": 175,
   "metadata": {
    "collapsed": false
   },
   "outputs": [],
   "source": [
    "columns = recommenders.keys() + [\"Relative counts\"]\n",
    "\n",
    "counts = get_relative_counts(results.values())\n",
    "data = format_data(results.keys(), [counts])"
   ]
  },
  {
   "cell_type": "code",
   "execution_count": 176,
   "metadata": {
    "collapsed": false,
    "scrolled": true
   },
   "outputs": [
    {
     "data": {
      "text/html": [
       "<div>\n",
       "<table border=\"1\" class=\"dataframe\">\n",
       "  <thead>\n",
       "    <tr style=\"text-align: right;\">\n",
       "      <th></th>\n",
       "      <th>locale</th>\n",
       "      <th>legacy</th>\n",
       "      <th>collaborative</th>\n",
       "      <th>similarity</th>\n",
       "      <th>Relative counts</th>\n",
       "    </tr>\n",
       "  </thead>\n",
       "  <tbody>\n",
       "    <tr>\n",
       "      <th>2</th>\n",
       "      <td>Available</td>\n",
       "      <td></td>\n",
       "      <td></td>\n",
       "      <td></td>\n",
       "      <td>0.66291</td>\n",
       "    </tr>\n",
       "    <tr>\n",
       "      <th>7</th>\n",
       "      <td>Available</td>\n",
       "      <td></td>\n",
       "      <td></td>\n",
       "      <td>Available</td>\n",
       "      <td>0.24431</td>\n",
       "    </tr>\n",
       "    <tr>\n",
       "      <th>4</th>\n",
       "      <td>Available</td>\n",
       "      <td></td>\n",
       "      <td>Available</td>\n",
       "      <td></td>\n",
       "      <td>0.04334</td>\n",
       "    </tr>\n",
       "    <tr>\n",
       "      <th>0</th>\n",
       "      <td>Available</td>\n",
       "      <td></td>\n",
       "      <td>Available</td>\n",
       "      <td>Available</td>\n",
       "      <td>0.03113</td>\n",
       "    </tr>\n",
       "    <tr>\n",
       "      <th>12</th>\n",
       "      <td>Available</td>\n",
       "      <td>Available</td>\n",
       "      <td></td>\n",
       "      <td></td>\n",
       "      <td>0.00552</td>\n",
       "    </tr>\n",
       "    <tr>\n",
       "      <th>13</th>\n",
       "      <td>Available</td>\n",
       "      <td>Available</td>\n",
       "      <td>Available</td>\n",
       "      <td></td>\n",
       "      <td>0.00473</td>\n",
       "    </tr>\n",
       "    <tr>\n",
       "      <th>9</th>\n",
       "      <td>Available</td>\n",
       "      <td>Available</td>\n",
       "      <td>Available</td>\n",
       "      <td>Available</td>\n",
       "      <td>0.00426</td>\n",
       "    </tr>\n",
       "    <tr>\n",
       "      <th>1</th>\n",
       "      <td>Available</td>\n",
       "      <td>Available</td>\n",
       "      <td></td>\n",
       "      <td>Available</td>\n",
       "      <td>0.00357</td>\n",
       "    </tr>\n",
       "    <tr>\n",
       "      <th>3</th>\n",
       "      <td></td>\n",
       "      <td></td>\n",
       "      <td></td>\n",
       "      <td></td>\n",
       "      <td>0.00016</td>\n",
       "    </tr>\n",
       "    <tr>\n",
       "      <th>15</th>\n",
       "      <td></td>\n",
       "      <td></td>\n",
       "      <td></td>\n",
       "      <td>Available</td>\n",
       "      <td>0.00005</td>\n",
       "    </tr>\n",
       "    <tr>\n",
       "      <th>8</th>\n",
       "      <td></td>\n",
       "      <td></td>\n",
       "      <td>Available</td>\n",
       "      <td></td>\n",
       "      <td>0.00001</td>\n",
       "    </tr>\n",
       "    <tr>\n",
       "      <th>14</th>\n",
       "      <td></td>\n",
       "      <td></td>\n",
       "      <td>Available</td>\n",
       "      <td>Available</td>\n",
       "      <td>0.00001</td>\n",
       "    </tr>\n",
       "    <tr>\n",
       "      <th>5</th>\n",
       "      <td></td>\n",
       "      <td>Available</td>\n",
       "      <td>Available</td>\n",
       "      <td>Available</td>\n",
       "      <td>0.00000</td>\n",
       "    </tr>\n",
       "    <tr>\n",
       "      <th>10</th>\n",
       "      <td></td>\n",
       "      <td>Available</td>\n",
       "      <td>Available</td>\n",
       "      <td></td>\n",
       "      <td>0.00000</td>\n",
       "    </tr>\n",
       "    <tr>\n",
       "      <th>11</th>\n",
       "      <td></td>\n",
       "      <td>Available</td>\n",
       "      <td></td>\n",
       "      <td></td>\n",
       "      <td>0.00000</td>\n",
       "    </tr>\n",
       "    <tr>\n",
       "      <th>6</th>\n",
       "      <td></td>\n",
       "      <td>Available</td>\n",
       "      <td></td>\n",
       "      <td>Available</td>\n",
       "      <td>0.00000</td>\n",
       "    </tr>\n",
       "  </tbody>\n",
       "</table>\n",
       "</div>"
      ],
      "text/plain": [
       "       locale     legacy collaborative similarity Relative counts\n",
       "2   Available                                             0.66291\n",
       "7   Available                           Available         0.24431\n",
       "4   Available                Available                    0.04334\n",
       "0   Available                Available  Available         0.03113\n",
       "12  Available  Available                                  0.00552\n",
       "13  Available  Available     Available                    0.00473\n",
       "9   Available  Available     Available  Available         0.00426\n",
       "1   Available  Available                Available         0.00357\n",
       "3                                                         0.00016\n",
       "15                                      Available         0.00005\n",
       "8                            Available                    0.00001\n",
       "14                           Available  Available         0.00001\n",
       "5              Available     Available  Available         0.00000\n",
       "10             Available     Available                    0.00000\n",
       "11             Available                                  0.00000\n",
       "6              Available                Available         0.00000"
      ]
     },
     "execution_count": 176,
     "metadata": {},
     "output_type": "execute_result"
    }
   ],
   "source": [
    "df = DataFrame(columns=columns, data=data)\n",
    "sorted_dataframe(df, results.values())"
   ]
  },
  {
   "cell_type": "markdown",
   "metadata": {},
   "source": [
    "$\\implies$ If any recommender is available, then the locale recommenders is generally also available. Other than that, there is a good chance the the collaborative recommender is available.\n",
    "There is only a very small portion of cases where the similarity recommender was able to make a recommendation, when locale/collaborative were not; and not a single such case for the legacy recommender."
   ]
  },
  {
   "cell_type": "markdown",
   "metadata": {},
   "source": [
    "### Grouped by number of available recommenders"
   ]
  },
  {
   "cell_type": "code",
   "execution_count": 177,
   "metadata": {
    "collapsed": false
   },
   "outputs": [],
   "source": [
    "from itertools import groupby\n",
    "from operator import itemgetter"
   ]
  },
  {
   "cell_type": "code",
   "execution_count": 178,
   "metadata": {
    "collapsed": true
   },
   "outputs": [],
   "source": [
    "from IPython.display import display, Markdown"
   ]
  },
  {
   "cell_type": "code",
   "execution_count": 179,
   "metadata": {
    "collapsed": false
   },
   "outputs": [
    {
     "data": {
      "text/markdown": [
       "#### 0 available recommenders"
      ],
      "text/plain": [
       "<IPython.core.display.Markdown object>"
      ]
     },
     "metadata": {},
     "output_type": "display_data"
    },
    {
     "data": {
      "text/html": [
       "<div>\n",
       "<table border=\"1\" class=\"dataframe\">\n",
       "  <thead>\n",
       "    <tr style=\"text-align: right;\">\n",
       "      <th></th>\n",
       "      <th>locale</th>\n",
       "      <th>legacy</th>\n",
       "      <th>collaborative</th>\n",
       "      <th>similarity</th>\n",
       "      <th>Relative to all</th>\n",
       "      <th>Relative to this table</th>\n",
       "    </tr>\n",
       "  </thead>\n",
       "  <tbody>\n",
       "    <tr>\n",
       "      <th>0</th>\n",
       "      <td></td>\n",
       "      <td></td>\n",
       "      <td></td>\n",
       "      <td></td>\n",
       "      <td>0.00016</td>\n",
       "      <td>1.00000</td>\n",
       "    </tr>\n",
       "  </tbody>\n",
       "</table>\n",
       "</div>"
      ],
      "text/plain": [
       "  locale legacy collaborative similarity Relative to all  \\\n",
       "0                                                0.00016   \n",
       "\n",
       "  Relative to this table  \n",
       "0                1.00000  "
      ]
     },
     "metadata": {},
     "output_type": "display_data"
    },
    {
     "data": {
      "text/markdown": [
       "#### 1 available recommender"
      ],
      "text/plain": [
       "<IPython.core.display.Markdown object>"
      ]
     },
     "metadata": {},
     "output_type": "display_data"
    },
    {
     "data": {
      "text/html": [
       "<div>\n",
       "<table border=\"1\" class=\"dataframe\">\n",
       "  <thead>\n",
       "    <tr style=\"text-align: right;\">\n",
       "      <th></th>\n",
       "      <th>locale</th>\n",
       "      <th>legacy</th>\n",
       "      <th>collaborative</th>\n",
       "      <th>similarity</th>\n",
       "      <th>Relative to all</th>\n",
       "      <th>Relative to this table</th>\n",
       "    </tr>\n",
       "  </thead>\n",
       "  <tbody>\n",
       "    <tr>\n",
       "      <th>0</th>\n",
       "      <td>Available</td>\n",
       "      <td></td>\n",
       "      <td></td>\n",
       "      <td></td>\n",
       "      <td>0.66291</td>\n",
       "      <td>0.99991</td>\n",
       "    </tr>\n",
       "    <tr>\n",
       "      <th>3</th>\n",
       "      <td></td>\n",
       "      <td></td>\n",
       "      <td></td>\n",
       "      <td>Available</td>\n",
       "      <td>0.00005</td>\n",
       "      <td>0.00008</td>\n",
       "    </tr>\n",
       "    <tr>\n",
       "      <th>1</th>\n",
       "      <td></td>\n",
       "      <td></td>\n",
       "      <td>Available</td>\n",
       "      <td></td>\n",
       "      <td>0.00001</td>\n",
       "      <td>0.00002</td>\n",
       "    </tr>\n",
       "    <tr>\n",
       "      <th>2</th>\n",
       "      <td></td>\n",
       "      <td>Available</td>\n",
       "      <td></td>\n",
       "      <td></td>\n",
       "      <td>0.00000</td>\n",
       "      <td>0.00000</td>\n",
       "    </tr>\n",
       "  </tbody>\n",
       "</table>\n",
       "</div>"
      ],
      "text/plain": [
       "      locale     legacy collaborative similarity Relative to all  \\\n",
       "0  Available                                             0.66291   \n",
       "3                                      Available         0.00005   \n",
       "1                           Available                    0.00001   \n",
       "2             Available                                  0.00000   \n",
       "\n",
       "  Relative to this table  \n",
       "0                0.99991  \n",
       "3                0.00008  \n",
       "1                0.00002  \n",
       "2                0.00000  "
      ]
     },
     "metadata": {},
     "output_type": "display_data"
    },
    {
     "data": {
      "text/markdown": [
       "#### 2 available recommenders"
      ],
      "text/plain": [
       "<IPython.core.display.Markdown object>"
      ]
     },
     "metadata": {},
     "output_type": "display_data"
    },
    {
     "data": {
      "text/html": [
       "<div>\n",
       "<table border=\"1\" class=\"dataframe\">\n",
       "  <thead>\n",
       "    <tr style=\"text-align: right;\">\n",
       "      <th></th>\n",
       "      <th>locale</th>\n",
       "      <th>legacy</th>\n",
       "      <th>collaborative</th>\n",
       "      <th>similarity</th>\n",
       "      <th>Relative to all</th>\n",
       "      <th>Relative to this table</th>\n",
       "    </tr>\n",
       "  </thead>\n",
       "  <tbody>\n",
       "    <tr>\n",
       "      <th>2</th>\n",
       "      <td>Available</td>\n",
       "      <td></td>\n",
       "      <td></td>\n",
       "      <td>Available</td>\n",
       "      <td>0.24431</td>\n",
       "      <td>0.83332</td>\n",
       "    </tr>\n",
       "    <tr>\n",
       "      <th>0</th>\n",
       "      <td>Available</td>\n",
       "      <td></td>\n",
       "      <td>Available</td>\n",
       "      <td></td>\n",
       "      <td>0.04334</td>\n",
       "      <td>0.14783</td>\n",
       "    </tr>\n",
       "    <tr>\n",
       "      <th>4</th>\n",
       "      <td>Available</td>\n",
       "      <td>Available</td>\n",
       "      <td></td>\n",
       "      <td></td>\n",
       "      <td>0.00552</td>\n",
       "      <td>0.01883</td>\n",
       "    </tr>\n",
       "    <tr>\n",
       "      <th>5</th>\n",
       "      <td></td>\n",
       "      <td></td>\n",
       "      <td>Available</td>\n",
       "      <td>Available</td>\n",
       "      <td>0.00001</td>\n",
       "      <td>0.00002</td>\n",
       "    </tr>\n",
       "    <tr>\n",
       "      <th>3</th>\n",
       "      <td></td>\n",
       "      <td>Available</td>\n",
       "      <td>Available</td>\n",
       "      <td></td>\n",
       "      <td>0.00000</td>\n",
       "      <td>0.00000</td>\n",
       "    </tr>\n",
       "    <tr>\n",
       "      <th>1</th>\n",
       "      <td></td>\n",
       "      <td>Available</td>\n",
       "      <td></td>\n",
       "      <td>Available</td>\n",
       "      <td>0.00000</td>\n",
       "      <td>0.00000</td>\n",
       "    </tr>\n",
       "  </tbody>\n",
       "</table>\n",
       "</div>"
      ],
      "text/plain": [
       "      locale     legacy collaborative similarity Relative to all  \\\n",
       "2  Available                           Available         0.24431   \n",
       "0  Available                Available                    0.04334   \n",
       "4  Available  Available                                  0.00552   \n",
       "5                           Available  Available         0.00001   \n",
       "3             Available     Available                    0.00000   \n",
       "1             Available                Available         0.00000   \n",
       "\n",
       "  Relative to this table  \n",
       "2                0.83332  \n",
       "0                0.14783  \n",
       "4                0.01883  \n",
       "5                0.00002  \n",
       "3                0.00000  \n",
       "1                0.00000  "
      ]
     },
     "metadata": {},
     "output_type": "display_data"
    },
    {
     "data": {
      "text/markdown": [
       "#### 3 available recommenders"
      ],
      "text/plain": [
       "<IPython.core.display.Markdown object>"
      ]
     },
     "metadata": {},
     "output_type": "display_data"
    },
    {
     "data": {
      "text/html": [
       "<div>\n",
       "<table border=\"1\" class=\"dataframe\">\n",
       "  <thead>\n",
       "    <tr style=\"text-align: right;\">\n",
       "      <th></th>\n",
       "      <th>locale</th>\n",
       "      <th>legacy</th>\n",
       "      <th>collaborative</th>\n",
       "      <th>similarity</th>\n",
       "      <th>Relative to all</th>\n",
       "      <th>Relative to this table</th>\n",
       "    </tr>\n",
       "  </thead>\n",
       "  <tbody>\n",
       "    <tr>\n",
       "      <th>0</th>\n",
       "      <td>Available</td>\n",
       "      <td></td>\n",
       "      <td>Available</td>\n",
       "      <td>Available</td>\n",
       "      <td>0.03113</td>\n",
       "      <td>0.78950</td>\n",
       "    </tr>\n",
       "    <tr>\n",
       "      <th>3</th>\n",
       "      <td>Available</td>\n",
       "      <td>Available</td>\n",
       "      <td>Available</td>\n",
       "      <td></td>\n",
       "      <td>0.00473</td>\n",
       "      <td>0.11987</td>\n",
       "    </tr>\n",
       "    <tr>\n",
       "      <th>1</th>\n",
       "      <td>Available</td>\n",
       "      <td>Available</td>\n",
       "      <td></td>\n",
       "      <td>Available</td>\n",
       "      <td>0.00357</td>\n",
       "      <td>0.09061</td>\n",
       "    </tr>\n",
       "    <tr>\n",
       "      <th>2</th>\n",
       "      <td></td>\n",
       "      <td>Available</td>\n",
       "      <td>Available</td>\n",
       "      <td>Available</td>\n",
       "      <td>0.00000</td>\n",
       "      <td>0.00002</td>\n",
       "    </tr>\n",
       "  </tbody>\n",
       "</table>\n",
       "</div>"
      ],
      "text/plain": [
       "      locale     legacy collaborative similarity Relative to all  \\\n",
       "0  Available                Available  Available         0.03113   \n",
       "3  Available  Available     Available                    0.00473   \n",
       "1  Available  Available                Available         0.00357   \n",
       "2             Available     Available  Available         0.00000   \n",
       "\n",
       "  Relative to this table  \n",
       "0                0.78950  \n",
       "3                0.11987  \n",
       "1                0.09061  \n",
       "2                0.00002  "
      ]
     },
     "metadata": {},
     "output_type": "display_data"
    },
    {
     "data": {
      "text/markdown": [
       "#### 4 available recommenders"
      ],
      "text/plain": [
       "<IPython.core.display.Markdown object>"
      ]
     },
     "metadata": {},
     "output_type": "display_data"
    },
    {
     "data": {
      "text/html": [
       "<div>\n",
       "<table border=\"1\" class=\"dataframe\">\n",
       "  <thead>\n",
       "    <tr style=\"text-align: right;\">\n",
       "      <th></th>\n",
       "      <th>locale</th>\n",
       "      <th>legacy</th>\n",
       "      <th>collaborative</th>\n",
       "      <th>similarity</th>\n",
       "      <th>Relative to all</th>\n",
       "      <th>Relative to this table</th>\n",
       "    </tr>\n",
       "  </thead>\n",
       "  <tbody>\n",
       "    <tr>\n",
       "      <th>0</th>\n",
       "      <td>Available</td>\n",
       "      <td>Available</td>\n",
       "      <td>Available</td>\n",
       "      <td>Available</td>\n",
       "      <td>0.00426</td>\n",
       "      <td>1.00000</td>\n",
       "    </tr>\n",
       "  </tbody>\n",
       "</table>\n",
       "</div>"
      ],
      "text/plain": [
       "      locale     legacy collaborative similarity Relative to all  \\\n",
       "0  Available  Available     Available  Available         0.00426   \n",
       "\n",
       "  Relative to this table  \n",
       "0                1.00000  "
      ]
     },
     "metadata": {},
     "output_type": "display_data"
    }
   ],
   "source": [
    "for num, group in groupby(sorted(results.keys(), key=sum), sum):\n",
    "    display(Markdown(\"#### %d available recommender%s\" % (num, \"s\" if num != 1 else \"\")))\n",
    "    \n",
    "    sub_keys = list(group)\n",
    "    formatted_keys = map(format_labels, sub_keys)\n",
    "    \n",
    "    sub_counts = [results[key] for key in sub_keys]\n",
    "    sub_counts_to_total = get_relative_counts(sub_counts)\n",
    "    sub_counts_to_table = get_relative_counts(sub_counts, sum(sub_counts))\n",
    "    \n",
    "    zipped_data = zip(formatted_keys, sub_counts_to_total, sub_counts_to_table)\n",
    "    data = [elems + (counts, table_counts) for elems, counts, table_counts in zipped_data]\n",
    "    \n",
    "    columns = recommenders.keys() + [\"Relative to all\", \"Relative to this table\"]\n",
    "    \n",
    "    df = DataFrame(columns=columns, data=data)\n",
    "    df = sorted_dataframe(df, sub_counts)\n",
    "    display(df)"
   ]
  },
  {
   "cell_type": "markdown",
   "metadata": {},
   "source": [
    "## By dates\n",
    "\n",
    "In this section, we perform a similar analysis as before but on subsets of the data. These subsets are specified by when the client profile was generated. `conditions` is a list that contains ranges for the profile age in weeks. The end of the range is exclusive, similar to ranges in Python's standard library."
   ]
  },
  {
   "cell_type": "code",
   "execution_count": 180,
   "metadata": {
    "collapsed": true
   },
   "outputs": [],
   "source": [
    "conditions = [\n",
    "    (0, 1),\n",
    "    (1, 2),\n",
    "    (2, 3),\n",
    "    (3, 4)\n",
    "]"
   ]
  },
  {
   "cell_type": "code",
   "execution_count": 181,
   "metadata": {
    "collapsed": true
   },
   "outputs": [],
   "source": [
    "import numpy as np\n",
    "from numpy import argsort\n",
    "from itertools import product"
   ]
  },
  {
   "cell_type": "code",
   "execution_count": 182,
   "metadata": {
    "collapsed": true
   },
   "outputs": [],
   "source": [
    "def attribute_between(attr, min_weeks, max_weeks):\n",
    "    return lambda client: min_weeks <= client[attr] < max_weeks"
   ]
  },
  {
   "cell_type": "code",
   "execution_count": 183,
   "metadata": {
    "collapsed": true
   },
   "outputs": [],
   "source": [
    "def get_conditioned_results(attr, conditions):\n",
    "    conditioned_results = {}\n",
    "\n",
    "    for (min_weeks, max_weeks) in conditions:\n",
    "        sub_rdd = rdd_completed.filter(attribute_between(attr, min_weeks, max_weeks))\n",
    "        conditioned_results[(min_weeks, max_weeks)] = analyse(sub_rdd)\n",
    "        \n",
    "    return conditioned_results"
   ]
  },
  {
   "cell_type": "markdown",
   "metadata": {},
   "source": [
    "### By profile age in weeks"
   ]
  },
  {
   "cell_type": "code",
   "execution_count": null,
   "metadata": {
    "collapsed": false
   },
   "outputs": [
    {
     "name": "stdout",
     "output_type": "stream",
     "text": [
      "CPU times: user 5.25 s, sys: 404 ms, total: 5.65 s\n",
      "Wall time: 1h 51min 25s\n"
     ]
    }
   ],
   "source": [
    "%time conditioned_results = get_conditioned_results(\"profile_age_in_weeks\", conditions)"
   ]
  },
  {
   "cell_type": "markdown",
   "metadata": {},
   "source": [
    "To make things a little bit easier to read, only recommender combinations that actually appear are displayed in the table."
   ]
  },
  {
   "cell_type": "code",
   "execution_count": null,
   "metadata": {
    "collapsed": false
   },
   "outputs": [],
   "source": [
    "def nonzero_combinations(conditioned_results):\n",
    "    combinations = []\n",
    "\n",
    "    for sub_result in conditioned_results.values():\n",
    "        combinations += [key for key, value in sub_result.items() if value > 0]\n",
    "\n",
    "    return set(combinations)"
   ]
  },
  {
   "cell_type": "code",
   "execution_count": null,
   "metadata": {
    "collapsed": false
   },
   "outputs": [],
   "source": [
    "combinations = nonzero_combinations(conditioned_results)"
   ]
  },
  {
   "cell_type": "code",
   "execution_count": null,
   "metadata": {
    "collapsed": false,
    "scrolled": false
   },
   "outputs": [],
   "source": [
    "def display_individual_filtered_results(conditioned_results, combinations, label):\n",
    "    display(Markdown(\"### Filtering on the %s, Python-like exclusive ranges\" % label))\n",
    "\n",
    "    counts = []\n",
    "    titles = []\n",
    "\n",
    "    columns = recommenders.keys() + [\"Relative counts\"]\n",
    "\n",
    "    for key in conditions:\n",
    "        sub_results = conditioned_results[key]\n",
    "        values = [sub_results[sub_key] for sub_key in combinations]\n",
    "        summed = sum(values)\n",
    "\n",
    "        sub_counts = get_relative_counts(values, summed)\n",
    "        data = format_data(combinations, [sub_counts])\n",
    "        counts.append(sub_counts)\n",
    "\n",
    "        title = \"Between %d and %d weeks\" % key\n",
    "        titles.append(title)\n",
    "        display(Markdown(\"#### %s\" % title))\n",
    "\n",
    "        df = DataFrame(columns=columns, data=data)\n",
    "        df = sorted_dataframe(df, values)\n",
    "        display(df)\n",
    "\n",
    "    return counts, titles"
   ]
  },
  {
   "cell_type": "code",
   "execution_count": null,
   "metadata": {
    "collapsed": false,
    "scrolled": true
   },
   "outputs": [
    {
     "data": {
      "text/markdown": [
       "### Filtering on the profile age, Python-like exclusive ranges"
      ],
      "text/plain": [
       "<IPython.core.display.Markdown object>"
      ]
     },
     "metadata": {},
     "output_type": "display_data"
    },
    {
     "data": {
      "text/markdown": [
       "#### Between 0 and 1 weeks"
      ],
      "text/plain": [
       "<IPython.core.display.Markdown object>"
      ]
     },
     "metadata": {},
     "output_type": "display_data"
    },
    {
     "data": {
      "text/html": [
       "<div>\n",
       "<table border=\"1\" class=\"dataframe\">\n",
       "  <thead>\n",
       "    <tr style=\"text-align: right;\">\n",
       "      <th></th>\n",
       "      <th>locale</th>\n",
       "      <th>legacy</th>\n",
       "      <th>collaborative</th>\n",
       "      <th>similarity</th>\n",
       "      <th>Relative counts</th>\n",
       "    </tr>\n",
       "  </thead>\n",
       "  <tbody>\n",
       "    <tr>\n",
       "      <th>2</th>\n",
       "      <td>Available</td>\n",
       "      <td></td>\n",
       "      <td></td>\n",
       "      <td></td>\n",
       "      <td>0.78495</td>\n",
       "    </tr>\n",
       "    <tr>\n",
       "      <th>6</th>\n",
       "      <td>Available</td>\n",
       "      <td></td>\n",
       "      <td></td>\n",
       "      <td>Available</td>\n",
       "      <td>0.17204</td>\n",
       "    </tr>\n",
       "    <tr>\n",
       "      <th>0</th>\n",
       "      <td>Available</td>\n",
       "      <td></td>\n",
       "      <td>Available</td>\n",
       "      <td>Available</td>\n",
       "      <td>0.03226</td>\n",
       "    </tr>\n",
       "    <tr>\n",
       "      <th>3</th>\n",
       "      <td>Available</td>\n",
       "      <td></td>\n",
       "      <td>Available</td>\n",
       "      <td></td>\n",
       "      <td>0.01075</td>\n",
       "    </tr>\n",
       "    <tr>\n",
       "      <th>1</th>\n",
       "      <td>Available</td>\n",
       "      <td>Available</td>\n",
       "      <td></td>\n",
       "      <td>Available</td>\n",
       "      <td>0.00000</td>\n",
       "    </tr>\n",
       "    <tr>\n",
       "      <th>4</th>\n",
       "      <td></td>\n",
       "      <td></td>\n",
       "      <td></td>\n",
       "      <td>Available</td>\n",
       "      <td>0.00000</td>\n",
       "    </tr>\n",
       "    <tr>\n",
       "      <th>5</th>\n",
       "      <td></td>\n",
       "      <td></td>\n",
       "      <td>Available</td>\n",
       "      <td>Available</td>\n",
       "      <td>0.00000</td>\n",
       "    </tr>\n",
       "    <tr>\n",
       "      <th>7</th>\n",
       "      <td>Available</td>\n",
       "      <td>Available</td>\n",
       "      <td>Available</td>\n",
       "      <td>Available</td>\n",
       "      <td>0.00000</td>\n",
       "    </tr>\n",
       "    <tr>\n",
       "      <th>8</th>\n",
       "      <td></td>\n",
       "      <td></td>\n",
       "      <td></td>\n",
       "      <td></td>\n",
       "      <td>0.00000</td>\n",
       "    </tr>\n",
       "    <tr>\n",
       "      <th>9</th>\n",
       "      <td>Available</td>\n",
       "      <td>Available</td>\n",
       "      <td></td>\n",
       "      <td></td>\n",
       "      <td>0.00000</td>\n",
       "    </tr>\n",
       "    <tr>\n",
       "      <th>10</th>\n",
       "      <td>Available</td>\n",
       "      <td>Available</td>\n",
       "      <td>Available</td>\n",
       "      <td></td>\n",
       "      <td>0.00000</td>\n",
       "    </tr>\n",
       "  </tbody>\n",
       "</table>\n",
       "</div>"
      ],
      "text/plain": [
       "       locale     legacy collaborative similarity Relative counts\n",
       "2   Available                                             0.78495\n",
       "6   Available                           Available         0.17204\n",
       "0   Available                Available  Available         0.03226\n",
       "3   Available                Available                    0.01075\n",
       "1   Available  Available                Available         0.00000\n",
       "4                                       Available         0.00000\n",
       "5                            Available  Available         0.00000\n",
       "7   Available  Available     Available  Available         0.00000\n",
       "8                                                         0.00000\n",
       "9   Available  Available                                  0.00000\n",
       "10  Available  Available     Available                    0.00000"
      ]
     },
     "metadata": {},
     "output_type": "display_data"
    },
    {
     "data": {
      "text/markdown": [
       "#### Between 1 and 2 weeks"
      ],
      "text/plain": [
       "<IPython.core.display.Markdown object>"
      ]
     },
     "metadata": {},
     "output_type": "display_data"
    },
    {
     "data": {
      "text/html": [
       "<div>\n",
       "<table border=\"1\" class=\"dataframe\">\n",
       "  <thead>\n",
       "    <tr style=\"text-align: right;\">\n",
       "      <th></th>\n",
       "      <th>locale</th>\n",
       "      <th>legacy</th>\n",
       "      <th>collaborative</th>\n",
       "      <th>similarity</th>\n",
       "      <th>Relative counts</th>\n",
       "    </tr>\n",
       "  </thead>\n",
       "  <tbody>\n",
       "    <tr>\n",
       "      <th>2</th>\n",
       "      <td>Available</td>\n",
       "      <td></td>\n",
       "      <td></td>\n",
       "      <td></td>\n",
       "      <td>0.77836</td>\n",
       "    </tr>\n",
       "    <tr>\n",
       "      <th>6</th>\n",
       "      <td>Available</td>\n",
       "      <td></td>\n",
       "      <td></td>\n",
       "      <td>Available</td>\n",
       "      <td>0.18203</td>\n",
       "    </tr>\n",
       "    <tr>\n",
       "      <th>3</th>\n",
       "      <td>Available</td>\n",
       "      <td></td>\n",
       "      <td>Available</td>\n",
       "      <td></td>\n",
       "      <td>0.02068</td>\n",
       "    </tr>\n",
       "    <tr>\n",
       "      <th>0</th>\n",
       "      <td>Available</td>\n",
       "      <td></td>\n",
       "      <td>Available</td>\n",
       "      <td>Available</td>\n",
       "      <td>0.01121</td>\n",
       "    </tr>\n",
       "    <tr>\n",
       "      <th>10</th>\n",
       "      <td>Available</td>\n",
       "      <td>Available</td>\n",
       "      <td>Available</td>\n",
       "      <td></td>\n",
       "      <td>0.00285</td>\n",
       "    </tr>\n",
       "    <tr>\n",
       "      <th>7</th>\n",
       "      <td>Available</td>\n",
       "      <td>Available</td>\n",
       "      <td>Available</td>\n",
       "      <td>Available</td>\n",
       "      <td>0.00210</td>\n",
       "    </tr>\n",
       "    <tr>\n",
       "      <th>9</th>\n",
       "      <td>Available</td>\n",
       "      <td>Available</td>\n",
       "      <td></td>\n",
       "      <td></td>\n",
       "      <td>0.00185</td>\n",
       "    </tr>\n",
       "    <tr>\n",
       "      <th>1</th>\n",
       "      <td>Available</td>\n",
       "      <td>Available</td>\n",
       "      <td></td>\n",
       "      <td>Available</td>\n",
       "      <td>0.00085</td>\n",
       "    </tr>\n",
       "    <tr>\n",
       "      <th>8</th>\n",
       "      <td></td>\n",
       "      <td></td>\n",
       "      <td></td>\n",
       "      <td></td>\n",
       "      <td>0.00007</td>\n",
       "    </tr>\n",
       "    <tr>\n",
       "      <th>4</th>\n",
       "      <td></td>\n",
       "      <td></td>\n",
       "      <td></td>\n",
       "      <td>Available</td>\n",
       "      <td>0.00000</td>\n",
       "    </tr>\n",
       "    <tr>\n",
       "      <th>5</th>\n",
       "      <td></td>\n",
       "      <td></td>\n",
       "      <td>Available</td>\n",
       "      <td>Available</td>\n",
       "      <td>0.00000</td>\n",
       "    </tr>\n",
       "  </tbody>\n",
       "</table>\n",
       "</div>"
      ],
      "text/plain": [
       "       locale     legacy collaborative similarity Relative counts\n",
       "2   Available                                             0.77836\n",
       "6   Available                           Available         0.18203\n",
       "3   Available                Available                    0.02068\n",
       "0   Available                Available  Available         0.01121\n",
       "10  Available  Available     Available                    0.00285\n",
       "7   Available  Available     Available  Available         0.00210\n",
       "9   Available  Available                                  0.00185\n",
       "1   Available  Available                Available         0.00085\n",
       "8                                                         0.00007\n",
       "4                                       Available         0.00000\n",
       "5                            Available  Available         0.00000"
      ]
     },
     "metadata": {},
     "output_type": "display_data"
    },
    {
     "data": {
      "text/markdown": [
       "#### Between 2 and 3 weeks"
      ],
      "text/plain": [
       "<IPython.core.display.Markdown object>"
      ]
     },
     "metadata": {},
     "output_type": "display_data"
    },
    {
     "data": {
      "text/html": [
       "<div>\n",
       "<table border=\"1\" class=\"dataframe\">\n",
       "  <thead>\n",
       "    <tr style=\"text-align: right;\">\n",
       "      <th></th>\n",
       "      <th>locale</th>\n",
       "      <th>legacy</th>\n",
       "      <th>collaborative</th>\n",
       "      <th>similarity</th>\n",
       "      <th>Relative counts</th>\n",
       "    </tr>\n",
       "  </thead>\n",
       "  <tbody>\n",
       "    <tr>\n",
       "      <th>2</th>\n",
       "      <td>Available</td>\n",
       "      <td></td>\n",
       "      <td></td>\n",
       "      <td></td>\n",
       "      <td>0.75097</td>\n",
       "    </tr>\n",
       "    <tr>\n",
       "      <th>6</th>\n",
       "      <td>Available</td>\n",
       "      <td></td>\n",
       "      <td></td>\n",
       "      <td>Available</td>\n",
       "      <td>0.20579</td>\n",
       "    </tr>\n",
       "    <tr>\n",
       "      <th>3</th>\n",
       "      <td>Available</td>\n",
       "      <td></td>\n",
       "      <td>Available</td>\n",
       "      <td></td>\n",
       "      <td>0.02025</td>\n",
       "    </tr>\n",
       "    <tr>\n",
       "      <th>0</th>\n",
       "      <td>Available</td>\n",
       "      <td></td>\n",
       "      <td>Available</td>\n",
       "      <td>Available</td>\n",
       "      <td>0.01429</td>\n",
       "    </tr>\n",
       "    <tr>\n",
       "      <th>7</th>\n",
       "      <td>Available</td>\n",
       "      <td>Available</td>\n",
       "      <td>Available</td>\n",
       "      <td>Available</td>\n",
       "      <td>0.00251</td>\n",
       "    </tr>\n",
       "    <tr>\n",
       "      <th>10</th>\n",
       "      <td>Available</td>\n",
       "      <td>Available</td>\n",
       "      <td>Available</td>\n",
       "      <td></td>\n",
       "      <td>0.00245</td>\n",
       "    </tr>\n",
       "    <tr>\n",
       "      <th>9</th>\n",
       "      <td>Available</td>\n",
       "      <td>Available</td>\n",
       "      <td></td>\n",
       "      <td></td>\n",
       "      <td>0.00215</td>\n",
       "    </tr>\n",
       "    <tr>\n",
       "      <th>1</th>\n",
       "      <td>Available</td>\n",
       "      <td>Available</td>\n",
       "      <td></td>\n",
       "      <td>Available</td>\n",
       "      <td>0.00148</td>\n",
       "    </tr>\n",
       "    <tr>\n",
       "      <th>8</th>\n",
       "      <td></td>\n",
       "      <td></td>\n",
       "      <td></td>\n",
       "      <td></td>\n",
       "      <td>0.00008</td>\n",
       "    </tr>\n",
       "    <tr>\n",
       "      <th>4</th>\n",
       "      <td></td>\n",
       "      <td></td>\n",
       "      <td></td>\n",
       "      <td>Available</td>\n",
       "      <td>0.00001</td>\n",
       "    </tr>\n",
       "    <tr>\n",
       "      <th>5</th>\n",
       "      <td></td>\n",
       "      <td></td>\n",
       "      <td>Available</td>\n",
       "      <td>Available</td>\n",
       "      <td>0.00001</td>\n",
       "    </tr>\n",
       "  </tbody>\n",
       "</table>\n",
       "</div>"
      ],
      "text/plain": [
       "       locale     legacy collaborative similarity Relative counts\n",
       "2   Available                                             0.75097\n",
       "6   Available                           Available         0.20579\n",
       "3   Available                Available                    0.02025\n",
       "0   Available                Available  Available         0.01429\n",
       "7   Available  Available     Available  Available         0.00251\n",
       "10  Available  Available     Available                    0.00245\n",
       "9   Available  Available                                  0.00215\n",
       "1   Available  Available                Available         0.00148\n",
       "8                                                         0.00008\n",
       "4                                       Available         0.00001\n",
       "5                            Available  Available         0.00001"
      ]
     },
     "metadata": {},
     "output_type": "display_data"
    },
    {
     "data": {
      "text/markdown": [
       "#### Between 3 and 4 weeks"
      ],
      "text/plain": [
       "<IPython.core.display.Markdown object>"
      ]
     },
     "metadata": {},
     "output_type": "display_data"
    },
    {
     "data": {
      "text/html": [
       "<div>\n",
       "<table border=\"1\" class=\"dataframe\">\n",
       "  <thead>\n",
       "    <tr style=\"text-align: right;\">\n",
       "      <th></th>\n",
       "      <th>locale</th>\n",
       "      <th>legacy</th>\n",
       "      <th>collaborative</th>\n",
       "      <th>similarity</th>\n",
       "      <th>Relative counts</th>\n",
       "    </tr>\n",
       "  </thead>\n",
       "  <tbody>\n",
       "    <tr>\n",
       "      <th>2</th>\n",
       "      <td>Available</td>\n",
       "      <td></td>\n",
       "      <td></td>\n",
       "      <td></td>\n",
       "      <td>0.73514</td>\n",
       "    </tr>\n",
       "    <tr>\n",
       "      <th>6</th>\n",
       "      <td>Available</td>\n",
       "      <td></td>\n",
       "      <td></td>\n",
       "      <td>Available</td>\n",
       "      <td>0.21937</td>\n",
       "    </tr>\n",
       "    <tr>\n",
       "      <th>3</th>\n",
       "      <td>Available</td>\n",
       "      <td></td>\n",
       "      <td>Available</td>\n",
       "      <td></td>\n",
       "      <td>0.02197</td>\n",
       "    </tr>\n",
       "    <tr>\n",
       "      <th>0</th>\n",
       "      <td>Available</td>\n",
       "      <td></td>\n",
       "      <td>Available</td>\n",
       "      <td>Available</td>\n",
       "      <td>0.01539</td>\n",
       "    </tr>\n",
       "    <tr>\n",
       "      <th>9</th>\n",
       "      <td>Available</td>\n",
       "      <td>Available</td>\n",
       "      <td></td>\n",
       "      <td></td>\n",
       "      <td>0.00222</td>\n",
       "    </tr>\n",
       "    <tr>\n",
       "      <th>7</th>\n",
       "      <td>Available</td>\n",
       "      <td>Available</td>\n",
       "      <td>Available</td>\n",
       "      <td>Available</td>\n",
       "      <td>0.00213</td>\n",
       "    </tr>\n",
       "    <tr>\n",
       "      <th>10</th>\n",
       "      <td>Available</td>\n",
       "      <td>Available</td>\n",
       "      <td>Available</td>\n",
       "      <td></td>\n",
       "      <td>0.00199</td>\n",
       "    </tr>\n",
       "    <tr>\n",
       "      <th>1</th>\n",
       "      <td>Available</td>\n",
       "      <td>Available</td>\n",
       "      <td></td>\n",
       "      <td>Available</td>\n",
       "      <td>0.00159</td>\n",
       "    </tr>\n",
       "    <tr>\n",
       "      <th>8</th>\n",
       "      <td></td>\n",
       "      <td></td>\n",
       "      <td></td>\n",
       "      <td></td>\n",
       "      <td>0.00014</td>\n",
       "    </tr>\n",
       "    <tr>\n",
       "      <th>4</th>\n",
       "      <td></td>\n",
       "      <td></td>\n",
       "      <td></td>\n",
       "      <td>Available</td>\n",
       "      <td>0.00005</td>\n",
       "    </tr>\n",
       "    <tr>\n",
       "      <th>5</th>\n",
       "      <td></td>\n",
       "      <td></td>\n",
       "      <td>Available</td>\n",
       "      <td>Available</td>\n",
       "      <td>0.00000</td>\n",
       "    </tr>\n",
       "  </tbody>\n",
       "</table>\n",
       "</div>"
      ],
      "text/plain": [
       "       locale     legacy collaborative similarity Relative counts\n",
       "2   Available                                             0.73514\n",
       "6   Available                           Available         0.21937\n",
       "3   Available                Available                    0.02197\n",
       "0   Available                Available  Available         0.01539\n",
       "9   Available  Available                                  0.00222\n",
       "7   Available  Available     Available  Available         0.00213\n",
       "10  Available  Available     Available                    0.00199\n",
       "1   Available  Available                Available         0.00159\n",
       "8                                                         0.00014\n",
       "4                                       Available         0.00005\n",
       "5                            Available  Available         0.00000"
      ]
     },
     "metadata": {},
     "output_type": "display_data"
    }
   ],
   "source": [
    "counts, titles = display_individual_filtered_results(conditioned_results, combinations, label=\"profile age\")"
   ]
  },
  {
   "cell_type": "markdown",
   "metadata": {},
   "source": [
    "To make things a little bit easier to read, we can display all results in a single table."
   ]
  },
  {
   "cell_type": "code",
   "execution_count": null,
   "metadata": {
    "collapsed": false
   },
   "outputs": [],
   "source": [
    "def display_merged_filtered_results(counts, titles, total_results, combinations, label):\n",
    "    values = [total_results[sub_key] for sub_key in combinations]\n",
    "    sub_counts = get_relative_counts(values)\n",
    "    counts.append(sub_counts)\n",
    "    titles.append(\"Total, without any condition\")  \n",
    "\n",
    "    columns = recommenders.keys() + titles\n",
    "    data = format_data(combinations, counts)\n",
    "\n",
    "    df = DataFrame(columns=columns, data=data)\n",
    "    df = sorted_dataframe(df, counts[0])\n",
    "\n",
    "    display(Markdown(\"### Filtering on the %s, Python-like exclusive ranges – All in one table\" % label))\n",
    "    display(df)"
   ]
  },
  {
   "cell_type": "code",
   "execution_count": null,
   "metadata": {
    "collapsed": false
   },
   "outputs": [
    {
     "data": {
      "text/markdown": [
       "### Filtering on the profile age, Python-like exclusive ranges – All in one table"
      ],
      "text/plain": [
       "<IPython.core.display.Markdown object>"
      ]
     },
     "metadata": {},
     "output_type": "display_data"
    },
    {
     "data": {
      "text/html": [
       "<div>\n",
       "<table border=\"1\" class=\"dataframe\">\n",
       "  <thead>\n",
       "    <tr style=\"text-align: right;\">\n",
       "      <th></th>\n",
       "      <th>locale</th>\n",
       "      <th>legacy</th>\n",
       "      <th>collaborative</th>\n",
       "      <th>similarity</th>\n",
       "      <th>Between 0 and 1 weeks</th>\n",
       "      <th>Between 1 and 2 weeks</th>\n",
       "      <th>Between 2 and 3 weeks</th>\n",
       "      <th>Between 3 and 4 weeks</th>\n",
       "      <th>Total, without any condition</th>\n",
       "    </tr>\n",
       "  </thead>\n",
       "  <tbody>\n",
       "    <tr>\n",
       "      <th>2</th>\n",
       "      <td>Available</td>\n",
       "      <td></td>\n",
       "      <td></td>\n",
       "      <td></td>\n",
       "      <td>0.78495</td>\n",
       "      <td>0.77836</td>\n",
       "      <td>0.75097</td>\n",
       "      <td>0.73514</td>\n",
       "      <td>0.66291</td>\n",
       "    </tr>\n",
       "    <tr>\n",
       "      <th>6</th>\n",
       "      <td>Available</td>\n",
       "      <td></td>\n",
       "      <td></td>\n",
       "      <td>Available</td>\n",
       "      <td>0.17204</td>\n",
       "      <td>0.18203</td>\n",
       "      <td>0.20579</td>\n",
       "      <td>0.21937</td>\n",
       "      <td>0.24431</td>\n",
       "    </tr>\n",
       "    <tr>\n",
       "      <th>0</th>\n",
       "      <td>Available</td>\n",
       "      <td></td>\n",
       "      <td>Available</td>\n",
       "      <td>Available</td>\n",
       "      <td>0.03226</td>\n",
       "      <td>0.01121</td>\n",
       "      <td>0.01429</td>\n",
       "      <td>0.01539</td>\n",
       "      <td>0.03113</td>\n",
       "    </tr>\n",
       "    <tr>\n",
       "      <th>3</th>\n",
       "      <td>Available</td>\n",
       "      <td></td>\n",
       "      <td>Available</td>\n",
       "      <td></td>\n",
       "      <td>0.01075</td>\n",
       "      <td>0.02068</td>\n",
       "      <td>0.02025</td>\n",
       "      <td>0.02197</td>\n",
       "      <td>0.04334</td>\n",
       "    </tr>\n",
       "    <tr>\n",
       "      <th>1</th>\n",
       "      <td>Available</td>\n",
       "      <td>Available</td>\n",
       "      <td></td>\n",
       "      <td>Available</td>\n",
       "      <td>0.00000</td>\n",
       "      <td>0.00085</td>\n",
       "      <td>0.00148</td>\n",
       "      <td>0.00159</td>\n",
       "      <td>0.00357</td>\n",
       "    </tr>\n",
       "    <tr>\n",
       "      <th>4</th>\n",
       "      <td></td>\n",
       "      <td></td>\n",
       "      <td></td>\n",
       "      <td>Available</td>\n",
       "      <td>0.00000</td>\n",
       "      <td>0.00000</td>\n",
       "      <td>0.00001</td>\n",
       "      <td>0.00005</td>\n",
       "      <td>0.00005</td>\n",
       "    </tr>\n",
       "    <tr>\n",
       "      <th>5</th>\n",
       "      <td></td>\n",
       "      <td></td>\n",
       "      <td>Available</td>\n",
       "      <td>Available</td>\n",
       "      <td>0.00000</td>\n",
       "      <td>0.00000</td>\n",
       "      <td>0.00001</td>\n",
       "      <td>0.00000</td>\n",
       "      <td>0.00001</td>\n",
       "    </tr>\n",
       "    <tr>\n",
       "      <th>7</th>\n",
       "      <td>Available</td>\n",
       "      <td>Available</td>\n",
       "      <td>Available</td>\n",
       "      <td>Available</td>\n",
       "      <td>0.00000</td>\n",
       "      <td>0.00210</td>\n",
       "      <td>0.00251</td>\n",
       "      <td>0.00213</td>\n",
       "      <td>0.00426</td>\n",
       "    </tr>\n",
       "    <tr>\n",
       "      <th>8</th>\n",
       "      <td></td>\n",
       "      <td></td>\n",
       "      <td></td>\n",
       "      <td></td>\n",
       "      <td>0.00000</td>\n",
       "      <td>0.00007</td>\n",
       "      <td>0.00008</td>\n",
       "      <td>0.00014</td>\n",
       "      <td>0.00016</td>\n",
       "    </tr>\n",
       "    <tr>\n",
       "      <th>9</th>\n",
       "      <td>Available</td>\n",
       "      <td>Available</td>\n",
       "      <td></td>\n",
       "      <td></td>\n",
       "      <td>0.00000</td>\n",
       "      <td>0.00185</td>\n",
       "      <td>0.00215</td>\n",
       "      <td>0.00222</td>\n",
       "      <td>0.00552</td>\n",
       "    </tr>\n",
       "    <tr>\n",
       "      <th>10</th>\n",
       "      <td>Available</td>\n",
       "      <td>Available</td>\n",
       "      <td>Available</td>\n",
       "      <td></td>\n",
       "      <td>0.00000</td>\n",
       "      <td>0.00285</td>\n",
       "      <td>0.00245</td>\n",
       "      <td>0.00199</td>\n",
       "      <td>0.00473</td>\n",
       "    </tr>\n",
       "  </tbody>\n",
       "</table>\n",
       "</div>"
      ],
      "text/plain": [
       "       locale     legacy collaborative similarity Between 0 and 1 weeks  \\\n",
       "2   Available                                                   0.78495   \n",
       "6   Available                           Available               0.17204   \n",
       "0   Available                Available  Available               0.03226   \n",
       "3   Available                Available                          0.01075   \n",
       "1   Available  Available                Available               0.00000   \n",
       "4                                       Available               0.00000   \n",
       "5                            Available  Available               0.00000   \n",
       "7   Available  Available     Available  Available               0.00000   \n",
       "8                                                               0.00000   \n",
       "9   Available  Available                                        0.00000   \n",
       "10  Available  Available     Available                          0.00000   \n",
       "\n",
       "   Between 1 and 2 weeks Between 2 and 3 weeks Between 3 and 4 weeks  \\\n",
       "2                0.77836               0.75097               0.73514   \n",
       "6                0.18203               0.20579               0.21937   \n",
       "0                0.01121               0.01429               0.01539   \n",
       "3                0.02068               0.02025               0.02197   \n",
       "1                0.00085               0.00148               0.00159   \n",
       "4                0.00000               0.00001               0.00005   \n",
       "5                0.00000               0.00001               0.00000   \n",
       "7                0.00210               0.00251               0.00213   \n",
       "8                0.00007               0.00008               0.00014   \n",
       "9                0.00185               0.00215               0.00222   \n",
       "10               0.00285               0.00245               0.00199   \n",
       "\n",
       "   Total, without any condition  \n",
       "2                       0.66291  \n",
       "6                       0.24431  \n",
       "0                       0.03113  \n",
       "3                       0.04334  \n",
       "1                       0.00357  \n",
       "4                       0.00005  \n",
       "5                       0.00001  \n",
       "7                       0.00426  \n",
       "8                       0.00016  \n",
       "9                       0.00552  \n",
       "10                      0.00473  "
      ]
     },
     "metadata": {},
     "output_type": "display_data"
    }
   ],
   "source": [
    "display_merged_filtered_results(counts, titles, total_results, combinations, label=\"profile age\")"
   ]
  },
  {
   "cell_type": "markdown",
   "metadata": {},
   "source": [
    "### By submission date in weeks"
   ]
  },
  {
   "cell_type": "code",
   "execution_count": null,
   "metadata": {
    "collapsed": false
   },
   "outputs": [
    {
     "name": "stdout",
     "output_type": "stream",
     "text": [
      "CPU times: user 5.2 s, sys: 444 ms, total: 5.64 s\n",
      "Wall time: 1h 52min 2s\n"
     ]
    }
   ],
   "source": [
    "%time conditioned_results_submission_date = get_conditioned_results(\"submission_age_in_weeks\", conditions)"
   ]
  },
  {
   "cell_type": "code",
   "execution_count": 1,
   "metadata": {
    "collapsed": false,
    "scrolled": true
   },
   "outputs": [
    {
     "ename": "NameError",
     "evalue": "name 'nonzero_combinations' is not defined",
     "output_type": "error",
     "traceback": [
      "\u001b[0;31m\u001b[0m",
      "\u001b[0;31mNameError\u001b[0mTraceback (most recent call last)",
      "\u001b[0;32m<ipython-input-1-296585d8b024>\u001b[0m in \u001b[0;36m<module>\u001b[0;34m()\u001b[0m\n\u001b[1;32m      1\u001b[0m \u001b[0mlabel\u001b[0m \u001b[0;34m=\u001b[0m \u001b[0;34m\"submission date\"\u001b[0m\u001b[0;34m\u001b[0m\u001b[0m\n\u001b[0;32m----> 2\u001b[0;31m \u001b[0mcombinations\u001b[0m \u001b[0;34m=\u001b[0m \u001b[0mnonzero_combinations\u001b[0m\u001b[0;34m(\u001b[0m\u001b[0mconditioned_results_submission_date\u001b[0m\u001b[0;34m)\u001b[0m\u001b[0;34m\u001b[0m\u001b[0m\n\u001b[0m\u001b[1;32m      3\u001b[0m \u001b[0mcounts\u001b[0m\u001b[0;34m,\u001b[0m \u001b[0mtitles\u001b[0m \u001b[0;34m=\u001b[0m \u001b[0mdisplay_individual_filtered_results\u001b[0m\u001b[0;34m(\u001b[0m\u001b[0mconditioned_results_submission_date\u001b[0m\u001b[0;34m,\u001b[0m \u001b[0mcombinations\u001b[0m\u001b[0;34m,\u001b[0m \u001b[0mlabel\u001b[0m\u001b[0;34m)\u001b[0m\u001b[0;34m\u001b[0m\u001b[0m\n\u001b[1;32m      4\u001b[0m \u001b[0mdisplay_merged_filtered_results\u001b[0m\u001b[0;34m(\u001b[0m\u001b[0mcounts\u001b[0m\u001b[0;34m,\u001b[0m \u001b[0mtitles\u001b[0m\u001b[0;34m,\u001b[0m \u001b[0mtotal_results\u001b[0m\u001b[0;34m,\u001b[0m \u001b[0mcombinations\u001b[0m\u001b[0;34m,\u001b[0m \u001b[0mlabel\u001b[0m\u001b[0;34m)\u001b[0m\u001b[0;34m\u001b[0m\u001b[0m\n",
      "\u001b[0;31mNameError\u001b[0m: name 'nonzero_combinations' is not defined"
     ]
    }
   ],
   "source": [
    "label = \"submission date\"\n",
    "combinations = nonzero_combinations(conditioned_results_submission_date)\n",
    "counts, titles = display_individual_filtered_results(conditioned_results_submission_date, combinations, label)\n",
    "display_merged_filtered_results(counts, titles, total_results, combinations, label)"
   ]
  },
  {
   "cell_type": "markdown",
   "metadata": {},
   "source": [
    "## Addon counts\n",
    "\n",
    "We want to train an ensemble model using the individual recommenders that we already have. To optimize this ensemble model, we need some training data. We have information about what addons different users have installed, so it would make sense to check if our ensemble model would also recommend these addons to the respective users.\n",
    "\n",
    "However, there is one fundamental conflict here: To be able to make recommendations, the collaborative recommender already needs some information about which addons a user has installed. Thus, we can only use a subset of a user's installed addons for evaluation. These addons are masked and the collaborative recommender then only uses the unmasked addons. The open question is how large this subset of masked addons should be.\n",
    "\n",
    "Choosing this size is a trade-off between three factors:\n",
    "1. By masking more addons, we give the evaluation function more data to work with\n",
    "2. If we mask fewer addons, the collaborative filter can make better recommendations\n",
    "3. There are not that many users who have many addons installed. This means we need to be careful not to make our evaluation set too biased. For example, if we always mask at least five addons, then only users with more than six addons could be part of the evaluation set, which is a small subset of the entire population\n",
    "\n",
    "To be able to make this decision, it's helpful to look at the distribution of the number of addons that users have installed."
   ]
  },
  {
   "cell_type": "code",
   "execution_count": null,
   "metadata": {
    "collapsed": false
   },
   "outputs": [],
   "source": [
    "import matplotlib.pyplot as plt\n",
    "import seaborn as sns\n",
    "%matplotlib inline\n",
    "sns.set(style=\"darkgrid\")"
   ]
  },
  {
   "cell_type": "code",
   "execution_count": null,
   "metadata": {
    "collapsed": false
   },
   "outputs": [],
   "source": [
    "addon_counts = rdd_completed\\\n",
    "    .map(lambda client: len(client['installed_addons']))\\\n",
    "    .map(lambda x: (x, 1))\\\n",
    "    .reduceByKey(add)\\\n",
    "    .collect()\n",
    "    \n",
    "addon_counts = sorted(addon_counts, key=itemgetter(0))"
   ]
  },
  {
   "cell_type": "code",
   "execution_count": null,
   "metadata": {
    "collapsed": true
   },
   "outputs": [],
   "source": [
    "def addon_counts_to_proportions(addon_counts):\n",
    "    num_addons, num_addons_count = zip(*addon_counts)\n",
    "    \n",
    "    num_addons_total = float(sum(num_addons_count))\n",
    "    num_addons_count = np.array(num_addons_count) / num_addons_total\n",
    "    \n",
    "    return num_addons, num_addons_count"
   ]
  },
  {
   "cell_type": "code",
   "execution_count": null,
   "metadata": {
    "collapsed": true
   },
   "outputs": [],
   "source": [
    "def plot_addon_distribution(addon_counts):\n",
    "    num_addons, num_addons_count = addon_counts_to_proportions(addon_counts)\n",
    "    \n",
    "    plt.bar(num_addons, num_addons_count, width=1.)\n",
    "    plt.title(\"Number of addons per user\")\n",
    "    plt.xlabel(\"Number of addons\")\n",
    "    plt.ylabel(\"Proportion of users\")\n",
    "    plt.show()\n",
    "    \n",
    "    plt.plot(np.cumsum(num_addons_count))\n",
    "    plt.title(\"Number of addons per user (cumulative)\")\n",
    "    plt.xlabel(\"Number of addons\")\n",
    "    plt.ylabel(\"Proportion of users\")\n",
    "    plt.ylim(0, 1)\n",
    "    plt.show()"
   ]
  },
  {
   "cell_type": "code",
   "execution_count": null,
   "metadata": {
    "collapsed": false
   },
   "outputs": [],
   "source": [
    "plot_addon_distribution(addon_counts)"
   ]
  },
  {
   "cell_type": "markdown",
   "metadata": {},
   "source": [
    "As we can see, there is a substantial number of users that have no addons installed. Nearly all other users have fewer than 10 addons installed. To make the plot a bit easier to read, it's helpful to hide the long tail."
   ]
  },
  {
   "cell_type": "code",
   "execution_count": null,
   "metadata": {
    "collapsed": false,
    "scrolled": false
   },
   "outputs": [],
   "source": [
    "reasonable_addon_counts = filter(lambda (num_addons, count): num_addons < 15, addon_counts)\n",
    "plot_addon_distribution(reasonable_addon_counts)"
   ]
  },
  {
   "cell_type": "markdown",
   "metadata": {},
   "source": [
    "$\\implies$ To get an evaluation set of a decent size that's at least partly representative, it's important to include users that only have a few addons installed. One idea could be to mask half of the addons that users in the evaluation set have installed. This way, we would be able to include users that only have a few addons installed. If the number of addons is odd, we could uniformly randomly round up or down.\n",
    "\n",
    "The alternative would be to make the portion of masked addons a little bit higher or lower. This could make sense if we notice that the collaborative recommender is generally able to make much better recommendations using two addons than using one addon; or, the other way around, if we notice that it adds little value to evaluate based on a single addon."
   ]
  },
  {
   "cell_type": "code",
   "execution_count": null,
   "metadata": {
    "collapsed": false,
    "scrolled": true
   },
   "outputs": [],
   "source": [
    "num_addons, num_addons_count = addon_counts_to_proportions(addon_counts)\n",
    "num_addons_count = map(format_frequency, num_addons_count)\n",
    "\n",
    "DataFrame(\n",
    "    columns=[\"Number of addons\", \"Proportion\"],\n",
    "    data=zip(num_addons, num_addons_count)\n",
    ").head(40)"
   ]
  },
  {
   "cell_type": "markdown",
   "metadata": {},
   "source": [
    "---"
   ]
  },
  {
   "cell_type": "code",
   "execution_count": 198,
   "metadata": {
    "collapsed": true
   },
   "outputs": [],
   "source": [
    "usr = rdd_completed.filter(lambda user: len(user['disabled_addon_ids']) > 0).first()"
   ]
  },
  {
   "cell_type": "code",
   "execution_count": 199,
   "metadata": {
    "collapsed": false
   },
   "outputs": [
    {
     "data": {
      "text/plain": [
       "{'bookmark_count': 0,\n",
       " 'client_id': u'ff60062a-2d49-4d12-b7e9-c85d17996eea',\n",
       " 'disabled_addon_ids': {u'uBlock0@raymondhill.net',\n",
       "  u'{7b1bf0b6-a1b9-42b0-b75d-252036438bdc}'},\n",
       " 'geoCity': u'Herne Bay',\n",
       " 'installed_addons': [u'{C1A2A613-35F1-4FCF-B27F-2840527B6556}',\n",
       "  u'uBlock0@raymondhill.net',\n",
       "  u'{7b1bf0b6-a1b9-42b0-b75d-252036438bdc}'],\n",
       " 'locale': 'en-GB',\n",
       " 'os': u'Windows_NT',\n",
       " 'profile_age_in_weeks': 179,\n",
       " 'profile_date': u'2014-04-28T00:00:00.000Z',\n",
       " 'submission_age_in_weeks': 1,\n",
       " 'submission_date': u'2017-09-23T00:00:00.000Z',\n",
       " 'subsessionLength': 434,\n",
       " 'tab_open_count': 2,\n",
       " 'total_uri': 18,\n",
       " 'unique_tlds': 8}"
      ]
     },
     "execution_count": 199,
     "metadata": {},
     "output_type": "execute_result"
    }
   ],
   "source": [
    "usr"
   ]
  },
  {
   "cell_type": "code",
   "execution_count": 194,
   "metadata": {
    "collapsed": true
   },
   "outputs": [],
   "source": [
    "ler = LegacyRecommender()"
   ]
  },
  {
   "cell_type": "code",
   "execution_count": 200,
   "metadata": {
    "collapsed": false
   },
   "outputs": [],
   "source": [
    "client_data = usr\n",
    "limit = 10"
   ]
  },
  {
   "cell_type": "code",
   "execution_count": 204,
   "metadata": {
    "collapsed": false
   },
   "outputs": [],
   "source": [
    "a = set(ler.legacy_replacements.keys())"
   ]
  },
  {
   "cell_type": "code",
   "execution_count": 205,
   "metadata": {
    "collapsed": false
   },
   "outputs": [
    {
     "data": {
      "text/plain": [
       "set()"
      ]
     },
     "execution_count": 205,
     "metadata": {},
     "output_type": "execute_result"
    }
   ],
   "source": [
    "a.intersection(usr['disabled_addon_ids'])"
   ]
  },
  {
   "cell_type": "markdown",
   "metadata": {},
   "source": [
    "---"
   ]
  },
  {
   "cell_type": "code",
   "execution_count": 187,
   "metadata": {
    "collapsed": false
   },
   "outputs": [],
   "source": [
    "from taar.recommenders import CollaborativeRecommender, LocaleRecommender, LegacyRecommender"
   ]
  },
  {
   "cell_type": "code",
   "execution_count": 142,
   "metadata": {
    "collapsed": false
   },
   "outputs": [],
   "source": [
    "user = rdd_completed.first()"
   ]
  },
  {
   "cell_type": "code",
   "execution_count": 145,
   "metadata": {
    "collapsed": false
   },
   "outputs": [
    {
     "name": "stderr",
     "output_type": "stream",
     "text": [
      "INFO:requests.packages.urllib3.connectionpool:Starting new HTTPS connection (1): s3-us-west-2.amazonaws.com\n",
      "INFO:requests.packages.urllib3.connectionpool:Starting new HTTPS connection (1): s3-us-west-2.amazonaws.com\n"
     ]
    }
   ],
   "source": [
    "cr = CollaborativeRecommender()"
   ]
  },
  {
   "cell_type": "code",
   "execution_count": 148,
   "metadata": {
    "collapsed": false
   },
   "outputs": [
    {
     "data": {
      "text/plain": [
       "[u'uBlock0@raymondhill.net',\n",
       " u'jid1-HAV2inXAnQPIeA@jetpack',\n",
       " u'{7b1bf0b6-a1b9-42b0-b75d-252036438bdc}',\n",
       " u'firefox@browser-security.de',\n",
       " u'{E0B8C461-F8FB-49b4-8373-FE32E9252800}',\n",
       " u'jid0-GXjLLfbCoAx0LcltEdFrEkQdQPI@jetpack',\n",
       " u'{72b2e02b-3a71-4895-886c-fd12ebe36ba3}',\n",
       " u'firefox@tampermonkey.net',\n",
       " u'ffext_basicvideoext@startpage24',\n",
       " u'@emojikeyboard']"
      ]
     },
     "execution_count": 148,
     "metadata": {},
     "output_type": "execute_result"
    }
   ],
   "source": [
    "cr.recommend(user, 10)"
   ]
  },
  {
   "cell_type": "code",
   "execution_count": 149,
   "metadata": {
    "collapsed": true
   },
   "outputs": [],
   "source": [
    "client_data = user\n",
    "limit = 10"
   ]
  },
  {
   "cell_type": "code",
   "execution_count": 153,
   "metadata": {
    "collapsed": false
   },
   "outputs": [],
   "source": [
    "def java_string_hashcode(s):\n",
    "    h = 0\n",
    "    for c in s:\n",
    "        h = (31 * h + ord(c)) & 0xFFFFFFFF\n",
    "    return ((h + 0x80000000) & 0xFFFFFFFF) - 0x80000000\n",
    "\n",
    "\n",
    "def positive_hash(s):\n",
    "    return java_string_hashcode(s) & 0x7FFFFF"
   ]
  },
  {
   "cell_type": "code",
   "execution_count": 157,
   "metadata": {
    "collapsed": false
   },
   "outputs": [
    {
     "data": {
      "text/plain": [
       "[u'uBlock0@raymondhill.net',\n",
       " u'jid1-HAV2inXAnQPIeA@jetpack',\n",
       " u'{7b1bf0b6-a1b9-42b0-b75d-252036438bdc}',\n",
       " u'firefox@browser-security.de',\n",
       " u'{E0B8C461-F8FB-49b4-8373-FE32E9252800}',\n",
       " u'jid0-GXjLLfbCoAx0LcltEdFrEkQdQPI@jetpack',\n",
       " u'{72b2e02b-3a71-4895-886c-fd12ebe36ba3}',\n",
       " u'firefox@tampermonkey.net',\n",
       " u'ffext_basicvideoext@startpage24',\n",
       " u'@emojikeyboard']"
      ]
     },
     "execution_count": 157,
     "metadata": {},
     "output_type": "execute_result"
    }
   ],
   "source": [
    "import operator as op\n",
    "\n",
    "# Addons identifiers are stored as positive hash values within the model.\n",
    "installed_addons =\\\n",
    "    [positive_hash(addon_id) for addon_id in client_data.get('installed_addons', [])]\n",
    "\n",
    "# Build the query vector by setting the position of the queried addons to 1.0\n",
    "# and the other to 0.0.\n",
    "query_vector = np.array([1.0 if (entry.get(\"id\") in installed_addons) else 0.0\n",
    "                         for entry in cr.raw_item_matrix])\n",
    "\n",
    "# Build the user factors matrix.\n",
    "user_factors = np.matmul(query_vector, cr.model)\n",
    "user_factors_transposed = np.transpose(user_factors)\n",
    "\n",
    "distances = {}\n",
    "for addon in cr.raw_item_matrix:\n",
    "    # We don't really need to show the items we requested. They will always\n",
    "    # end up with the greatest score. Also filter out legacy addons from the\n",
    "    # suggestions.\n",
    "    hashed_id = str(addon.get(\"id\"))\n",
    "    if (hashed_id in installed_addons or\n",
    "            hashed_id not in cr.addon_mapping or\n",
    "            cr.addon_mapping[hashed_id].get(\"isWebextension\", False) is False):\n",
    "        continue\n",
    "\n",
    "    dist = np.dot(user_factors_transposed, addon.get('features'))\n",
    "    # Read the addon ids from the \"addon_mapping\" looking it\n",
    "    # up by 'id' (which is an hashed value).\n",
    "    addon_id = cr.addon_mapping[hashed_id].get(\"id\")\n",
    "    distances[addon_id] = dist\n",
    "\n",
    "# Sort the suggested addons by their score and return the sorted list of addon\n",
    "# ids.\n",
    "sorted_dists = sorted(distances.items(), key=op.itemgetter(1), reverse=True)\n",
    "[s[0] for s in sorted_dists[:limit]]"
   ]
  },
  {
   "cell_type": "code",
   "execution_count": 161,
   "metadata": {
    "collapsed": false
   },
   "outputs": [],
   "source": [
    "addon_ids, scores = zip(*sorted_dists)"
   ]
  },
  {
   "cell_type": "code",
   "execution_count": 162,
   "metadata": {
    "collapsed": false
   },
   "outputs": [
    {
     "data": {
      "text/plain": [
       "[<matplotlib.lines.Line2D at 0x7fa1e6925f10>]"
      ]
     },
     "execution_count": 162,
     "metadata": {},
     "output_type": "execute_result"
    },
    {
     "data": {
      "image/png": "[encoded data removed]",
      "text/plain": [
       "<matplotlib.figure.Figure at 0x7fa1eb8a5e90>"
      ]
     },
     "metadata": {},
     "output_type": "display_data"
    }
   ],
   "source": [
    "plt.plot(scores)"
   ]
  },
  {
   "cell_type": "code",
   "execution_count": 185,
   "metadata": {
    "collapsed": false,
    "scrolled": false
   },
   "outputs": [
    {
     "data": {
      "text/plain": [
       "[<matplotlib.lines.Line2D at 0x7fa1e98a8810>]"
      ]
     },
     "execution_count": 185,
     "metadata": {},
     "output_type": "execute_result"
    },
    {
     "data": {
      "image/png": "[encoded data removed]",
      "text/plain": [
       "<matplotlib.figure.Figure at 0x7fa1eadb6490>"
      ]
     },
     "metadata": {},
     "output_type": "display_data"
    }
   ],
   "source": [
    "plt.plot(np.log2(scores))"
   ]
  },
  {
   "cell_type": "code",
   "execution_count": 188,
   "metadata": {
    "collapsed": true
   },
   "outputs": [],
   "source": [
    "lor = LocaleRecommender()"
   ]
  },
  {
   "cell_type": "code",
   "execution_count": 189,
   "metadata": {
    "collapsed": false,
    "scrolled": true
   },
   "outputs": [
    {
     "data": {
      "text/plain": [
       "{u'ar': [u'mozilla_cc2@internetdownloadmanager.com',\n",
       "  u'{d10d0bf8-f5b5-c8b4-a8b2-2b9879e08c5d}',\n",
       "  u'wrc@avast.com',\n",
       "  u'sp@avast.com',\n",
       "  u'{82AF8DCA-6DE9-405D-BD5E-43525BDAD38A}',\n",
       "  u'{4ED1F68A-5463-4931-9384-8FFF5ED91D92}',\n",
       "  u'helper-sig@savefrom.net',\n",
       "  u'{de71f09a-3342-48c5-95c1-4b0f17567554}',\n",
       "  u'light_plugin_ACF0E80077C511E59DED005056C00008@kaspersky.com'],\n",
       " u'bg': [u'{d10d0bf8-f5b5-c8b4-a8b2-2b9879e08c5d}',\n",
       "  u'wrc@avast.com',\n",
       "  u'{82AF8DCA-6DE9-405D-BD5E-43525BDAD38A}',\n",
       "  u'jid1-AXn9cXcB4fD1QQ@jetpack',\n",
       "  u'{b9db16a4-6edc-47ec-a1f4-b86292ed211d}',\n",
       "  u'jid1-FkPKYIvh3ElkQO@jetpack',\n",
       "  u'uBlock0@raymondhill.net',\n",
       "  u'sp@avast.com',\n",
       "  u'abvnotifier@netinfo.bg'],\n",
       " u'bs': [u'{d10d0bf8-f5b5-c8b4-a8b2-2b9879e08c5d}',\n",
       "  u'ubufox@ubuntu.com',\n",
       "  u'wrc@avast.com',\n",
       "  u'{82AF8DCA-6DE9-405D-BD5E-43525BDAD38A}',\n",
       "  u'uBlock0@raymondhill.net',\n",
       "  u'{e4a8a97b-f2ed-450b-b12d-ee082ba24781}',\n",
       "  u'light_plugin_ACF0E80077C511E59DED005056C00008@kaspersky.com',\n",
       "  u'{b9bfaf1c-a63f-47cd-8b9a-29526ced9060}',\n",
       "  u'sp@avast.com'],\n",
       " u'ca': [u'ubufox@ubuntu.com',\n",
       "  u'{d10d0bf8-f5b5-c8b4-a8b2-2b9879e08c5d}',\n",
       "  u'{b9db16a4-6edc-47ec-a1f4-b86292ed211d}',\n",
       "  u'wrc@avast.com',\n",
       "  u'firefox@mega.co.nz',\n",
       "  u'{4ED1F68A-5463-4931-9384-8FFF5ED91D92}',\n",
       "  u'sp@avast.com',\n",
       "  u'firebug@software.joehewitt.com',\n",
       "  u'light_plugin_F6F079488B53499DB99380A7E11A93F6@kaspersky.com'],\n",
       " u'ca-valencia': [u'ubufox@ubuntu.com'],\n",
       " u'cs': [u'{d10d0bf8-f5b5-c8b4-a8b2-2b9879e08c5d}',\n",
       "  u'{ea614400-e918-4741-9a97-7a972ff7c30b}',\n",
       "  u'wrc@avast.com',\n",
       "  u'sp@avast.com',\n",
       "  u'ubufox@ubuntu.com',\n",
       "  u'{4ED1F68A-5463-4931-9384-8FFF5ED91D92}',\n",
       "  u'{b9db16a4-6edc-47ec-a1f4-b86292ed211d}',\n",
       "  u'uBlock0@raymondhill.net',\n",
       "  u'{82AF8DCA-6DE9-405D-BD5E-43525BDAD38A}'],\n",
       " u'da': [u'{d10d0bf8-f5b5-c8b4-a8b2-2b9879e08c5d}',\n",
       "  u'{4ED1F68A-5463-4931-9384-8FFF5ED91D92}',\n",
       "  u'ubufox@ubuntu.com',\n",
       "  u'wrc@avast.com',\n",
       "  u'uBlock0@raymondhill.net',\n",
       "  u'ols@f-secure.com',\n",
       "  u'{b9db16a4-6edc-47ec-a1f4-b86292ed211d}',\n",
       "  u'{C1A2A613-35F1-4FCF-B27F-2840527B6556}',\n",
       "  u'jid1-4P0kohSJxU1qGg@jetpack'],\n",
       " u'de': [u'{d10d0bf8-f5b5-c8b4-a8b2-2b9879e08c5d}',\n",
       "  u'abs@avira.com',\n",
       "  u'light_plugin_F6F079488B53499DB99380A7E11A93F6@kaspersky.com',\n",
       "  u'{b9db16a4-6edc-47ec-a1f4-b86292ed211d}',\n",
       "  u'{4ED1F68A-5463-4931-9384-8FFF5ED91D92}',\n",
       "  u'uBlock0@raymondhill.net',\n",
       "  u'ubufox@ubuntu.com',\n",
       "  u'light_plugin_ACF0E80077C511E59DED005056C00008@kaspersky.com',\n",
       "  u'wrc@avast.com'],\n",
       " u'el': [u'{d10d0bf8-f5b5-c8b4-a8b2-2b9879e08c5d}',\n",
       "  u'wrc@avast.com',\n",
       "  u'{b9db16a4-6edc-47ec-a1f4-b86292ed211d}',\n",
       "  u'{82AF8DCA-6DE9-405D-BD5E-43525BDAD38A}',\n",
       "  u'ubufox@ubuntu.com',\n",
       "  u'{4ED1F68A-5463-4931-9384-8FFF5ED91D92}',\n",
       "  u'uBlock0@raymondhill.net',\n",
       "  u'sp@avast.com',\n",
       "  u'avg@toolbar'],\n",
       " u'en-GB': [u'{d10d0bf8-f5b5-c8b4-a8b2-2b9879e08c5d}',\n",
       "  u'{4ED1F68A-5463-4931-9384-8FFF5ED91D92}',\n",
       "  u'ubufox@ubuntu.com',\n",
       "  u'uBlock0@raymondhill.net',\n",
       "  u'{b9db16a4-6edc-47ec-a1f4-b86292ed211d}',\n",
       "  u'wrc@avast.com',\n",
       "  u'firebug@software.joehewitt.com',\n",
       "  u'light_plugin_F6F079488B53499DB99380A7E11A93F6@kaspersky.com',\n",
       "  u'{C1A2A613-35F1-4FCF-B27F-2840527B6556}'],\n",
       " u'en-US': [u'{d10d0bf8-f5b5-c8b4-a8b2-2b9879e08c5d}',\n",
       "  u'ubufox@ubuntu.com',\n",
       "  u'{4ED1F68A-5463-4931-9384-8FFF5ED91D92}',\n",
       "  u'mozilla_cc2@internetdownloadmanager.com',\n",
       "  u'{b9db16a4-6edc-47ec-a1f4-b86292ed211d}',\n",
       "  u'uBlock0@raymondhill.net',\n",
       "  u'wrc@avast.com',\n",
       "  u'partnerdefaults@mozilla.com',\n",
       "  u'firebug@software.joehewitt.com'],\n",
       " u'en-ZA': [u'ubufox@ubuntu.com',\n",
       "  u'{d10d0bf8-f5b5-c8b4-a8b2-2b9879e08c5d}',\n",
       "  u'{b9db16a4-6edc-47ec-a1f4-b86292ed211d}',\n",
       "  u'wrc@avast.com',\n",
       "  u'uBlock0@raymondhill.net',\n",
       "  u'{b9bfaf1c-a63f-47cd-8b9a-29526ced9060}',\n",
       "  u'{DDC359D1-844A-42a7-9AA1-88A850A938A8}',\n",
       "  u'mozilla_cc2@internetdownloadmanager.com',\n",
       "  u'{82AF8DCA-6DE9-405D-BD5E-43525BDAD38A}'],\n",
       " u'es-AR': [u'{d10d0bf8-f5b5-c8b4-a8b2-2b9879e08c5d}',\n",
       "  u'ubufox@ubuntu.com',\n",
       "  u'wrc@avast.com',\n",
       "  u'firefox@mega.co.nz',\n",
       "  u'{b9db16a4-6edc-47ec-a1f4-b86292ed211d}',\n",
       "  u'sp@avast.com',\n",
       "  u'uBlock0@raymondhill.net',\n",
       "  u'{82AF8DCA-6DE9-405D-BD5E-43525BDAD38A}',\n",
       "  u'avg@toolbar'],\n",
       " u'es-CL': [u'{d10d0bf8-f5b5-c8b4-a8b2-2b9879e08c5d}',\n",
       "  u'ubufox@ubuntu.com',\n",
       "  u'firefox@mega.co.nz',\n",
       "  u'wrc@avast.com',\n",
       "  u'{b9db16a4-6edc-47ec-a1f4-b86292ed211d}',\n",
       "  u'{4ED1F68A-5463-4931-9384-8FFF5ED91D92}',\n",
       "  u'sp@avast.com',\n",
       "  u'uBlock0@raymondhill.net',\n",
       "  u'{82AF8DCA-6DE9-405D-BD5E-43525BDAD38A}'],\n",
       " u'es-ES': [u'{d10d0bf8-f5b5-c8b4-a8b2-2b9879e08c5d}',\n",
       "  u'{b9db16a4-6edc-47ec-a1f4-b86292ed211d}',\n",
       "  u'firefox@mega.co.nz',\n",
       "  u'wrc@avast.com',\n",
       "  u'ubufox@ubuntu.com',\n",
       "  u'{4ED1F68A-5463-4931-9384-8FFF5ED91D92}',\n",
       "  u'sp@avast.com',\n",
       "  u'{82AF8DCA-6DE9-405D-BD5E-43525BDAD38A}',\n",
       "  u'uBlock0@raymondhill.net'],\n",
       " u'es-MX': [u'{d10d0bf8-f5b5-c8b4-a8b2-2b9879e08c5d}',\n",
       "  u'firefox@mega.co.nz',\n",
       "  u'ubufox@ubuntu.com',\n",
       "  u'{b9db16a4-6edc-47ec-a1f4-b86292ed211d}',\n",
       "  u'{4ED1F68A-5463-4931-9384-8FFF5ED91D92}',\n",
       "  u'wrc@avast.com',\n",
       "  u'{82AF8DCA-6DE9-405D-BD5E-43525BDAD38A}',\n",
       "  u'sp@avast.com',\n",
       "  u'light_plugin_ACF0E80077C511E59DED005056C00008@kaspersky.com'],\n",
       " u'et': [u'{aa84ce40-4253-a00a-8cd6-0800200f9a67}',\n",
       "  u'{d10d0bf8-f5b5-c8b4-a8b2-2b9879e08c5d}',\n",
       "  u'{443830f0-1fff-4f9a-aa1e-444bafbc7319}',\n",
       "  u'ubufox@ubuntu.com',\n",
       "  u'wrc@avast.com',\n",
       "  u'uBlock0@raymondhill.net',\n",
       "  u'{82AF8DCA-6DE9-405D-BD5E-43525BDAD38A}',\n",
       "  u'{4ED1F68A-5463-4931-9384-8FFF5ED91D92}',\n",
       "  u'ols@f-secure.com'],\n",
       " u'eu': [u'ubufox@ubuntu.com',\n",
       "  u'euskalbar@interneteuskadi.org',\n",
       "  u'{b9db16a4-6edc-47ec-a1f4-b86292ed211d}',\n",
       "  u'{d10d0bf8-f5b5-c8b4-a8b2-2b9879e08c5d}',\n",
       "  u'adbhelper@mozilla.org',\n",
       "  u'light_plugin_F6F079488B53499DB99380A7E11A93F6@kaspersky.com',\n",
       "  u'fxdevtools-adapters@mozilla.org',\n",
       "  u'wrc@avast.com',\n",
       "  u'{4ED1F68A-5463-4931-9384-8FFF5ED91D92}'],\n",
       " u'fa': [u'mozilla_cc2@internetdownloadmanager.com',\n",
       "  u'yasearch@yandex.ru',\n",
       "  u'vb@yandex.ru',\n",
       "  u'{d10d0bf8-f5b5-c8b4-a8b2-2b9879e08c5d}',\n",
       "  u'abs@avira.com',\n",
       "  u'{b9db16a4-6edc-47ec-a1f4-b86292ed211d}',\n",
       "  u'hotspot-shield@anchorfree.com',\n",
       "  u'{b9bfaf1c-a63f-47cd-8b9a-29526ced9060}',\n",
       "  u'sovetnik@metabar.ru'],\n",
       " u'fi': [u'ols@f-secure.com',\n",
       "  u'{d10d0bf8-f5b5-c8b4-a8b2-2b9879e08c5d}',\n",
       "  u'ubufox@ubuntu.com',\n",
       "  u'wrc@avast.com',\n",
       "  u'safesearch@f-secure.com',\n",
       "  u'{4ED1F68A-5463-4931-9384-8FFF5ED91D92}',\n",
       "  u'firebug@software.joehewitt.com',\n",
       "  u'sp@avast.com',\n",
       "  u'uBlock0@raymondhill.net'],\n",
       " u'fr': [u'{d10d0bf8-f5b5-c8b4-a8b2-2b9879e08c5d}',\n",
       "  u'wrc@avast.com',\n",
       "  u'{b9db16a4-6edc-47ec-a1f4-b86292ed211d}',\n",
       "  u'ubufox@ubuntu.com',\n",
       "  u'sp@avast.com',\n",
       "  u'{4ED1F68A-5463-4931-9384-8FFF5ED91D92}',\n",
       "  u'uBlock0@raymondhill.net',\n",
       "  u'light_plugin_F6F079488B53499DB99380A7E11A93F6@kaspersky.com',\n",
       "  u'mozilla_cc2@internetdownloadmanager.com'],\n",
       " u'gl': [u'ubufox@ubuntu.com',\n",
       "  u'{d10d0bf8-f5b5-c8b4-a8b2-2b9879e08c5d}',\n",
       "  u'{b9db16a4-6edc-47ec-a1f4-b86292ed211d}',\n",
       "  u'firefox@mega.co.nz',\n",
       "  u'{338e0b96-2285-4424-b4c8-e25560750fa3}',\n",
       "  u'wrc@avast.com',\n",
       "  u'firefox@ghostery.com',\n",
       "  u'{1018e4d6-728f-4b20-ad56-37578a4de76b}',\n",
       "  u'abs@avira.com'],\n",
       " u'he': [u'{d10d0bf8-f5b5-c8b4-a8b2-2b9879e08c5d}',\n",
       "  u'{4ED1F68A-5463-4931-9384-8FFF5ED91D92}',\n",
       "  u'{b9db16a4-6edc-47ec-a1f4-b86292ed211d}',\n",
       "  u'wrc@avast.com',\n",
       "  u'firefox@mega.co.nz',\n",
       "  u'{82AF8DCA-6DE9-405D-BD5E-43525BDAD38A}',\n",
       "  u'avg@toolbar',\n",
       "  u'uBlock0@raymondhill.net',\n",
       "  u'abs@avira.com'],\n",
       " u'hr': [u'{d10d0bf8-f5b5-c8b4-a8b2-2b9879e08c5d}',\n",
       "  u'wrc@avast.com',\n",
       "  u'{82AF8DCA-6DE9-405D-BD5E-43525BDAD38A}',\n",
       "  u'{b9db16a4-6edc-47ec-a1f4-b86292ed211d}',\n",
       "  u'sp@avast.com',\n",
       "  u'uBlock0@raymondhill.net',\n",
       "  u'{e4a8a97b-f2ed-450b-b12d-ee082ba24781}',\n",
       "  u'abs@avira.com',\n",
       "  u'ubufox@ubuntu.com'],\n",
       " u'hu': [u'{d10d0bf8-f5b5-c8b4-a8b2-2b9879e08c5d}',\n",
       "  u'{b9db16a4-6edc-47ec-a1f4-b86292ed211d}',\n",
       "  u'wrc@avast.com',\n",
       "  u'uBlock0@raymondhill.net',\n",
       "  u'ubufox@ubuntu.com',\n",
       "  u'npebank2@kh.hu',\n",
       "  u'firefox@mega.co.nz',\n",
       "  u'sp@avast.com',\n",
       "  u'{82AF8DCA-6DE9-405D-BD5E-43525BDAD38A}'],\n",
       " u'id': [u'mozilla_cc2@internetdownloadmanager.com',\n",
       "  u'{d10d0bf8-f5b5-c8b4-a8b2-2b9879e08c5d}',\n",
       "  u'client@anonymox.net',\n",
       "  u'helper-sig@savefrom.net',\n",
       "  u'wrc@avast.com',\n",
       "  u'{de71f09a-3342-48c5-95c1-4b0f17567554}',\n",
       "  u'{b9db16a4-6edc-47ec-a1f4-b86292ed211d}',\n",
       "  u'{b9bfaf1c-a63f-47cd-8b9a-29526ced9060}',\n",
       "  u'_ceMembers_@free.easypdfcombine.com'],\n",
       " u'is': [u'{4ED1F68A-5463-4931-9384-8FFF5ED91D92}',\n",
       "  u'{d10d0bf8-f5b5-c8b4-a8b2-2b9879e08c5d}',\n",
       "  u'wrc@avast.com',\n",
       "  u'ubufox@ubuntu.com',\n",
       "  u'jid1-4P0kohSJxU1qGg@jetpack',\n",
       "  u'firefox@zenmate.com',\n",
       "  u'{82AF8DCA-6DE9-405D-BD5E-43525BDAD38A}',\n",
       "  u'{b9db16a4-6edc-47ec-a1f4-b86292ed211d}',\n",
       "  u'_65Members_@download.fromdoctopdf.com'],\n",
       " u'it': [u'{d10d0bf8-f5b5-c8b4-a8b2-2b9879e08c5d}',\n",
       "  u'{b9db16a4-6edc-47ec-a1f4-b86292ed211d}',\n",
       "  u'ubufox@ubuntu.com',\n",
       "  u'wrc@avast.com',\n",
       "  u'abs@avira.com',\n",
       "  u'light_plugin_F6F079488B53499DB99380A7E11A93F6@kaspersky.com',\n",
       "  u'light_plugin_ACF0E80077C511E59DED005056C00008@kaspersky.com',\n",
       "  u'{4ED1F68A-5463-4931-9384-8FFF5ED91D92}',\n",
       "  u'uBlock0@raymondhill.net'],\n",
       " u'ja': [u'{b9db16a4-6edc-47ec-a1f4-b86292ed211d}',\n",
       "  u'{d10d0bf8-f5b5-c8b4-a8b2-2b9879e08c5d}',\n",
       "  u'{4ED1F68A-5463-4931-9384-8FFF5ED91D92}',\n",
       "  u'firegestures@xuldev.org',\n",
       "  u'{dc572301-7619-498c-a57d-39143191b318}',\n",
       "  u'ubufox@ubuntu.com',\n",
       "  u'{C1A2A613-35F1-4FCF-B27F-2840527B6556}',\n",
       "  u'{DDC359D1-844A-42a7-9AA1-88A850A938A8}',\n",
       "  u'firebug@software.joehewitt.com'],\n",
       " u'ja-JP-mac': [u'{b9db16a4-6edc-47ec-a1f4-b86292ed211d}',\n",
       "  u'{d10d0bf8-f5b5-c8b4-a8b2-2b9879e08c5d}',\n",
       "  u'firebug@software.joehewitt.com',\n",
       "  u'{E0B8C461-F8FB-49b4-8373-FE32E9252800}',\n",
       "  u'{c151d79e-e61b-4a90-a887-5a46d38fba99}',\n",
       "  u'{DDC359D1-844A-42a7-9AA1-88A850A938A8}',\n",
       "  u'{8b5bea8c-6194-4c7c-a440-d5ca181480c3}',\n",
       "  u'{b9bfaf1c-a63f-47cd-8b9a-29526ced9060}',\n",
       "  u'firegestures@xuldev.org'],\n",
       " u'ko': [u'{d10d0bf8-f5b5-c8b4-a8b2-2b9879e08c5d}',\n",
       "  u'{b9db16a4-6edc-47ec-a1f4-b86292ed211d}',\n",
       "  u'ubufox@ubuntu.com',\n",
       "  u'uBlock0@raymondhill.net',\n",
       "  u'firebug@software.joehewitt.com',\n",
       "  u'firefox@zenmate.com',\n",
       "  u'{cd617375-6743-4ee8-bac4-fbf10f35729e}',\n",
       "  u'{b9bfaf1c-a63f-47cd-8b9a-29526ced9060}',\n",
       "  u'{e4a8a97b-f2ed-450b-b12d-ee082ba24781}'],\n",
       " u'lt': [u'{d10d0bf8-f5b5-c8b4-a8b2-2b9879e08c5d}',\n",
       "  u'wrc@avast.com',\n",
       "  u'{82AF8DCA-6DE9-405D-BD5E-43525BDAD38A}',\n",
       "  u'acewebextension_unlisted@acestream.org',\n",
       "  u'sovetnik@metabar.ru',\n",
       "  u'sp@avast.com',\n",
       "  u'{4ED1F68A-5463-4931-9384-8FFF5ED91D92}',\n",
       "  u'avg@toolbar',\n",
       "  u'ubufox@ubuntu.com'],\n",
       " u'lv': [u'{d10d0bf8-f5b5-c8b4-a8b2-2b9879e08c5d}',\n",
       "  u'ubufox@ubuntu.com',\n",
       "  u'wrc@avast.com',\n",
       "  u'{82AF8DCA-6DE9-405D-BD5E-43525BDAD38A}',\n",
       "  u'light_plugin_ACF0E80077C511E59DED005056C00008@kaspersky.com',\n",
       "  u'{b9db16a4-6edc-47ec-a1f4-b86292ed211d}',\n",
       "  u'sovetnik@metabar.ru',\n",
       "  u'avg@toolbar',\n",
       "  u'vb@yandex.ru'],\n",
       " u'mk': [u'{d10d0bf8-f5b5-c8b4-a8b2-2b9879e08c5d}',\n",
       "  u'{82AF8DCA-6DE9-405D-BD5E-43525BDAD38A}',\n",
       "  u'wrc@avast.com',\n",
       "  u'ubufox@ubuntu.com',\n",
       "  u'info@youtube-mp3.org',\n",
       "  u'{b9db16a4-6edc-47ec-a1f4-b86292ed211d}',\n",
       "  u'translator@zoli.bod',\n",
       "  u'firefox@mega.co.nz',\n",
       "  u'avg@toolbar'],\n",
       " u'nb-NO': [u'{d10d0bf8-f5b5-c8b4-a8b2-2b9879e08c5d}',\n",
       "  u'{4ED1F68A-5463-4931-9384-8FFF5ED91D92}',\n",
       "  u'{82AF8DCA-6DE9-405D-BD5E-43525BDAD38A}',\n",
       "  u'{C1A2A613-35F1-4FCF-B27F-2840527B6556}',\n",
       "  u'ols@f-secure.com',\n",
       "  u'wrc@avast.com',\n",
       "  u'avg@toolbar',\n",
       "  u'ubufox@ubuntu.com',\n",
       "  u'jid1-4P0kohSJxU1qGg@jetpack'],\n",
       " u'nl': [u'{d10d0bf8-f5b5-c8b4-a8b2-2b9879e08c5d}',\n",
       "  u'belgiumeid@eid.belgium.be',\n",
       "  u'{4ED1F68A-5463-4931-9384-8FFF5ED91D92}',\n",
       "  u'uBlock0@raymondhill.net',\n",
       "  u'ols@f-secure.com',\n",
       "  u'{b9db16a4-6edc-47ec-a1f4-b86292ed211d}',\n",
       "  u'ubufox@ubuntu.com',\n",
       "  u'{C1A2A613-35F1-4FCF-B27F-2840527B6556}',\n",
       "  u'wrc@avast.com'],\n",
       " u'nn-NO': [u'{d10d0bf8-f5b5-c8b4-a8b2-2b9879e08c5d}',\n",
       "  u'{4ED1F68A-5463-4931-9384-8FFF5ED91D92}',\n",
       "  u'{C1A2A613-35F1-4FCF-B27F-2840527B6556}',\n",
       "  u'idsafe@norton.com',\n",
       "  u'{b9db16a4-6edc-47ec-a1f4-b86292ed211d}',\n",
       "  u'ubufox@ubuntu.com',\n",
       "  u'YoutubeDownloader@PeterOlayev.com',\n",
       "  u'jid1-4P0kohSJxU1qGg@jetpack',\n",
       "  u'uBlock0@raymondhill.net'],\n",
       " u'pl': [u'{d10d0bf8-f5b5-c8b4-a8b2-2b9879e08c5d}',\n",
       "  u'firefox@browser-security.de',\n",
       "  u'{4ED1F68A-5463-4931-9384-8FFF5ED91D92}',\n",
       "  u'wrc@avast.com',\n",
       "  u'uBlock0@raymondhill.net',\n",
       "  u'{b9db16a4-6edc-47ec-a1f4-b86292ed211d}',\n",
       "  u'light_plugin_ACF0E80077C511E59DED005056C00008@kaspersky.com',\n",
       "  u'sp@avast.com',\n",
       "  u'ubufox@ubuntu.com'],\n",
       " u'pt-BR': [u'ubufox@ubuntu.com',\n",
       "  u'{d10d0bf8-f5b5-c8b4-a8b2-2b9879e08c5d}',\n",
       "  u'wrc@avast.com',\n",
       "  u'{b9db16a4-6edc-47ec-a1f4-b86292ed211d}',\n",
       "  u'sp@avast.com',\n",
       "  u'{4ED1F68A-5463-4931-9384-8FFF5ED91D92}',\n",
       "  u'{82AF8DCA-6DE9-405D-BD5E-43525BDAD38A}',\n",
       "  u'firefox@mega.co.nz',\n",
       "  u'light_plugin_F6F079488B53499DB99380A7E11A93F6@kaspersky.com'],\n",
       " u'pt-PT': [u'{d10d0bf8-f5b5-c8b4-a8b2-2b9879e08c5d}',\n",
       "  u'{4ED1F68A-5463-4931-9384-8FFF5ED91D92}',\n",
       "  u'ubufox@ubuntu.com',\n",
       "  u'wrc@avast.com',\n",
       "  u'{b9db16a4-6edc-47ec-a1f4-b86292ed211d}',\n",
       "  u'{e4a8a97b-f2ed-450b-b12d-ee082ba24781}',\n",
       "  u'light_plugin_F6F079488B53499DB99380A7E11A93F6@kaspersky.com',\n",
       "  u'light_plugin_ACF0E80077C511E59DED005056C00008@kaspersky.com',\n",
       "  u'firefox@mega.co.nz'],\n",
       " u'ro': [u'{d10d0bf8-f5b5-c8b4-a8b2-2b9879e08c5d}',\n",
       "  u'wrc@avast.com',\n",
       "  u'{b9db16a4-6edc-47ec-a1f4-b86292ed211d}',\n",
       "  u'{82AF8DCA-6DE9-405D-BD5E-43525BDAD38A}',\n",
       "  u'{de71f09a-3342-48c5-95c1-4b0f17567554}',\n",
       "  u'abs@avira.com',\n",
       "  u'uBlock0@raymondhill.net',\n",
       "  u'{4ED1F68A-5463-4931-9384-8FFF5ED91D92}',\n",
       "  u'support@pricerocket.net'],\n",
       " u'ru': [u'vb@yandex.ru',\n",
       "  u'sovetnik@metabar.ru',\n",
       "  u'{d10d0bf8-f5b5-c8b4-a8b2-2b9879e08c5d}',\n",
       "  u'yasearch@yandex.ru',\n",
       "  u'helper-sig@savefrom.net',\n",
       "  u'light_plugin_F6F079488B53499DB99380A7E11A93F6@kaspersky.com',\n",
       "  u'wrc@avast.com',\n",
       "  u'homeutil@yandex.ru',\n",
       "  u'{b9db16a4-6edc-47ec-a1f4-b86292ed211d}'],\n",
       " u'sk': [u'{d10d0bf8-f5b5-c8b4-a8b2-2b9879e08c5d}',\n",
       "  u'wrc@avast.com',\n",
       "  u'{82AF8DCA-6DE9-405D-BD5E-43525BDAD38A}',\n",
       "  u'{4ED1F68A-5463-4931-9384-8FFF5ED91D92}',\n",
       "  u'{b9db16a4-6edc-47ec-a1f4-b86292ed211d}',\n",
       "  u'sp@avast.com',\n",
       "  u'ubufox@ubuntu.com',\n",
       "  u'uBlock0@raymondhill.net',\n",
       "  u'adbhelper@mozilla.org'],\n",
       " u'sl': [u'{d10d0bf8-f5b5-c8b4-a8b2-2b9879e08c5d}',\n",
       "  u'wrc@avast.com',\n",
       "  u'uBlock0@raymondhill.net',\n",
       "  u'{82AF8DCA-6DE9-405D-BD5E-43525BDAD38A}',\n",
       "  u'sp@avast.com',\n",
       "  u'ubufox@ubuntu.com',\n",
       "  u'{4ED1F68A-5463-4931-9384-8FFF5ED91D92}',\n",
       "  u'{b9db16a4-6edc-47ec-a1f4-b86292ed211d}',\n",
       "  u'avg@toolbar'],\n",
       " u'sr': [u'{d10d0bf8-f5b5-c8b4-a8b2-2b9879e08c5d}',\n",
       "  u'wrc@avast.com',\n",
       "  u'{e4a8a97b-f2ed-450b-b12d-ee082ba24781}',\n",
       "  u'{82AF8DCA-6DE9-405D-BD5E-43525BDAD38A}',\n",
       "  u'{b9db16a4-6edc-47ec-a1f4-b86292ed211d}',\n",
       "  u'uBlock0@raymondhill.net',\n",
       "  u'abs@avira.com',\n",
       "  u'sp@avast.com',\n",
       "  u'avg@toolbar'],\n",
       " u'sv-SE': [u'{d10d0bf8-f5b5-c8b4-a8b2-2b9879e08c5d}',\n",
       "  u'{4ED1F68A-5463-4931-9384-8FFF5ED91D92}',\n",
       "  u'ols@f-secure.com',\n",
       "  u'uBlock0@raymondhill.net',\n",
       "  u'wrc@avast.com',\n",
       "  u'{C1A2A613-35F1-4FCF-B27F-2840527B6556}',\n",
       "  u'ubufox@ubuntu.com',\n",
       "  u'{b9db16a4-6edc-47ec-a1f4-b86292ed211d}',\n",
       "  u'{82AF8DCA-6DE9-405D-BD5E-43525BDAD38A}'],\n",
       " u'th': [u'mozilla_cc2@internetdownloadmanager.com',\n",
       "  u'{b9db16a4-6edc-47ec-a1f4-b86292ed211d}',\n",
       "  u'{d10d0bf8-f5b5-c8b4-a8b2-2b9879e08c5d}',\n",
       "  u'{b9bfaf1c-a63f-47cd-8b9a-29526ced9060}',\n",
       "  u'feca4b87-3be4-43da-a1b1-137c24220968@jetpack',\n",
       "  u'{66E978CD-981F-47DF-AC42-E3CF417C1467}',\n",
       "  u'firefox@mega.co.nz',\n",
       "  u'YoutubeDownloader@PeterOlayev.com',\n",
       "  u'abs@avira.com'],\n",
       " u'tr': [u'vb@yandex.ru',\n",
       "  u'{b9db16a4-6edc-47ec-a1f4-b86292ed211d}',\n",
       "  u'{d10d0bf8-f5b5-c8b4-a8b2-2b9879e08c5d}',\n",
       "  u'yasearch@yandex.ru',\n",
       "  u'mozilla_cc2@internetdownloadmanager.com',\n",
       "  u'{4ED1F68A-5463-4931-9384-8FFF5ED91D92}',\n",
       "  u'{82AF8DCA-6DE9-405D-BD5E-43525BDAD38A}',\n",
       "  u'firefox@zenmate.com',\n",
       "  u'helper-sig@savefrom.net'],\n",
       " u'uk': [u'vb@yandex.ru',\n",
       "  u'{d10d0bf8-f5b5-c8b4-a8b2-2b9879e08c5d}',\n",
       "  u'yasearch@yandex.ru',\n",
       "  u'sovetnik@metabar.ru',\n",
       "  u'helper-sig@savefrom.net',\n",
       "  u'wrc@avast.com',\n",
       "  u'uBlock0@raymondhill.net',\n",
       "  u'ubufox@ubuntu.com',\n",
       "  u'sp@avast.com'],\n",
       " u'vi': [u'light_plugin_ACF0E80077C511E59DED005056C00008@kaspersky.com',\n",
       "  u'mozilla_cc2@internetdownloadmanager.com',\n",
       "  u'bkavplugin@bkav',\n",
       "  u'{d10d0bf8-f5b5-c8b4-a8b2-2b9879e08c5d}',\n",
       "  u'{82AF8DCA-6DE9-405D-BD5E-43525BDAD38A}',\n",
       "  u'light_plugin_D772DC8D6FAF43A29B25C4EBAA5AD1DE@kaspersky.com',\n",
       "  u'firebug@software.joehewitt.com',\n",
       "  u'wrc@avast.com',\n",
       "  u'abs@avira.com'],\n",
       " u'zh-CN': [u'easyscreenshot@mozillaonline.com',\n",
       "  u'cpmanager@mozillaonline.com',\n",
       "  u'cehomepage@mozillaonline.com',\n",
       "  u'tabtweak@mozillaonline.com',\n",
       "  u'coba@mozilla.com.cn',\n",
       "  u'quicklaunch@mozillaonline.com',\n",
       "  u'xthunder@lshai.com',\n",
       "  u'firebug@software.joehewitt.com',\n",
       "  u'livemargins@mozillaonline.com'],\n",
       " u'zh-TW': [u'{b9db16a4-6edc-47ec-a1f4-b86292ed211d}',\n",
       "  u'{d10d0bf8-f5b5-c8b4-a8b2-2b9879e08c5d}',\n",
       "  u'firefox@mega.co.nz',\n",
       "  u'easyscreenshot@mozillaonline.com',\n",
       "  u'{4ED1F68A-5463-4931-9384-8FFF5ED91D92}',\n",
       "  u'quicklaunch@mozillaonline.com',\n",
       "  u'jid1-16aeif9OQIRKxA@jetpack',\n",
       "  u'{b9bfaf1c-a63f-47cd-8b9a-29526ced9060}',\n",
       "  u'{455D905A-D37C-4643-A9E2-F6FEFAA0424A}']}"
      ]
     },
     "execution_count": 189,
     "metadata": {},
     "output_type": "execute_result"
    }
   ],
   "source": [
    "lor.top_addons_per_locale"
   ]
  },
  {
   "cell_type": "code",
   "execution_count": null,
   "metadata": {
    "collapsed": true
   },
   "outputs": [],
   "source": []
  }
 ],
 "metadata": {
  "anaconda-cloud": {},
  "kernelspec": {
   "display_name": "Python [default]",
   "language": "python",
   "name": "python2"
  },
  "language_info": {
   "codemirror_mode": {
    "name": "ipython",
    "version": 2
   },
   "file_extension": ".py",
   "mimetype": "text/x-python",
   "name": "python",
   "nbconvert_exporter": "python",
   "pygments_lexer": "ipython2",
   "version": "2.7.12"
  },
  "notify_time": "10",
  "toc": {
   "nav_menu": {},
   "number_sections": false,
   "sideBar": true,
   "skip_h1_title": false,
   "toc_cell": false,
   "toc_position": {},
   "toc_section_display": "block",
   "toc_window_display": true
  }
 },
 "nbformat": 4,
 "nbformat_minor": 1
}
