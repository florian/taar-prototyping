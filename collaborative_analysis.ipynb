{
 "cells": [
  {
   "cell_type": "markdown",
   "metadata": {},
   "source": [
    "# TAAR – Analysing the collaborative filter\n",
    "\n",
    "The following is an analysis on how often the collaborative filter is able to make recommendations. Because the resulting number seems too low, we suspect that there might be a bug somewhere. The data retrieval and checking part is kept very minimal here to reduce the number of places where something might go wrong."
   ]
  },
  {
   "cell_type": "markdown",
   "metadata": {},
   "source": [
    "## Retrieving the data\n",
    "\n",
    "We're only checking how many users have addons installed, so this the only attribute we need to retrieve."
   ]
  },
  {
   "cell_type": "code",
   "execution_count": null,
   "metadata": {
    "collapsed": false,
    "scrolled": true
   },
   "outputs": [],
   "source": [
    "frame = sqlContext.sql(\"\"\"\n",
    "SELECT map_keys(active_addons[0]) as installed_addons\n",
    "FROM longitudinal\n",
    "WHERE normalized_channel='release' AND build IS NOT NULL AND build[0].application_name='Firefox'\n",
    "\"\"\")\n",
    "\n",
    "rdd = frame.rdd"
   ]
  },
  {
   "cell_type": "code",
   "execution_count": null,
   "metadata": {
    "collapsed": false
   },
   "outputs": [],
   "source": [
    "total_count = float(rdd.count())"
   ]
  },
  {
   "cell_type": "markdown",
   "metadata": {},
   "source": [
    "## Handling the case where no information is available\n",
    "\n",
    "If `installed_addons` is `None`, then we want to default to an empty list to clean the data up a little bit."
   ]
  },
  {
   "cell_type": "code",
   "execution_count": null,
   "metadata": {
    "collapsed": false
   },
   "outputs": [],
   "source": [
    "def complete_client(client):\n",
    "    client = client.asDict()\n",
    "    client['installed_addons'] = client['installed_addons'] or []\n",
    "    return client"
   ]
  },
  {
   "cell_type": "code",
   "execution_count": null,
   "metadata": {
    "collapsed": false
   },
   "outputs": [],
   "source": [
    "rdd_completed = rdd.map(complete_client).cache()"
   ]
  },
  {
   "cell_type": "markdown",
   "metadata": {},
   "source": [
    "## Counting what portion of users have any addons installed"
   ]
  },
  {
   "cell_type": "code",
   "execution_count": 9,
   "metadata": {
    "collapsed": false
   },
   "outputs": [
    {
     "data": {
      "text/plain": [
       "0.9572791964475295"
      ]
     },
     "execution_count": 9,
     "metadata": {},
     "output_type": "execute_result"
    }
   ],
   "source": [
    "rdd_completed.filter(lambda client: len(client['installed_addons']) > 0).count() / total_count"
   ]
  },
  {
   "cell_type": "markdown",
   "metadata": {},
   "source": [
    "## Counting what portion of users have whitelisted addons installed"
   ]
  },
  {
   "cell_type": "markdown",
   "metadata": {},
   "source": [
    "### Loading the whitelist\n",
    "\n",
    "This function is copied over from the [TAAR utils](https://github.com/mozilla/python_mozetl/blob/master/mozetl/taar/taar_utils.py#L56) in python_mozetl."
   ]
  },
  {
   "cell_type": "code",
   "execution_count": 8,
   "metadata": {
    "collapsed": true
   },
   "outputs": [],
   "source": [
    "import boto3\n",
    "import json\n",
    "import logging\n",
    "\n",
    "from botocore.exceptions import ClientError\n",
    "\n",
    "logging.basicConfig(level=logging.INFO)\n",
    "logger = logging.getLogger(__name__)\n",
    "\n",
    "AMO_DUMP_BUCKET = 'telemetry-parquet'\n",
    "AMO_DUMP_KEY = 'telemetry-ml/addon_recommender/addons_database.json'"
   ]
  },
  {
   "cell_type": "code",
   "execution_count": 9,
   "metadata": {
    "collapsed": true
   },
   "outputs": [],
   "source": [
    "def load_amo_dump():\n",
    "    amo_dump = {}\n",
    "    \n",
    "    try:\n",
    "        # Load the most current AMO dump JSON resource.\n",
    "        s3 = boto3.client('s3')\n",
    "        s3_contents = s3.get_object(Bucket=AMO_DUMP_BUCKET, Key=AMO_DUMP_KEY)\n",
    "        return json.loads(s3_contents['Body'].read())\n",
    "    except ClientError:\n",
    "        logger.exception(\"Failed to download from S3\", extra={\n",
    "            \"bucket\": AMO_DUMP_BUCKET,\n",
    "            \"key\": AMO_DUMP_KEY})"
   ]
  },
  {
   "cell_type": "code",
   "execution_count": 10,
   "metadata": {
    "collapsed": true
   },
   "outputs": [],
   "source": [
    "def load_amo_external_whitelist():\n",
    "    amo_dump = load_amo_dump()\n",
    "    final_whitelist = []\n",
    "\n",
    "    # If the load fails, we will have an empty whitelist, this may be problematic.\n",
    "    for key, value in amo_dump.items():\n",
    "        addon_files = value.get('current_version', {}).get('files', {})\n",
    "        # If any of the addon files are web_extensions compatible, it can be recommended.\n",
    "        if any([f.get(\"is_webextension\", False) for f in addon_files]):\n",
    "            final_whitelist.append(value['guid'])\n",
    "\n",
    "    if len(final_whitelist) == 0:\n",
    "        raise RuntimeError(\"Empty AMO whitelist detected\")\n",
    "\n",
    "    return final_whitelist"
   ]
  },
  {
   "cell_type": "markdown",
   "metadata": {},
   "source": [
    "To allow efficient access, we're converting the list into a set."
   ]
  },
  {
   "cell_type": "code",
   "execution_count": 13,
   "metadata": {
    "collapsed": false,
    "scrolled": true
   },
   "outputs": [
    {
     "name": "stderr",
     "output_type": "stream",
     "text": [
      "INFO:botocore.vendored.requests.packages.urllib3.connectionpool:Starting new HTTPS connection (1): s3-us-west-2.amazonaws.com\n"
     ]
    }
   ],
   "source": [
    "whitelist = set(load_amo_external_whitelist())"
   ]
  },
  {
   "cell_type": "markdown",
   "metadata": {},
   "source": [
    "To filter for addons that are in the whitelist, we then simply take the intersection with the whitelist."
   ]
  },
  {
   "cell_type": "code",
   "execution_count": 14,
   "metadata": {
    "collapsed": true
   },
   "outputs": [],
   "source": [
    "def whitelist_filter(installed_addons):\n",
    "    return whitelist.intersection(installed_addons)"
   ]
  },
  {
   "cell_type": "markdown",
   "metadata": {},
   "source": [
    "### Counting"
   ]
  },
  {
   "cell_type": "code",
   "execution_count": 15,
   "metadata": {
    "collapsed": false
   },
   "outputs": [
    {
     "data": {
      "text/plain": [
       "0.08391272036820069"
      ]
     },
     "execution_count": 15,
     "metadata": {},
     "output_type": "execute_result"
    }
   ],
   "source": [
    "rdd_completed.filter(lambda client: len(whitelist_filter(client['installed_addons'])) > 0).count() / total_count"
   ]
  },
  {
   "cell_type": "markdown",
   "metadata": {},
   "source": [
    "$\\implies$ The collaborative filter can make recommendations for about 8.4% of users in the longitudinal dataset. The above is a minimal example for reproducing this number."
   ]
  },
  {
   "cell_type": "markdown",
   "metadata": {},
   "source": [
    "---\n",
    "\n",
    "In the remainder of the notebook, we will analyze the data with the goal of finding something that explains what might be going wrong or why this number is so low. This process can be divided into two sections:\n",
    "\n",
    "1. Focusing on the addons installed by users in longitudinal\n",
    "2. Focusing on the users themselves"
   ]
  },
  {
   "cell_type": "markdown",
   "metadata": {},
   "source": [
    "## Analysing the installed addons"
   ]
  },
  {
   "cell_type": "code",
   "execution_count": 18,
   "metadata": {
    "collapsed": true
   },
   "outputs": [],
   "source": [
    "from operator import add, itemgetter"
   ]
  },
  {
   "cell_type": "code",
   "execution_count": 1,
   "metadata": {
    "collapsed": false
   },
   "outputs": [
    {
     "name": "stdout",
     "output_type": "stream",
     "text": [
      "CPU times: user 4 ms, sys: 0 ns, total: 4 ms\n",
      "Wall time: 6.69 s\n"
     ]
    }
   ],
   "source": [
    "%%time\n",
    "addon_frame = sqlContext.sql(\"\"\"\n",
    "WITH valid_clients AS (\n",
    "    SELECT *\n",
    "    FROM longitudinal\n",
    "    WHERE normalized_channel='release' AND build IS NOT NULL AND build[0].application_name='Firefox'\n",
    "),\n",
    "\n",
    "addons AS (\n",
    "    SELECT\n",
    "        f.key as addon_id,\n",
    "        f.value.blocklisted,\n",
    "        f.value.type,\n",
    "        f.value.user_disabled,\n",
    "        f.value.app_disabled,\n",
    "        f.value.is_system\n",
    "    FROM valid_clients\n",
    "    LATERAL VIEW explode(active_addons[0]) f\n",
    ")\n",
    "\n",
    "SELECT DISTINCT\n",
    "    addon_id,\n",
    "    type,\n",
    "    is_system\n",
    "FROM addons\n",
    "\"\"\")\n",
    "\n",
    "addon_rdd = addon_frame.rdd"
   ]
  },
  {
   "cell_type": "code",
   "execution_count": 2,
   "metadata": {
    "collapsed": true
   },
   "outputs": [],
   "source": [
    "addon_rdd = addon_rdd.cache()"
   ]
  },
  {
   "cell_type": "markdown",
   "metadata": {},
   "source": [
    "The number of different installed addons is 1.5 times as large as the number of addons in the AMO dump and 6 times larger than the AMO whitelist."
   ]
  },
  {
   "cell_type": "markdown",
   "metadata": {},
   "source": [
    "### Comparing AMO dump, AMO whitelist and longitudinal"
   ]
  },
  {
   "cell_type": "code",
   "execution_count": 6,
   "metadata": {
    "collapsed": false,
    "scrolled": true
   },
   "outputs": [
    {
     "data": {
      "text/plain": [
       "32590"
      ]
     },
     "execution_count": 6,
     "metadata": {},
     "output_type": "execute_result"
    }
   ],
   "source": [
    "addon_rdd.count()"
   ]
  },
  {
   "cell_type": "code",
   "execution_count": 11,
   "metadata": {
    "collapsed": false
   },
   "outputs": [
    {
     "name": "stderr",
     "output_type": "stream",
     "text": [
      "INFO:botocore.vendored.requests.packages.urllib3.connectionpool:Starting new HTTP connection (1): 169.254.169.254\n",
      "INFO:botocore.vendored.requests.packages.urllib3.connectionpool:Starting new HTTP connection (1): 169.254.169.254\n",
      "INFO:botocore.vendored.requests.packages.urllib3.connectionpool:Starting new HTTPS connection (1): s3-us-west-2.amazonaws.com\n"
     ]
    },
    {
     "data": {
      "text/plain": [
       "20686"
      ]
     },
     "execution_count": 11,
     "metadata": {},
     "output_type": "execute_result"
    }
   ],
   "source": [
    "amo_dump = load_amo_dump()\n",
    "len(amo_dump)"
   ]
  },
  {
   "cell_type": "code",
   "execution_count": 14,
   "metadata": {
    "collapsed": false
   },
   "outputs": [
    {
     "data": {
      "text/plain": [
       "4830"
      ]
     },
     "execution_count": 14,
     "metadata": {},
     "output_type": "execute_result"
    }
   ],
   "source": [
    "len(whitelist)"
   ]
  },
  {
   "cell_type": "markdown",
   "metadata": {},
   "source": [
    "Nearly none of these installed addons are marked as system addons."
   ]
  },
  {
   "cell_type": "code",
   "execution_count": 30,
   "metadata": {
    "collapsed": false,
    "scrolled": true
   },
   "outputs": [
    {
     "data": {
      "text/plain": [
       "60"
      ]
     },
     "execution_count": 30,
     "metadata": {},
     "output_type": "execute_result"
    }
   ],
   "source": [
    "addon_rdd.filter(lambda addon: addon['is_system']).count()"
   ]
  },
  {
   "cell_type": "markdown",
   "metadata": {},
   "source": [
    "Only about half of the addons in the AMO whitelist / AMO dump are actually installed by users in longitudinal."
   ]
  },
  {
   "cell_type": "code",
   "execution_count": 15,
   "metadata": {
    "collapsed": false,
    "scrolled": true
   },
   "outputs": [
    {
     "data": {
      "text/plain": [
       "2932"
      ]
     },
     "execution_count": 15,
     "metadata": {},
     "output_type": "execute_result"
    }
   ],
   "source": [
    "addon_rdd.filter(lambda addon: addon['addon_id'] in whitelist).count()"
   ]
  },
  {
   "cell_type": "code",
   "execution_count": 16,
   "metadata": {
    "collapsed": false
   },
   "outputs": [
    {
     "data": {
      "text/plain": [
       "13086"
      ]
     },
     "execution_count": 16,
     "metadata": {},
     "output_type": "execute_result"
    }
   ],
   "source": [
    "addon_rdd.filter(lambda addon: addon['addon_id'] in amo_dump).count()"
   ]
  },
  {
   "cell_type": "markdown",
   "metadata": {},
   "source": [
    "Most addons are extensions."
   ]
  },
  {
   "cell_type": "code",
   "execution_count": 19,
   "metadata": {
    "collapsed": false
   },
   "outputs": [
    {
     "data": {
      "text/plain": [
       "[(u'extension', 32414), (u'service', 176)]"
      ]
     },
     "execution_count": 19,
     "metadata": {},
     "output_type": "execute_result"
    }
   ],
   "source": [
    "addon_rdd\\\n",
    "    .map(lambda addon: addon['type'])\\\n",
    "    .map(lambda x: (x, 1))\\\n",
    "    .reduceByKey(add)\\\n",
    "    .collect()"
   ]
  },
  {
   "cell_type": "markdown",
   "metadata": {},
   "source": [
    "### Addon installation numbers"
   ]
  },
  {
   "cell_type": "code",
   "execution_count": 20,
   "metadata": {
    "collapsed": true
   },
   "outputs": [],
   "source": [
    "def make_count_relative((addon_id, count)):\n",
    "    return addon_id, count / total_count"
   ]
  },
  {
   "cell_type": "code",
   "execution_count": 27,
   "metadata": {
    "collapsed": false,
    "scrolled": true
   },
   "outputs": [],
   "source": [
    "addon_installations = rdd_completed\\\n",
    "    .flatMap(lambda client: client['installed_addons'])\\\n",
    "    .map(lambda x: (x, 1))\\\n",
    "    .reduceByKey(add)\\\n",
    "    .sortBy(itemgetter(1), ascending=False)"
   ]
  },
  {
   "cell_type": "code",
   "execution_count": 29,
   "metadata": {
    "collapsed": true
   },
   "outputs": [],
   "source": [
    "relative_addon_installations = addon_installations.map(make_count_relative)"
   ]
  },
  {
   "cell_type": "markdown",
   "metadata": {},
   "source": [
    "Nearly all commonly installed \"addons\" are from Mozilla. The numbers below signal the portion of users in longitudinal that have the respective addon installed."
   ]
  },
  {
   "cell_type": "code",
   "execution_count": 145,
   "metadata": {
    "collapsed": false,
    "scrolled": true
   },
   "outputs": [
    {
     "data": {
      "text/plain": [
       "[(u'e10srollout@mozilla.org', 0.9019161405118644),\n",
       " (u'firefox@getpocket.com', 0.9001984617871058),\n",
       " (u'webcompat@mozilla.org', 0.7932876102703783),\n",
       " (u'aushelper@mozilla.org', 0.7670258919482421),\n",
       " (u'shield-recipe-client@mozilla.org', 0.5063638369074583),\n",
       " (u'screenshots@mozilla.org', 0.5051013334701859),\n",
       " (u'followonsearch@mozilla.com', 0.4754657264689504),\n",
       " (u'clicktoplay-rollout@mozilla.org', 0.3466999504420007),\n",
       " (u'onboarding@mozilla.org', 0.2429986879002651),\n",
       " (u'loop@mozilla.org', 0.1300457051904153),\n",
       " (u'{d10d0bf8-f5b5-c8b4-a8b2-2b9879e08c5d}', 0.07368669386867206),\n",
       " (u'websensehelper@mozilla.org', 0.06432390863251326),\n",
       " (u'deployment-checker@mozilla.org', 0.05472443990652151),\n",
       " (u'firefox-hotfix@mozilla.org', 0.04926329391417045),\n",
       " (u'ubufox@ubuntu.com', 0.04774419187141576),\n",
       " (u'disable-prefetch@mozilla.org', 0.03743926847184424),\n",
       " (u'cpmanager@mozillaonline.com', 0.03686173011801238),\n",
       " (u'cehomepage@mozillaonline.com', 0.03634585202609493),\n",
       " (u'easyscreenshot@mozillaonline.com', 0.034834026660212125),\n",
       " (u'tabtweak@mozillaonline.com', 0.03452878921458614)]"
      ]
     },
     "execution_count": 145,
     "metadata": {},
     "output_type": "execute_result"
    }
   ],
   "source": [
    "relative_addon_installations.take(20)"
   ]
  },
  {
   "cell_type": "markdown",
   "metadata": {},
   "source": [
    "Whitelisted addons are quite rarely installed. µBlock is the only whitelisted addon that's installed by more than 1% of longitudinal users."
   ]
  },
  {
   "cell_type": "code",
   "execution_count": 30,
   "metadata": {
    "collapsed": false
   },
   "outputs": [
    {
     "data": {
      "text/plain": [
       "[(u'uBlock0@raymondhill.net', 0.017165844590104836),\n",
       " (u'yasearch@yandex.ru', 0.009619746946045402),\n",
       " (u'sovetnik@metabar.ru', 0.00874980714679604),\n",
       " (u'abb@amazon.com', 0.004120375532924052),\n",
       " (u'firefox@ghostery.com', 0.003969720901315679),\n",
       " (u'ciscowebexstart1@cisco.com', 0.0033363604285083625),\n",
       " (u'jid1-NIfFY2CA8fy1tg@jetpack', 0.002819093765609653),\n",
       " (u'87677a2c52b84ad3a151a4a72f5bd3c4@jetpack', 0.0025792683951405574),\n",
       " (u'jid0-GXjLLfbCoAx0LcltEdFrEkQdQPI@jetpack', 0.00241792091261955),\n",
       " (u'{7b1bf0b6-a1b9-42b0-b75d-252036438bdc}', 0.0020224763726183585),\n",
       " (u'idsafe@norton.com', 0.001990206876114157),\n",
       " (u'firefox@browser-security.de', 0.0018710579659447974),\n",
       " (u'adblockultimate@adblockultimate.net', 0.0018160661612512468),\n",
       " (u'jid1-MnnxcxisBPnSXQ@jetpack', 0.0017391158234335356),\n",
       " (u'{a0d7ccb3-214d-498b-b4aa-0e8fda9a7bf7}', 0.0015623018958424667),\n",
       " (u'jid1-HAV2inXAnQPIeA@jetpack', 0.0015491267759679703),\n",
       " (u'{b9acf540-acba-11e1-8ccb-001fd0e08bd4}', 0.001486688164388835),\n",
       " (u'jid1-q4sG8pYhq8KGHs@jetpack', 0.001464156799965783),\n",
       " (u'adguardadblocker@adguard.com', 0.001400763469555162),\n",
       " (u'{E0B8C461-F8FB-49b4-8373-FE32E9252800}', 0.0013217127503081833)]"
      ]
     },
     "execution_count": 30,
     "metadata": {},
     "output_type": "execute_result"
    }
   ],
   "source": [
    "relative_addon_installations\\\n",
    "    .filter(lambda (addon_id, _): addon_id in whitelist)\\\n",
    "    .take(20)"
   ]
  },
  {
   "cell_type": "markdown",
   "metadata": {},
   "source": [
    "The total number of installed, whitelisted addons is just a bit larger than the number of users that have whitelisted addons installed, just as expected."
   ]
  },
  {
   "cell_type": "code",
   "execution_count": 147,
   "metadata": {
    "collapsed": false
   },
   "outputs": [
    {
     "data": {
      "text/plain": [
       "594175"
      ]
     },
     "execution_count": 147,
     "metadata": {},
     "output_type": "execute_result"
    }
   ],
   "source": [
    "addon_installations.filter(lambda (addon_id, installation_number): addon_id in whitelist).map(itemgetter(1)).reduce(add)"
   ]
  },
  {
   "cell_type": "markdown",
   "metadata": {},
   "source": [
    "There are some very common addons that are in the AMO dump but not whitelisted. I went through some of the most popular ones and they were indeed all legacy addons."
   ]
  },
  {
   "cell_type": "code",
   "execution_count": 149,
   "metadata": {
    "collapsed": false
   },
   "outputs": [
    {
     "data": {
      "text/plain": [
       "[(u'{d10d0bf8-f5b5-c8b4-a8b2-2b9879e08c5d}', 0.07368669386867206),\n",
       " (u'firefox-hotfix@mozilla.org', 0.04926329391417045),\n",
       " (u'easyscreenshot@mozillaonline.com', 0.034834026660212125),\n",
       " (u'{b9db16a4-6edc-47ec-a1f4-b86292ed211d}', 0.02154011248976478),\n",
       " (u'vb@yandex.ru', 0.01724955401630435),\n",
       " (u'firebug@software.joehewitt.com', 0.008455690016629122),\n",
       " (u'{DDC359D1-844A-42a7-9AA1-88A850A938A8}', 0.004857947777970971),\n",
       " (u'{82AF8DCA-6DE9-405D-BD5E-43525BDAD38A}', 0.004712414240533235),\n",
       " (u'artur.dubovoy@gmail.com', 0.004010597905389413),\n",
       " (u'{73a6fe31-595d-460b-a920-fcc0f8843232}', 0.0039834061128681516),\n",
       " (u'{e4a8a97b-f2ed-450b-b12d-ee082ba24781}', 0.003890724228499909),\n",
       " (u'support@lastpass.com', 0.003669743041390504),\n",
       " (u'YoutubeDownloader@PeterOlayev.com', 0.00326110018758507),\n",
       " (u'translator@zoli.bod', 0.0030824386212305855),\n",
       " (u'{bee6eb20-01e0-ebd1-da83-080329fb9a3a}', 0.0028177973728898595),\n",
       " (u'@all-aboard-v1-6', 0.002641433704494918),\n",
       " (u'{19503e42-ca3c-4c27-b1e2-9cdb2170ee34}', 0.002594518287820911),\n",
       " (u'quicklaunch@mozillaonline.com', 0.0025282622299874153),\n",
       " (u'client@anonymox.net', 0.002298663925529723),\n",
       " (u'{dc572301-7619-498c-a57d-39143191b318}', 0.002281046707839892)]"
      ]
     },
     "execution_count": 149,
     "metadata": {},
     "output_type": "execute_result"
    }
   ],
   "source": [
    "addon_installations\\\n",
    "    .filter(lambda (addon_id, _): addon_id in amo_dump and addon_id not in whitelist)\\\n",
    "    .map(make_count_relative)\\\n",
    "    .take(20)"
   ]
  },
  {
   "cell_type": "markdown",
   "metadata": {},
   "source": [
    "## Analyzing users"
   ]
  },
  {
   "cell_type": "code",
   "execution_count": 161,
   "metadata": {
    "collapsed": true
   },
   "outputs": [],
   "source": [
    "import matplotlib.pyplot as plt\n",
    "import seaborn as sns\n",
    "%matplotlib inline"
   ]
  },
  {
   "cell_type": "markdown",
   "metadata": {},
   "source": [
    "Most users have zero whitelisted addons installed. The remaining distribution is similar to zipf/exponential, as expected."
   ]
  },
  {
   "cell_type": "code",
   "execution_count": 188,
   "metadata": {
    "collapsed": false,
    "scrolled": true
   },
   "outputs": [
    {
     "data": {
      "text/plain": [
       "[(1, 0.06343730300312285),\n",
       " (2, 0.014209243524332059),\n",
       " (3, 0.0035713164121234033),\n",
       " (4, 0.001268056690674594),\n",
       " (5, 0.0005176015153871077),\n",
       " (6, 0.00021657688268694741),\n",
       " (7, 0.00011317147450750302),\n",
       " (8, 5.706446599532301e-05),\n",
       " (9, 2.987267347406171e-05),\n",
       " (41, 1.914914966286007e-07),\n",
       " (10, 1.7234234696574063e-05),\n",
       " (11, 1.3212913267373448e-05),\n",
       " (12, 7.276676871886827e-06),\n",
       " (13, 5.170270408972219e-06),\n",
       " (14, 4.021321429200615e-06),\n",
       " (15, 3.0638639460576112e-06),\n",
       " (16, 2.8723724494290105e-06),\n",
       " (17, 1.340440476400205e-06),\n",
       " (18, 9.574574831430035e-07),\n",
       " (19, 7.659659865144028e-07),\n",
       " (20, 3.829829932572014e-07),\n",
       " (21, 3.829829932572014e-07),\n",
       " (22, 1.914914966286007e-07),\n",
       " (24, 3.829829932572014e-07),\n",
       " (25, 1.914914966286007e-07),\n",
       " (27, 3.829829932572014e-07),\n",
       " (28, 1.914914966286007e-07)]"
      ]
     },
     "execution_count": 188,
     "metadata": {},
     "output_type": "execute_result"
    }
   ],
   "source": [
    "installed_addons_by_user = rdd_completed\\\n",
    "    .map(itemgetter('installed_addons'))\\\n",
    "    .map(whitelist_filter)\\\n",
    "    .map(len)\\\n",
    "    .filter(lambda count: count > 0)\\\n",
    "    .map(lambda x: (x, 1))\\\n",
    "    .reduceByKey(add)\\\n",
    "    .map(make_count_relative)\\\n",
    "    .collect()\n",
    "    \n",
    "installed_addons_by_user"
   ]
  },
  {
   "cell_type": "code",
   "execution_count": 191,
   "metadata": {
    "collapsed": false,
    "scrolled": true
   },
   "outputs": [
    {
     "data": {
      "text/plain": [
       "<matplotlib.text.Text at 0x7f91a1050b10>"
      ]
     },
     "execution_count": 191,
     "metadata": {},
     "output_type": "execute_result"
    },
    {
     "data": {
      "image/png": "[encoded data removed]",
      "text/plain": [
       "<matplotlib.figure.Figure at 0x7f91a10d4f50>"
      ]
     },
     "metadata": {},
     "output_type": "display_data"
    }
   ],
   "source": [
    "x, y = zip(*installed_addons_by_user)\n",
    "plt.bar(x, y, width=1.)\n",
    "plt.title(\"Whitelisted, installed addons in longitudinal\")\n",
    "plt.xlabel(\"Number of addons\")\n",
    "plt.ylabel(\"Portion of installed addons\")"
   ]
  },
  {
   "cell_type": "markdown",
   "metadata": {},
   "source": [
    "### Focusing on users that have no whitelisted addons installed"
   ]
  },
  {
   "cell_type": "code",
   "execution_count": 171,
   "metadata": {
    "collapsed": true
   },
   "outputs": [],
   "source": [
    "users_without_webextensions = rdd_completed\\\n",
    "    .filter(lambda client: len(whitelist_filter(client['installed_addons'])) == 0)"
   ]
  },
  {
   "cell_type": "markdown",
   "metadata": {},
   "source": [
    "Users with no whitelisted addons generally have a lot of other addons installed."
   ]
  },
  {
   "cell_type": "code",
   "execution_count": 194,
   "metadata": {
    "collapsed": false,
    "scrolled": false
   },
   "outputs": [
    {
     "data": {
      "image/png": "[encoded data removed]",
      "text/plain": [
       "<matplotlib.figure.Figure at 0x7f9194902310>"
      ]
     },
     "metadata": {},
     "output_type": "display_data"
    },
    {
     "data": {
      "image/png": "[encoded data removed]",
      "text/plain": [
       "<matplotlib.figure.Figure at 0x7f91a10bfed0>"
      ]
     },
     "metadata": {},
     "output_type": "display_data"
    }
   ],
   "source": [
    "installed_addons_by_user = users_without_webextensions\\\n",
    "    .map(itemgetter('installed_addons'))\\\n",
    "    .map(len)\n",
    "\n",
    "addon_counts = installed_addons_by_user\\\n",
    "    .map(lambda x: (x, 1))\\\n",
    "    .reduceByKey(add)\\\n",
    "    .map(make_count_relative)\n",
    "    \n",
    "x, y = zip(*addon_counts.collect())\n",
    "plt.bar(x, y, width=1.)\n",
    "plt.title(\"Addons installed by users without whitelisted addons\")\n",
    "plt.xlabel(\"Number of addons\")\n",
    "plt.ylabel(\"Portion of installed addons\")\n",
    "plt.show()\n",
    "\n",
    "addon_counts_restricted = addon_counts\\\n",
    "    .filter(lambda (num_installed_addons, _): num_installed_addons < 20)\\\n",
    "    \n",
    "x, y = zip(*addon_counts_restricted.collect())\n",
    "plt.bar(x, y, width=1.)\n",
    "plt.title(\"Addons installed by users without whitelisted addons\")\n",
    "plt.xlabel(\"Number of addons\")\n",
    "plt.ylabel(\"Portion of installed addons\")\n",
    "plt.show()"
   ]
  },
  {
   "cell_type": "markdown",
   "metadata": {},
   "source": [
    "Most of these addons are from Mozilla, as shown in the previous section. By filtering for addons that are part of the AMO dump, we get a distribution that's similar to the one we've seen before.\n",
    "\n",
    "This means that these users have a normal number of legacy addons installed."
   ]
  },
  {
   "cell_type": "code",
   "execution_count": 195,
   "metadata": {
    "collapsed": false
   },
   "outputs": [
    {
     "data": {
      "image/png": "[encoded data removed]",
      "text/plain": [
       "<matplotlib.figure.Figure at 0x7f91a0263d10>"
      ]
     },
     "metadata": {},
     "output_type": "display_data"
    }
   ],
   "source": [
    "installed_addons_by_user = users_without_webextensions\\\n",
    "    .map(itemgetter('installed_addons'))\\\n",
    "    .map(lambda addons: [addon for addon in addons if addon in amo_dump])\\\n",
    "    .map(len)\n",
    "\n",
    "addon_counts = installed_addons_by_user\\\n",
    "    .map(lambda x: (x, 1))\\\n",
    "    .reduceByKey(add)\\\n",
    "    .map(make_count_relative)\n",
    "    \n",
    "x, y = zip(*addon_counts.collect())\n",
    "plt.bar(x, y, width=1.)\n",
    "plt.title(\"Addons in the AMO dump installed by users without whitelisted addons\")\n",
    "plt.xlabel(\"Number of addons\")\n",
    "plt.ylabel(\"Portion of installed addons\")\n",
    "plt.show()"
   ]
  }
 ],
 "metadata": {
  "anaconda-cloud": {},
  "kernelspec": {
   "display_name": "Python [default]",
   "language": "python",
   "name": "python2"
  },
  "language_info": {
   "codemirror_mode": {
    "name": "ipython",
    "version": 2
   },
   "file_extension": ".py",
   "mimetype": "text/x-python",
   "name": "python",
   "nbconvert_exporter": "python",
   "pygments_lexer": "ipython2",
   "version": "2.7.12"
  },
  "toc": {
   "nav_menu": {},
   "number_sections": false,
   "sideBar": true,
   "skip_h1_title": false,
   "toc_cell": false,
   "toc_position": {},
   "toc_section_display": "block",
   "toc_window_display": true
  }
 },
 "nbformat": 4,
 "nbformat_minor": 1
}
